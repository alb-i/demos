{
 "cells": [
  {
   "cell_type": "code",
   "execution_count": 1,
   "id": "7591c0ee-4593-4fc4-bd09-f4ec61cf50bd",
   "metadata": {},
   "outputs": [],
   "source": [
    "import pandas as pd"
   ]
  },
  {
   "cell_type": "code",
   "execution_count": 2,
   "id": "76aa2229-3163-4a87-9b20-701a47d71fc6",
   "metadata": {},
   "outputs": [],
   "source": [
    "data = pd.read_csv(\"XXdata.csv\")"
   ]
  },
  {
   "cell_type": "code",
   "execution_count": 3,
   "id": "911f18d7-d55c-4ff1-8a55-f3725341a820",
   "metadata": {},
   "outputs": [],
   "source": [
    "full = pd.read_csv(\"all.csv\")"
   ]
  },
  {
   "cell_type": "code",
   "execution_count": 4,
   "id": "8510963e-1613-4bcf-8de5-8cc471c12bd8",
   "metadata": {},
   "outputs": [
    {
     "name": "stdout",
     "output_type": "stream",
     "text": [
      "<class 'pandas.core.frame.DataFrame'>\n",
      "RangeIndex: 73282 entries, 0 to 73281\n",
      "Data columns (total 22 columns):\n",
      " #   Column               Non-Null Count  Dtype  \n",
      "---  ------               --------------  -----  \n",
      " 0   year                 73282 non-null  int64  \n",
      " 1    month               73282 non-null  int64  \n",
      " 2   carrier              73282 non-null  object \n",
      " 3   carrier_name         73282 non-null  object \n",
      " 4   airport              73282 non-null  object \n",
      " 5   airport_name         73282 non-null  object \n",
      " 6   arr_flights          73240 non-null  float64\n",
      " 7   arr_del15            73211 non-null  float64\n",
      " 8   carrier_ct           73240 non-null  float64\n",
      " 9    weather_ct          73240 non-null  float64\n",
      " 10  nas_ct               73240 non-null  float64\n",
      " 11  security_ct          73240 non-null  float64\n",
      " 12  late_aircraft_ct     73240 non-null  float64\n",
      " 13  arr_cancelled        73240 non-null  float64\n",
      " 14  arr_diverted         73240 non-null  float64\n",
      " 15   arr_delay           73240 non-null  float64\n",
      " 16   carrier_delay       73240 non-null  float64\n",
      " 17  weather_delay        73240 non-null  float64\n",
      " 18  nas_delay            73240 non-null  float64\n",
      " 19  security_delay       73240 non-null  float64\n",
      " 20  late_aircraft_delay  73240 non-null  float64\n",
      " 21  Unnamed: 21          0 non-null      float64\n",
      "dtypes: float64(16), int64(2), object(4)\n",
      "memory usage: 12.3+ MB\n"
     ]
    }
   ],
   "source": [
    "data.info()"
   ]
  },
  {
   "cell_type": "code",
   "execution_count": 5,
   "id": "cb6e1299-af16-498b-a45a-a61836df99ed",
   "metadata": {},
   "outputs": [
    {
     "name": "stdout",
     "output_type": "stream",
     "text": [
      "<class 'pandas.core.frame.DataFrame'>\n",
      "RangeIndex: 317699 entries, 0 to 317698\n",
      "Data columns (total 21 columns):\n",
      " #   Column               Non-Null Count   Dtype  \n",
      "---  ------               --------------   -----  \n",
      " 0   year                 317699 non-null  int64  \n",
      " 1   month                317699 non-null  int64  \n",
      " 2   carrier              317699 non-null  object \n",
      " 3   carrier_name         317699 non-null  object \n",
      " 4   airport              317699 non-null  object \n",
      " 5   airport_name         317699 non-null  object \n",
      " 6   arr_flights          317213 non-null  float64\n",
      " 7   arr_del15            316979 non-null  float64\n",
      " 8   carrier_ct           317213 non-null  float64\n",
      " 9   weather_ct           317213 non-null  float64\n",
      " 10  nas_ct               317213 non-null  float64\n",
      " 11  security_ct          317213 non-null  float64\n",
      " 12  late_aircraft_ct     317213 non-null  float64\n",
      " 13  arr_cancelled        317213 non-null  float64\n",
      " 14  arr_diverted         317213 non-null  float64\n",
      " 15  arr_delay            317213 non-null  float64\n",
      " 16  carrier_delay        317213 non-null  float64\n",
      " 17  weather_delay        317213 non-null  float64\n",
      " 18  nas_delay            317213 non-null  float64\n",
      " 19  security_delay       317213 non-null  float64\n",
      " 20  late_aircraft_delay  317213 non-null  float64\n",
      "dtypes: float64(15), int64(2), object(4)\n",
      "memory usage: 50.9+ MB\n"
     ]
    }
   ],
   "source": [
    "full.info()"
   ]
  },
  {
   "cell_type": "code",
   "execution_count": null,
   "id": "056391e3-e8ab-4479-84da-b1340be280f5",
   "metadata": {},
   "outputs": [],
   "source": []
  },
  {
   "cell_type": "code",
   "execution_count": 6,
   "id": "f5e9323a-ff1a-44a3-9898-498161c71b1a",
   "metadata": {},
   "outputs": [
    {
     "data": {
      "text/plain": [
       "Index(['year', ' month', 'carrier', 'carrier_name', 'airport', 'airport_name',\n",
       "       'arr_flights', 'arr_del15', 'carrier_ct', ' weather_ct', 'nas_ct',\n",
       "       'security_ct', 'late_aircraft_ct', 'arr_cancelled', 'arr_diverted',\n",
       "       ' arr_delay', ' carrier_delay', 'weather_delay', 'nas_delay',\n",
       "       'security_delay', 'late_aircraft_delay', 'Unnamed: 21'],\n",
       "      dtype='object')"
      ]
     },
     "execution_count": 6,
     "metadata": {},
     "output_type": "execute_result"
    }
   ],
   "source": [
    "data.columns"
   ]
  },
  {
   "cell_type": "code",
   "execution_count": 15,
   "id": "6508e33e-95d3-471a-a1a7-1bcd5668f852",
   "metadata": {},
   "outputs": [
    {
     "data": {
      "text/plain": [
       "year                   73282\n",
       " month                 73282\n",
       "carrier                73282\n",
       "carrier_name           73282\n",
       "airport                73282\n",
       "airport_name           73282\n",
       "arr_flights            73240\n",
       "arr_del15              73211\n",
       "carrier_ct             73240\n",
       " weather_ct            73240\n",
       "nas_ct                 73240\n",
       "security_ct            73240\n",
       "late_aircraft_ct       73240\n",
       "arr_cancelled          73240\n",
       "arr_diverted           73240\n",
       " arr_delay             73240\n",
       " carrier_delay         73240\n",
       "weather_delay          73240\n",
       "nas_delay              73240\n",
       "security_delay         73240\n",
       "late_aircraft_delay    73240\n",
       "Unnamed: 21                0\n",
       "dtype: int64"
      ]
     },
     "execution_count": 15,
     "metadata": {},
     "output_type": "execute_result"
    }
   ],
   "source": [
    "data.count()"
   ]
  },
  {
   "cell_type": "code",
   "execution_count": 14,
   "id": "07396a77-489f-4395-bc54-9d6aa9cb25b5",
   "metadata": {},
   "outputs": [
    {
     "data": {
      "text/plain": [
       "year                   73282\n",
       " month                 73282\n",
       "carrier                73282\n",
       "carrier_name           73282\n",
       "airport                73282\n",
       "airport_name           73282\n",
       "arr_flights            73240\n",
       "arr_del15              73211\n",
       "carrier_ct             73240\n",
       " weather_ct            73240\n",
       "nas_ct                 73240\n",
       "security_ct            73240\n",
       "late_aircraft_ct       73240\n",
       "arr_cancelled          73240\n",
       "arr_diverted           73240\n",
       " arr_delay             73240\n",
       " carrier_delay         73240\n",
       "weather_delay          73240\n",
       "nas_delay              73240\n",
       "security_delay         73240\n",
       "late_aircraft_delay    73240\n",
       "Unnamed: 21                0\n",
       "dtype: int64"
      ]
     },
     "execution_count": 14,
     "metadata": {},
     "output_type": "execute_result"
    }
   ],
   "source": [
    "data.count()"
   ]
  },
  {
   "cell_type": "code",
   "execution_count": 18,
   "id": "db91e119-b4db-4c83-b816-699aec0460c7",
   "metadata": {},
   "outputs": [
    {
     "data": {
      "text/plain": [
       "30"
      ]
     },
     "execution_count": 18,
     "metadata": {},
     "output_type": "execute_result"
    }
   ],
   "source": [
    "data.airport_name.unique().size"
   ]
  },
  {
   "cell_type": "code",
   "execution_count": 22,
   "id": "a7ffdd5d-29e7-42e7-8314-1dca737c11b3",
   "metadata": {},
   "outputs": [
    {
     "data": {
      "text/plain": [
       "year                       0\n",
       " month                     0\n",
       "carrier                    0\n",
       "carrier_name               0\n",
       "airport                    0\n",
       "airport_name               0\n",
       "arr_flights               42\n",
       "arr_del15                 71\n",
       "carrier_ct                42\n",
       " weather_ct               42\n",
       "nas_ct                    42\n",
       "security_ct               42\n",
       "late_aircraft_ct          42\n",
       "arr_cancelled             42\n",
       "arr_diverted              42\n",
       " arr_delay                42\n",
       " carrier_delay            42\n",
       "weather_delay             42\n",
       "nas_delay                 42\n",
       "security_delay            42\n",
       "late_aircraft_delay       42\n",
       "Unnamed: 21            73282\n",
       "dtype: int64"
      ]
     },
     "execution_count": 22,
     "metadata": {},
     "output_type": "execute_result"
    }
   ],
   "source": [
    "data.isna().sum()"
   ]
  },
  {
   "cell_type": "code",
   "execution_count": 23,
   "id": "20d8e89b-b40d-4852-afa0-d04af5c5aaa9",
   "metadata": {},
   "outputs": [
    {
     "data": {
      "text/plain": [
       "year                     0\n",
       "month                    0\n",
       "carrier                  0\n",
       "carrier_name             0\n",
       "airport                  0\n",
       "airport_name             0\n",
       "arr_flights            486\n",
       "arr_del15              720\n",
       "carrier_ct             486\n",
       "weather_ct             486\n",
       "nas_ct                 486\n",
       "security_ct            486\n",
       "late_aircraft_ct       486\n",
       "arr_cancelled          486\n",
       "arr_diverted           486\n",
       "arr_delay              486\n",
       "carrier_delay          486\n",
       "weather_delay          486\n",
       "nas_delay              486\n",
       "security_delay         486\n",
       "late_aircraft_delay    486\n",
       "dtype: int64"
      ]
     },
     "execution_count": 23,
     "metadata": {},
     "output_type": "execute_result"
    }
   ],
   "source": [
    "full.isna().sum()"
   ]
  },
  {
   "cell_type": "code",
   "execution_count": 25,
   "id": "bcd0de6f-8298-49a0-b2a6-cd841a86a45c",
   "metadata": {},
   "outputs": [
    {
     "ename": "TypeError",
     "evalue": "DataFrame.where() missing 1 required positional argument: 'cond'",
     "output_type": "error",
     "traceback": [
      "\u001b[0;31m---------------------------------------------------------------------------\u001b[0m",
      "\u001b[0;31mTypeError\u001b[0m                                 Traceback (most recent call last)",
      "\u001b[0;32m/tmp/ipykernel_31805/1861580558.py\u001b[0m in \u001b[0;36m<cell line: 1>\u001b[0;34m()\u001b[0m\n\u001b[0;32m----> 1\u001b[0;31m \u001b[0mfull\u001b[0m\u001b[0;34m[\u001b[0m\u001b[0mfull\u001b[0m\u001b[0;34m.\u001b[0m\u001b[0misna\u001b[0m\u001b[0;34m(\u001b[0m\u001b[0;34m)\u001b[0m\u001b[0;34m.\u001b[0m\u001b[0mwhere\u001b[0m\u001b[0;34m(\u001b[0m\u001b[0;34m)\u001b[0m\u001b[0;34m]\u001b[0m\u001b[0;34m\u001b[0m\u001b[0;34m\u001b[0m\u001b[0m\n\u001b[0m",
      "\u001b[0;32m~/mambaforge/envs/sage/lib/python3.10/site-packages/pandas/util/_decorators.py\u001b[0m in \u001b[0;36mwrapper\u001b[0;34m(*args, **kwargs)\u001b[0m\n\u001b[1;32m    309\u001b[0m                     \u001b[0mstacklevel\u001b[0m\u001b[0;34m=\u001b[0m\u001b[0mstacklevel\u001b[0m\u001b[0;34m,\u001b[0m\u001b[0;34m\u001b[0m\u001b[0;34m\u001b[0m\u001b[0m\n\u001b[1;32m    310\u001b[0m                 )\n\u001b[0;32m--> 311\u001b[0;31m             \u001b[0;32mreturn\u001b[0m \u001b[0mfunc\u001b[0m\u001b[0;34m(\u001b[0m\u001b[0;34m*\u001b[0m\u001b[0margs\u001b[0m\u001b[0;34m,\u001b[0m \u001b[0;34m**\u001b[0m\u001b[0mkwargs\u001b[0m\u001b[0;34m)\u001b[0m\u001b[0;34m\u001b[0m\u001b[0;34m\u001b[0m\u001b[0m\n\u001b[0m\u001b[1;32m    312\u001b[0m \u001b[0;34m\u001b[0m\u001b[0m\n\u001b[1;32m    313\u001b[0m         \u001b[0;32mreturn\u001b[0m \u001b[0mwrapper\u001b[0m\u001b[0;34m\u001b[0m\u001b[0;34m\u001b[0m\u001b[0m\n",
      "\u001b[0;31mTypeError\u001b[0m: DataFrame.where() missing 1 required positional argument: 'cond'"
     ]
    }
   ],
   "source": [
    "full[full.isna().where()]"
   ]
  },
  {
   "cell_type": "code",
   "execution_count": 30,
   "id": "34fb277d-56a9-4584-85e1-e3c4bb8ad00e",
   "metadata": {},
   "outputs": [
    {
     "data": {
      "text/plain": [
       "Int64Index([  4141,   4424,   4527,   4910,   4911,   4912,   5026,   5891,\n",
       "              6605,   9029,\n",
       "            ...\n",
       "            305936, 306575, 306584, 307340, 313070, 313724, 313730, 316538,\n",
       "            316552, 316626],\n",
       "           dtype='int64', length=720)"
      ]
     },
     "execution_count": 30,
     "metadata": {},
     "output_type": "execute_result"
    }
   ],
   "source": [
    "full.index[full.isna().any(axis=1)]"
   ]
  },
  {
   "cell_type": "code",
   "execution_count": 31,
   "id": "8bc6a9ba-72cf-4fc7-bf24-d01d29c54d59",
   "metadata": {},
   "outputs": [
    {
     "data": {
      "text/plain": [
       "Int64Index([    0,     1,     2,     3,     4,     5,     6,     7,     8,\n",
       "                9,\n",
       "            ...\n",
       "            73272, 73273, 73274, 73275, 73276, 73277, 73278, 73279, 73280,\n",
       "            73281],\n",
       "           dtype='int64', length=73282)"
      ]
     },
     "execution_count": 31,
     "metadata": {},
     "output_type": "execute_result"
    }
   ],
   "source": [
    "data.index[data.isna().any(axis=1)]"
   ]
  },
  {
   "cell_type": "code",
   "execution_count": 32,
   "id": "853cb73b-786e-4dff-9c0d-96532c5d73dc",
   "metadata": {},
   "outputs": [
    {
     "data": {
      "text/plain": [
       "0        True\n",
       "1        True\n",
       "2        True\n",
       "3        True\n",
       "4        True\n",
       "         ... \n",
       "73277    True\n",
       "73278    True\n",
       "73279    True\n",
       "73280    True\n",
       "73281    True\n",
       "Length: 73282, dtype: bool"
      ]
     },
     "execution_count": 32,
     "metadata": {},
     "output_type": "execute_result"
    }
   ],
   "source": [
    "data.isna().any(axis=1)"
   ]
  },
  {
   "cell_type": "code",
   "execution_count": 35,
   "id": "4e2afa6b-21ea-4dfa-b48f-d819d2049823",
   "metadata": {},
   "outputs": [
    {
     "data": {
      "text/html": [
       "<div>\n",
       "<style scoped>\n",
       "    .dataframe tbody tr th:only-of-type {\n",
       "        vertical-align: middle;\n",
       "    }\n",
       "\n",
       "    .dataframe tbody tr th {\n",
       "        vertical-align: top;\n",
       "    }\n",
       "\n",
       "    .dataframe thead th {\n",
       "        text-align: right;\n",
       "    }\n",
       "</style>\n",
       "<table border=\"1\" class=\"dataframe\">\n",
       "  <thead>\n",
       "    <tr style=\"text-align: right;\">\n",
       "      <th></th>\n",
       "      <th>year</th>\n",
       "      <th>month</th>\n",
       "      <th>carrier</th>\n",
       "      <th>carrier_name</th>\n",
       "      <th>airport</th>\n",
       "      <th>airport_name</th>\n",
       "      <th>arr_flights</th>\n",
       "      <th>arr_del15</th>\n",
       "      <th>carrier_ct</th>\n",
       "      <th>weather_ct</th>\n",
       "      <th>...</th>\n",
       "      <th>late_aircraft_ct</th>\n",
       "      <th>arr_cancelled</th>\n",
       "      <th>arr_diverted</th>\n",
       "      <th>arr_delay</th>\n",
       "      <th>carrier_delay</th>\n",
       "      <th>weather_delay</th>\n",
       "      <th>nas_delay</th>\n",
       "      <th>security_delay</th>\n",
       "      <th>late_aircraft_delay</th>\n",
       "      <th>Unnamed: 21</th>\n",
       "    </tr>\n",
       "  </thead>\n",
       "  <tbody>\n",
       "    <tr>\n",
       "      <th>0</th>\n",
       "      <td>2009</td>\n",
       "      <td>11</td>\n",
       "      <td>AS</td>\n",
       "      <td>Alaska Airlines Inc.</td>\n",
       "      <td>DCA</td>\n",
       "      <td>Washington, DC: Ronald Reagan Washington National</td>\n",
       "      <td>88.0</td>\n",
       "      <td>11.0</td>\n",
       "      <td>1.99</td>\n",
       "      <td>0.00</td>\n",
       "      <td>...</td>\n",
       "      <td>0.00</td>\n",
       "      <td>0.0</td>\n",
       "      <td>0.0</td>\n",
       "      <td>266.0</td>\n",
       "      <td>65.0</td>\n",
       "      <td>0.0</td>\n",
       "      <td>201.0</td>\n",
       "      <td>0.0</td>\n",
       "      <td>0.0</td>\n",
       "      <td>NaN</td>\n",
       "    </tr>\n",
       "    <tr>\n",
       "      <th>1</th>\n",
       "      <td>2009</td>\n",
       "      <td>11</td>\n",
       "      <td>AS</td>\n",
       "      <td>Alaska Airlines Inc.</td>\n",
       "      <td>DEN</td>\n",
       "      <td>Denver, CO: Denver International</td>\n",
       "      <td>123.0</td>\n",
       "      <td>5.0</td>\n",
       "      <td>3.47</td>\n",
       "      <td>0.00</td>\n",
       "      <td>...</td>\n",
       "      <td>0.00</td>\n",
       "      <td>0.0</td>\n",
       "      <td>0.0</td>\n",
       "      <td>81.0</td>\n",
       "      <td>57.0</td>\n",
       "      <td>0.0</td>\n",
       "      <td>24.0</td>\n",
       "      <td>0.0</td>\n",
       "      <td>0.0</td>\n",
       "      <td>NaN</td>\n",
       "    </tr>\n",
       "    <tr>\n",
       "      <th>2</th>\n",
       "      <td>2009</td>\n",
       "      <td>11</td>\n",
       "      <td>AS</td>\n",
       "      <td>Alaska Airlines Inc.</td>\n",
       "      <td>DFW</td>\n",
       "      <td>Dallas/Fort Worth, TX: Dallas/Fort Worth Inter...</td>\n",
       "      <td>66.0</td>\n",
       "      <td>6.0</td>\n",
       "      <td>1.28</td>\n",
       "      <td>0.69</td>\n",
       "      <td>...</td>\n",
       "      <td>0.00</td>\n",
       "      <td>0.0</td>\n",
       "      <td>0.0</td>\n",
       "      <td>176.0</td>\n",
       "      <td>64.0</td>\n",
       "      <td>11.0</td>\n",
       "      <td>101.0</td>\n",
       "      <td>0.0</td>\n",
       "      <td>0.0</td>\n",
       "      <td>NaN</td>\n",
       "    </tr>\n",
       "    <tr>\n",
       "      <th>3</th>\n",
       "      <td>2009</td>\n",
       "      <td>11</td>\n",
       "      <td>AS</td>\n",
       "      <td>Alaska Airlines Inc.</td>\n",
       "      <td>EWR</td>\n",
       "      <td>Newark, NJ: Newark Liberty International</td>\n",
       "      <td>59.0</td>\n",
       "      <td>10.0</td>\n",
       "      <td>0.24</td>\n",
       "      <td>0.00</td>\n",
       "      <td>...</td>\n",
       "      <td>0.56</td>\n",
       "      <td>0.0</td>\n",
       "      <td>0.0</td>\n",
       "      <td>553.0</td>\n",
       "      <td>8.0</td>\n",
       "      <td>0.0</td>\n",
       "      <td>526.0</td>\n",
       "      <td>0.0</td>\n",
       "      <td>19.0</td>\n",
       "      <td>NaN</td>\n",
       "    </tr>\n",
       "    <tr>\n",
       "      <th>4</th>\n",
       "      <td>2009</td>\n",
       "      <td>11</td>\n",
       "      <td>AS</td>\n",
       "      <td>Alaska Airlines Inc.</td>\n",
       "      <td>HNL</td>\n",
       "      <td>Honolulu, HI: Daniel K Inouye International</td>\n",
       "      <td>85.0</td>\n",
       "      <td>18.0</td>\n",
       "      <td>1.34</td>\n",
       "      <td>1.46</td>\n",
       "      <td>...</td>\n",
       "      <td>0.00</td>\n",
       "      <td>0.0</td>\n",
       "      <td>0.0</td>\n",
       "      <td>547.0</td>\n",
       "      <td>85.0</td>\n",
       "      <td>89.0</td>\n",
       "      <td>373.0</td>\n",
       "      <td>0.0</td>\n",
       "      <td>0.0</td>\n",
       "      <td>NaN</td>\n",
       "    </tr>\n",
       "    <tr>\n",
       "      <th>...</th>\n",
       "      <td>...</td>\n",
       "      <td>...</td>\n",
       "      <td>...</td>\n",
       "      <td>...</td>\n",
       "      <td>...</td>\n",
       "      <td>...</td>\n",
       "      <td>...</td>\n",
       "      <td>...</td>\n",
       "      <td>...</td>\n",
       "      <td>...</td>\n",
       "      <td>...</td>\n",
       "      <td>...</td>\n",
       "      <td>...</td>\n",
       "      <td>...</td>\n",
       "      <td>...</td>\n",
       "      <td>...</td>\n",
       "      <td>...</td>\n",
       "      <td>...</td>\n",
       "      <td>...</td>\n",
       "      <td>...</td>\n",
       "      <td>...</td>\n",
       "    </tr>\n",
       "    <tr>\n",
       "      <th>73277</th>\n",
       "      <td>2018</td>\n",
       "      <td>11</td>\n",
       "      <td>DL</td>\n",
       "      <td>Delta Air Lines Inc.</td>\n",
       "      <td>SAN</td>\n",
       "      <td>San Diego, CA: San Diego International</td>\n",
       "      <td>656.0</td>\n",
       "      <td>72.0</td>\n",
       "      <td>25.95</td>\n",
       "      <td>6.52</td>\n",
       "      <td>...</td>\n",
       "      <td>22.42</td>\n",
       "      <td>1.0</td>\n",
       "      <td>2.0</td>\n",
       "      <td>3660.0</td>\n",
       "      <td>1162.0</td>\n",
       "      <td>594.0</td>\n",
       "      <td>485.0</td>\n",
       "      <td>0.0</td>\n",
       "      <td>1419.0</td>\n",
       "      <td>NaN</td>\n",
       "    </tr>\n",
       "    <tr>\n",
       "      <th>73278</th>\n",
       "      <td>2018</td>\n",
       "      <td>11</td>\n",
       "      <td>DL</td>\n",
       "      <td>Delta Air Lines Inc.</td>\n",
       "      <td>SEA</td>\n",
       "      <td>Seattle, WA: Seattle/Tacoma International</td>\n",
       "      <td>2137.0</td>\n",
       "      <td>358.0</td>\n",
       "      <td>85.05</td>\n",
       "      <td>9.84</td>\n",
       "      <td>...</td>\n",
       "      <td>102.24</td>\n",
       "      <td>1.0</td>\n",
       "      <td>19.0</td>\n",
       "      <td>24692.0</td>\n",
       "      <td>7805.0</td>\n",
       "      <td>1382.0</td>\n",
       "      <td>6866.0</td>\n",
       "      <td>0.0</td>\n",
       "      <td>8639.0</td>\n",
       "      <td>NaN</td>\n",
       "    </tr>\n",
       "    <tr>\n",
       "      <th>73279</th>\n",
       "      <td>2018</td>\n",
       "      <td>11</td>\n",
       "      <td>DL</td>\n",
       "      <td>Delta Air Lines Inc.</td>\n",
       "      <td>SFO</td>\n",
       "      <td>San Francisco, CA: San Francisco International</td>\n",
       "      <td>1222.0</td>\n",
       "      <td>343.0</td>\n",
       "      <td>36.76</td>\n",
       "      <td>11.94</td>\n",
       "      <td>...</td>\n",
       "      <td>38.36</td>\n",
       "      <td>0.0</td>\n",
       "      <td>5.0</td>\n",
       "      <td>23951.0</td>\n",
       "      <td>4052.0</td>\n",
       "      <td>1720.0</td>\n",
       "      <td>15211.0</td>\n",
       "      <td>0.0</td>\n",
       "      <td>2968.0</td>\n",
       "      <td>NaN</td>\n",
       "    </tr>\n",
       "    <tr>\n",
       "      <th>73280</th>\n",
       "      <td>2018</td>\n",
       "      <td>11</td>\n",
       "      <td>DL</td>\n",
       "      <td>Delta Air Lines Inc.</td>\n",
       "      <td>SLC</td>\n",
       "      <td>Salt Lake City, UT: Salt Lake City International</td>\n",
       "      <td>3554.0</td>\n",
       "      <td>363.0</td>\n",
       "      <td>107.40</td>\n",
       "      <td>19.47</td>\n",
       "      <td>...</td>\n",
       "      <td>141.11</td>\n",
       "      <td>2.0</td>\n",
       "      <td>2.0</td>\n",
       "      <td>21616.0</td>\n",
       "      <td>6880.0</td>\n",
       "      <td>2409.0</td>\n",
       "      <td>2874.0</td>\n",
       "      <td>0.0</td>\n",
       "      <td>9453.0</td>\n",
       "      <td>NaN</td>\n",
       "    </tr>\n",
       "    <tr>\n",
       "      <th>73281</th>\n",
       "      <td>2018</td>\n",
       "      <td>11</td>\n",
       "      <td>DL</td>\n",
       "      <td>Delta Air Lines Inc.</td>\n",
       "      <td>TPA</td>\n",
       "      <td>Tampa, FL: Tampa International</td>\n",
       "      <td>873.0</td>\n",
       "      <td>204.0</td>\n",
       "      <td>62.57</td>\n",
       "      <td>11.66</td>\n",
       "      <td>...</td>\n",
       "      <td>55.21</td>\n",
       "      <td>2.0</td>\n",
       "      <td>1.0</td>\n",
       "      <td>9053.0</td>\n",
       "      <td>3249.0</td>\n",
       "      <td>629.0</td>\n",
       "      <td>2351.0</td>\n",
       "      <td>0.0</td>\n",
       "      <td>2824.0</td>\n",
       "      <td>NaN</td>\n",
       "    </tr>\n",
       "  </tbody>\n",
       "</table>\n",
       "<p>73282 rows × 22 columns</p>\n",
       "</div>"
      ],
      "text/plain": [
       "       year   month carrier          carrier_name airport  \\\n",
       "0      2009      11      AS  Alaska Airlines Inc.     DCA   \n",
       "1      2009      11      AS  Alaska Airlines Inc.     DEN   \n",
       "2      2009      11      AS  Alaska Airlines Inc.     DFW   \n",
       "3      2009      11      AS  Alaska Airlines Inc.     EWR   \n",
       "4      2009      11      AS  Alaska Airlines Inc.     HNL   \n",
       "...     ...     ...     ...                   ...     ...   \n",
       "73277  2018      11      DL  Delta Air Lines Inc.     SAN   \n",
       "73278  2018      11      DL  Delta Air Lines Inc.     SEA   \n",
       "73279  2018      11      DL  Delta Air Lines Inc.     SFO   \n",
       "73280  2018      11      DL  Delta Air Lines Inc.     SLC   \n",
       "73281  2018      11      DL  Delta Air Lines Inc.     TPA   \n",
       "\n",
       "                                            airport_name  arr_flights  \\\n",
       "0      Washington, DC: Ronald Reagan Washington National         88.0   \n",
       "1                       Denver, CO: Denver International        123.0   \n",
       "2      Dallas/Fort Worth, TX: Dallas/Fort Worth Inter...         66.0   \n",
       "3               Newark, NJ: Newark Liberty International         59.0   \n",
       "4            Honolulu, HI: Daniel K Inouye International         85.0   \n",
       "...                                                  ...          ...   \n",
       "73277             San Diego, CA: San Diego International        656.0   \n",
       "73278          Seattle, WA: Seattle/Tacoma International       2137.0   \n",
       "73279     San Francisco, CA: San Francisco International       1222.0   \n",
       "73280   Salt Lake City, UT: Salt Lake City International       3554.0   \n",
       "73281                     Tampa, FL: Tampa International        873.0   \n",
       "\n",
       "       arr_del15  carrier_ct   weather_ct  ...  late_aircraft_ct  \\\n",
       "0           11.0        1.99         0.00  ...              0.00   \n",
       "1            5.0        3.47         0.00  ...              0.00   \n",
       "2            6.0        1.28         0.69  ...              0.00   \n",
       "3           10.0        0.24         0.00  ...              0.56   \n",
       "4           18.0        1.34         1.46  ...              0.00   \n",
       "...          ...         ...          ...  ...               ...   \n",
       "73277       72.0       25.95         6.52  ...             22.42   \n",
       "73278      358.0       85.05         9.84  ...            102.24   \n",
       "73279      343.0       36.76        11.94  ...             38.36   \n",
       "73280      363.0      107.40        19.47  ...            141.11   \n",
       "73281      204.0       62.57        11.66  ...             55.21   \n",
       "\n",
       "       arr_cancelled  arr_diverted   arr_delay   carrier_delay  weather_delay  \\\n",
       "0                0.0           0.0       266.0            65.0            0.0   \n",
       "1                0.0           0.0        81.0            57.0            0.0   \n",
       "2                0.0           0.0       176.0            64.0           11.0   \n",
       "3                0.0           0.0       553.0             8.0            0.0   \n",
       "4                0.0           0.0       547.0            85.0           89.0   \n",
       "...              ...           ...         ...             ...            ...   \n",
       "73277            1.0           2.0      3660.0          1162.0          594.0   \n",
       "73278            1.0          19.0     24692.0          7805.0         1382.0   \n",
       "73279            0.0           5.0     23951.0          4052.0         1720.0   \n",
       "73280            2.0           2.0     21616.0          6880.0         2409.0   \n",
       "73281            2.0           1.0      9053.0          3249.0          629.0   \n",
       "\n",
       "       nas_delay  security_delay  late_aircraft_delay  Unnamed: 21  \n",
       "0          201.0             0.0                  0.0          NaN  \n",
       "1           24.0             0.0                  0.0          NaN  \n",
       "2          101.0             0.0                  0.0          NaN  \n",
       "3          526.0             0.0                 19.0          NaN  \n",
       "4          373.0             0.0                  0.0          NaN  \n",
       "...          ...             ...                  ...          ...  \n",
       "73277      485.0             0.0               1419.0          NaN  \n",
       "73278     6866.0             0.0               8639.0          NaN  \n",
       "73279    15211.0             0.0               2968.0          NaN  \n",
       "73280     2874.0             0.0               9453.0          NaN  \n",
       "73281     2351.0             0.0               2824.0          NaN  \n",
       "\n",
       "[73282 rows x 22 columns]"
      ]
     },
     "execution_count": 35,
     "metadata": {},
     "output_type": "execute_result"
    }
   ],
   "source": [
    "data"
   ]
  },
  {
   "cell_type": "code",
   "execution_count": null,
   "id": "122c380d-2106-48f0-b6c2-c54b3b3a2e2f",
   "metadata": {},
   "outputs": [],
   "source": []
  }
 ],
 "metadata": {
  "kernelspec": {
   "display_name": "Python 3 (ipykernel)",
   "language": "python",
   "name": "python3"
  },
  "language_info": {
   "codemirror_mode": {
    "name": "ipython",
    "version": 3
   },
   "file_extension": ".py",
   "mimetype": "text/x-python",
   "name": "python",
   "nbconvert_exporter": "python",
   "pygments_lexer": "ipython3",
   "version": "3.10.4"
  }
 },
 "nbformat": 4,
 "nbformat_minor": 5
}
