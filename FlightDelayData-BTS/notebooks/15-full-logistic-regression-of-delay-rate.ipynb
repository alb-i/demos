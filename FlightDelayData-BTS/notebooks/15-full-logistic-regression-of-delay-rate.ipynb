{
 "cells": [
  {
   "cell_type": "code",
   "execution_count": 1,
   "id": "df086101-9741-442a-a54c-774c86dacd77",
   "metadata": {},
   "outputs": [
    {
     "name": "stderr",
     "output_type": "stream",
     "text": [
      "── \u001b[1mAttaching packages\u001b[22m ──────────────────────────────────────── tidyverse 1.3.1 ──\n",
      "\n",
      "\u001b[32m✔\u001b[39m \u001b[34mtibble \u001b[39m 3.1.7     \u001b[32m✔\u001b[39m \u001b[34mdplyr  \u001b[39m 1.0.9\n",
      "\u001b[32m✔\u001b[39m \u001b[34mtidyr  \u001b[39m 1.2.0     \u001b[32m✔\u001b[39m \u001b[34mstringr\u001b[39m 1.4.0\n",
      "\u001b[32m✔\u001b[39m \u001b[34mreadr  \u001b[39m 2.1.2     \u001b[32m✔\u001b[39m \u001b[34mforcats\u001b[39m 0.5.1\n",
      "\u001b[32m✔\u001b[39m \u001b[34mpurrr  \u001b[39m 0.3.4     \n",
      "\n",
      "── \u001b[1mConflicts\u001b[22m ─────────────────────────────────────────── tidyverse_conflicts() ──\n",
      "\u001b[31m✖\u001b[39m \u001b[34mdplyr\u001b[39m::\u001b[32mfilter()\u001b[39m masks \u001b[34mstats\u001b[39m::filter()\n",
      "\u001b[31m✖\u001b[39m \u001b[34mdplyr\u001b[39m::\u001b[32mlag()\u001b[39m    masks \u001b[34mstats\u001b[39m::lag()\n",
      "\n",
      "NOTE: Either Arial Narrow or Roboto Condensed fonts are required to use these themes.\n",
      "\n",
      "      Please use hrbrthemes::import_roboto_condensed() to install Roboto Condensed and\n",
      "\n",
      "      if Arial Narrow is not on your system, please see https://bit.ly/arialnarrow\n",
      "\n",
      "Loading required package: viridisLite\n",
      "\n",
      "Registered S3 method overwritten by 'quantmod':\n",
      "  method            from\n",
      "  as.zoo.data.frame zoo \n",
      "\n"
     ]
    }
   ],
   "source": [
    "library(ggplot2)\n",
    "library(tidyverse)\n",
    "library(hrbrthemes)\n",
    "library(viridis)\n",
    "library(tseries)"
   ]
  },
  {
   "cell_type": "code",
   "execution_count": 2,
   "id": "5c05211d-e206-4c49-b803-2cacac2955d4",
   "metadata": {},
   "outputs": [],
   "source": [
    "data <- read.csv(\"data/sum-airport-month.csv\")"
   ]
  },
  {
   "cell_type": "code",
   "execution_count": 3,
   "id": "b7404ccf-14f2-4e7e-9690-a4330c848d81",
   "metadata": {},
   "outputs": [],
   "source": [
    "data[\"delay_rate\"] <- data$arr_del15 / data$arr_flights\n",
    "data[\"new_delay_rate\"] <- (data$arr_del15 - data$late_aircraft_ct)/(data$arr_flights - data$late_aircraft_ct)\n",
    "data[\"new_arr_flights\"] <- (data$arr_flights - data$late_aircraft_ct)"
   ]
  },
  {
   "cell_type": "code",
   "execution_count": 4,
   "id": "bd75dd9a-0e62-4a1b-952b-c41e429644be",
   "metadata": {},
   "outputs": [],
   "source": [
    "data[\"jan\"] <- as.numeric(data$month==1)\n",
    "data[\"feb\"] <- as.numeric(data$month==2)\n",
    "data[\"mar\"] <- as.numeric(data$month==3)\n",
    "data[\"apr\"] <- as.numeric(data$month==4)\n",
    "data[\"may\"] <- as.numeric(data$month==5)\n",
    "data[\"jun\"] <- as.numeric(data$month==6)\n",
    "data[\"jul\"] <- as.numeric(data$month==7)\n",
    "data[\"aug\"] <- as.numeric(data$month==8)\n",
    "data[\"sep\"] <- as.numeric(data$month==9)\n",
    "data[\"oct\"] <- as.numeric(data$month==10)\n",
    "data[\"nov\"] <- as.numeric(data$month==11)\n",
    "data[\"dec\"] <- as.numeric(data$month==12)"
   ]
  },
  {
   "cell_type": "code",
   "execution_count": 5,
   "id": "e6eefcc9-e920-4ae2-ad05-69968c8c3463",
   "metadata": {},
   "outputs": [
    {
     "data": {
      "text/html": [
       "5794"
      ],
      "text/latex": [
       "5794"
      ],
      "text/markdown": [
       "5794"
      ],
      "text/plain": [
       "[1] 5794"
      ]
     },
     "metadata": {},
     "output_type": "display_data"
    }
   ],
   "source": [
    "sum(data$jan)"
   ]
  },
  {
   "cell_type": "code",
   "execution_count": 6,
   "id": "fe8c8e15-0a80-4deb-bbe8-18489c12830c",
   "metadata": {},
   "outputs": [],
   "source": [
    "data[\"arr_flights_n\"] = data$arr_flights / max(data$arr_flights)"
   ]
  },
  {
   "cell_type": "code",
   "execution_count": 61,
   "id": "2dcd33d9-52aa-4a27-9608-f00606846a75",
   "metadata": {},
   "outputs": [
    {
     "data": {
      "text/html": [
       "38241"
      ],
      "text/latex": [
       "38241"
      ],
      "text/markdown": [
       "38241"
      ],
      "text/plain": [
       "[1] 38241"
      ]
     },
     "metadata": {},
     "output_type": "display_data"
    }
   ],
   "source": [
    "max(data$arr_flights)"
   ]
  },
  {
   "cell_type": "code",
   "execution_count": 7,
   "id": "5ee2875c-5cab-408e-8850-623996e39f88",
   "metadata": {},
   "outputs": [
    {
     "data": {
      "text/plain": [
       "   Min. 1st Qu.  Median    Mean 3rd Qu.    Max. \n",
       "0.00000 0.00000 0.00000 0.08776 0.00000 1.00000 "
      ]
     },
     "metadata": {},
     "output_type": "display_data"
    }
   ],
   "source": [
    "summary(data$covid)"
   ]
  },
  {
   "cell_type": "code",
   "execution_count": 8,
   "id": "51426f85-9070-4e6f-8501-cd38c76e3962",
   "metadata": {},
   "outputs": [
    {
     "data": {
      "text/plain": [
       "   Min. 1st Qu.  Median    Mean 3rd Qu.    Max. \n",
       "0.00000 0.00000 0.00000 0.08577 0.00000 1.00000 "
      ]
     },
     "metadata": {},
     "output_type": "display_data"
    }
   ],
   "source": [
    "summary(data$control)"
   ]
  },
  {
   "cell_type": "code",
   "execution_count": 9,
   "id": "da071497-f00f-483e-ac22-d5c76243aa3d",
   "metadata": {},
   "outputs": [],
   "source": [
    "finiteFilter = data$delay_rate > 0 & data$delay_rate < 1"
   ]
  },
  {
   "cell_type": "code",
   "execution_count": 10,
   "id": "bdb3666a-7c4d-48fd-96d1-db97291f26ca",
   "metadata": {},
   "outputs": [],
   "source": [
    "filterTest = finiteFilter & (data$covid + data$control > 0)"
   ]
  },
  {
   "cell_type": "code",
   "execution_count": 11,
   "id": "b3d42c59-b3e7-4b9d-9431-0d950496e012",
   "metadata": {},
   "outputs": [],
   "source": [
    "newFiniteFilter = data$new_delay_rate > 0 & data$new_delay_rate < 1 & (is.na(data$new_delay_rate) == FALSE)\n",
    "newFilterTest = newFiniteFilter & (data$covid + data$control > 0)"
   ]
  },
  {
   "cell_type": "code",
   "execution_count": 12,
   "id": "d858a462-20c1-49ea-9d7b-ddc726d772a0",
   "metadata": {},
   "outputs": [],
   "source": [
    "data[\"t_delay_rate\"] <- log(data$delay_rate / (1-data$delay_rate))\n",
    "\n",
    "data[\"t_new_delay_rate\"] <- log(data$new_delay_rate / (1-data$new_delay_rate))\n"
   ]
  },
  {
   "cell_type": "code",
   "execution_count": 13,
   "id": "cf8d4824-b36b-40ee-89b6-8ac52c00bfc7",
   "metadata": {},
   "outputs": [],
   "source": [
    "qs <- data[data$t_delay_rate > -Inf && data$t_delay_rate < Inf,]$t_delay_rate\n",
    "data[\"tc_delay_rate\"] <- pmax(pmin(data$t_delay_rate,max(qs)),min(qs))"
   ]
  },
  {
   "cell_type": "code",
   "execution_count": 14,
   "id": "c7fd8584-b5b4-4b85-99a0-3ca7ffeb5a23",
   "metadata": {},
   "outputs": [],
   "source": [
    "# fit with all too many variables, use only these with |t-value|>5\n"
   ]
  },
  {
   "cell_type": "code",
   "execution_count": 56,
   "id": "3610fdd8-2433-4f14-9168-57251d779084",
   "metadata": {},
   "outputs": [
    {
     "data": {
      "text/plain": [
       "\n",
       "Call: rlm(formula = t_delay_rate ~ top30 + covid + arr_flights_n + \n",
       "    ATL + ORD + CLT + DEN + DFW + ADK + LAX + ITO + MSP + DTW + \n",
       "    PHX + sep + mar + CDB + oct + jul + SEA + LAS + feb + SLC + \n",
       "    IAH + jun + extra_tue + EKO + SFO + LIH + BWI + DCA + HIB + \n",
       "    BTM + LGA + HNL + MCO + KOA + apr + may + extra_sat + MDW + \n",
       "    BOS + PHL + BJI + SAN + extra_thu + JFK + OGG + OTZ + BQN + \n",
       "    LWS + SJC + GST + PIH + MIA + DAL + ELM + ABR + BNA + jan, \n",
       "    data = data[newFilterTest, ])\n",
       "Residuals:\n",
       "     Min       1Q   Median       3Q      Max \n",
       "-3.37040 -0.30732  0.01374  0.29996  3.40181 \n",
       "\n",
       "Coefficients:\n",
       "              Value     Std. Error t value  \n",
       "(Intercept)     -1.7557    0.0172  -102.3038\n",
       "top30           -0.2859    0.0436    -6.5569\n",
       "covid           -0.6333    0.0096   -65.6835\n",
       "arr_flights_n    2.6164    0.1359    19.2529\n",
       "ATL             -1.8447    0.1219   -15.1361\n",
       "ORD             -1.1552    0.1103   -10.4711\n",
       "CLT             -1.0001    0.1029    -9.7195\n",
       "DEN             -0.9715    0.1058    -9.1859\n",
       "DFW             -0.9061    0.1108    -8.1797\n",
       "ADK              1.6186    0.1106    14.6397\n",
       "LAX             -0.7705    0.0999    -7.7155\n",
       "ITO             -1.2091    0.0869   -13.9112\n",
       "MSP             -0.7215    0.0967    -7.4607\n",
       "DTW             -0.6952    0.0969    -7.1765\n",
       "PHX             -0.6733    0.0980    -6.8717\n",
       "sep             -0.3062    0.0237   -12.9388\n",
       "mar             -0.1868    0.0190    -9.8340\n",
       "CDB              1.4330    0.1308    10.9533\n",
       "oct             -0.2294    0.0236    -9.7048\n",
       "jul              0.2594    0.0181    14.3531\n",
       "SEA             -0.5114    0.0967    -5.2889\n",
       "LAS             -0.4993    0.0970    -5.1453\n",
       "feb              0.4827    0.0251    19.2573\n",
       "SLC             -0.4929    0.0956    -5.1544\n",
       "IAH             -0.4493    0.0971    -4.6273\n",
       "jun              0.2766    0.0191    14.4603\n",
       "extra_tue        0.1700    0.0164    10.3912\n",
       "EKO             -0.8956    0.0941    -9.5158\n",
       "SFO             -0.3363    0.0965    -3.4867\n",
       "LIH             -0.8303    0.0869    -9.5525\n",
       "BWI             -0.3769    0.0952    -3.9599\n",
       "DCA             -0.3575    0.0953    -3.7505\n",
       "HIB             -0.8351    0.0896    -9.3193\n",
       "BTM             -0.7972    0.0882    -9.0344\n",
       "LGA             -0.2887    0.0959    -3.0116\n",
       "HNL             -0.3797    0.0955    -3.9772\n",
       "MCO             -0.2427    0.0962    -2.5227\n",
       "KOA             -0.7125    0.0869    -8.1963\n",
       "apr             -0.2123    0.0183   -11.5794\n",
       "may             -0.1334    0.0182    -7.3441\n",
       "extra_sat        0.1834    0.0166    11.0219\n",
       "MDW             -0.3014    0.0951    -3.1708\n",
       "BOS             -0.1811    0.0957    -1.8933\n",
       "PHL             -0.1877    0.0953    -1.9701\n",
       "BJI             -0.6386    0.0869    -7.3462\n",
       "SAN             -0.2008    0.0951    -2.1128\n",
       "extra_thu        0.1531    0.0120    12.7228\n",
       "JFK             -0.1489    0.0952    -1.5636\n",
       "OGG             -0.5772    0.0870    -6.6330\n",
       "OTZ             -0.6286    0.0910    -6.9048\n",
       "BQN              0.7744    0.1080     7.1680\n",
       "LWS             -0.5966    0.0882    -6.7618\n",
       "SJC             -0.4965    0.0876    -5.6657\n",
       "GST             -0.8898    0.1602    -5.5536\n",
       "PIH             -0.5739    0.0869    -6.6022\n",
       "MIA             -0.1262    0.0951    -1.3281\n",
       "DAL             -0.4372    0.0884    -4.9455\n",
       "ELM             -0.5596    0.0925    -6.0473\n",
       "ABR             -0.5610    0.0910    -6.1621\n",
       "BNA             -0.4125    0.0889    -4.6413\n",
       "jan             -0.1009    0.0235    -4.2842\n",
       "\n",
       "Residual standard error: 0.4494 on 11619 degrees of freedom"
      ]
     },
     "metadata": {},
     "output_type": "display_data"
    },
    {
     "name": "stdout",
     "output_type": "stream",
     "text": [
      "[1] \"BIC=\"             \"20236.5996896055\"\n",
      "[1] \"AIC=\"             \"19779.9304277098\"\n"
     ]
    },
    {
     "data": {
      "image/png": "[encoded data removed]",
      "text/plain": [
       "Plot with title “Normal Q-Q Plot”"
      ]
     },
     "metadata": {
      "image/png": {
       "height": 420,
       "width": 420
      }
     },
     "output_type": "display_data"
    }
   ],
   "source": [
    "m <- MASS::rlm(t_delay_rate~ top30+covid+arr_flights_n+ATL+ORD+CLT+DEN+DFW+ADK+LAX+ITO+MSP+DTW+PHX+sep+mar+CDB+oct+jul+SEA+LAS+feb+SLC+IAH\n",
    "               +jun+extra_tue+EKO+SFO+LIH+BWI+DCA+HIB+BTM+LGA+HNL+MCO+KOA+apr+may+extra_sat+MDW+BOS+PHL+BJI+SAN+extra_thu+JFK+OGG+OTZ\n",
    "               +BQN+LWS+SJC+GST+PIH+MIA+DAL+ELM+ABR+BNA+jan,data=data[newFilterTest,])\n",
    "summary(m)\n",
    "qqnorm(m$residuals); qqline(m$residuals)\n",
    "\n",
    "print(c(\"BIC=\",BIC(m)))\n",
    "print(c(\"AIC=\",AIC(m)))"
   ]
  },
  {
   "cell_type": "code",
   "execution_count": 20,
   "id": "ad522871-ee65-4d8c-b8a9-8585bc723aaa",
   "metadata": {},
   "outputs": [
    {
     "data": {
      "text/plain": [
       "\n",
       "Call: rlm(formula = t_delay_rate ~ covid + arr_flights_n + ATL + ORD + \n",
       "    CLT + DEN + DFW + ADK + LAX + ITO + MSP + DTW + PHX + sep + \n",
       "    mar + CDB + oct + jul + SEA + LAS + feb + SLC + IAH + jun + \n",
       "    extra_tue + EKO + SFO + LIH + BWI + DCA + HIB + BTM + LGA + \n",
       "    HNL + MCO + KOA + apr + may + extra_sat + MDW + BOS + PHL + \n",
       "    BJI + SAN + extra_thu + JFK + OGG + OTZ + BQN + LWS + SJC + \n",
       "    GST + PIH + MIA + DAL + ELM + ABR + BNA + jan, data = data[newFilterTest, \n",
       "    ])\n",
       "Residuals:\n",
       "     Min       1Q   Median       3Q      Max \n",
       "-3.36434 -0.30804  0.01361  0.30108  3.40298 \n",
       "\n",
       "Coefficients:\n",
       "              Value     Std. Error t value  \n",
       "(Intercept)     -1.7508    0.0172  -101.8579\n",
       "covid           -0.6412    0.0096   -66.7011\n",
       "arr_flights_n    2.2137    0.1222    18.1115\n",
       "ATL             -1.8435    0.1221   -15.0927\n",
       "ORD             -1.2038    0.1101   -10.9301\n",
       "CLT             -1.1074    0.1017   -10.8887\n",
       "DEN             -1.0583    0.1051   -10.0721\n",
       "DFW             -0.9619    0.1106    -8.6952\n",
       "ADK              1.6191    0.1108    14.6104\n",
       "LAX             -0.9047    0.0979    -9.2447\n",
       "ITO             -1.2060    0.0871   -13.8438\n",
       "MSP             -0.8937    0.0932    -9.5925\n",
       "DTW             -0.8648    0.0934    -9.2542\n",
       "PHX             -0.8288    0.0952    -8.7059\n",
       "sep             -0.3074    0.0237   -12.9610\n",
       "mar             -0.1830    0.0190    -9.6138\n",
       "CDB              1.4355    0.1311    10.9472\n",
       "oct             -0.2295    0.0237    -9.6830\n",
       "jul              0.2614    0.0181    14.4313\n",
       "SEA             -0.6816    0.0932    -7.3167\n",
       "LAS             -0.6655    0.0937    -7.0992\n",
       "feb              0.4810    0.0251    19.1469\n",
       "SLC             -0.6870    0.0910    -7.5476\n",
       "IAH             -0.6169    0.0938    -6.5744\n",
       "jun              0.2777    0.0192    14.4811\n",
       "extra_tue        0.1705    0.0164    10.4012\n",
       "EKO             -0.8976    0.0943    -9.5149\n",
       "SFO             -0.5037    0.0927    -5.4317\n",
       "LIH             -0.8229    0.0871    -9.4454\n",
       "BWI             -0.5846    0.0897    -6.5189\n",
       "DCA             -0.5598    0.0902    -6.2036\n",
       "HIB             -0.8366    0.0898    -9.3146\n",
       "BTM             -0.7985    0.0884    -9.0290\n",
       "LGA             -0.4703    0.0916    -5.1343\n",
       "HNL             -0.6304    0.0876    -7.1975\n",
       "MCO             -0.4200    0.0923    -4.5514\n",
       "KOA             -0.7041    0.0871    -8.0821\n",
       "apr             -0.2121    0.0184   -11.5448\n",
       "may             -0.1333    0.0182    -7.3216\n",
       "extra_sat        0.1831    0.0167    10.9786\n",
       "MDW             -0.5238    0.0888    -5.8958\n",
       "BOS             -0.3677    0.0911    -4.0355\n",
       "PHL             -0.3913    0.0901    -4.3437\n",
       "BJI             -0.6411    0.0871    -7.3573\n",
       "SAN             -0.4220    0.0888    -4.7531\n",
       "extra_thu        0.1533    0.0121    12.7102\n",
       "JFK             -0.3524    0.0900    -3.9164\n",
       "OGG             -0.5607    0.0872    -6.4304\n",
       "OTZ             -0.6300    0.0912    -6.9041\n",
       "BQN              0.7718    0.1083     7.1276\n",
       "LWS             -0.5972    0.0884    -6.7524\n",
       "SJC             -0.4576    0.0877    -5.2203\n",
       "GST             -0.8924    0.1606    -5.5569\n",
       "PIH             -0.5750    0.0871    -6.5995\n",
       "MIA             -0.3455    0.0890    -3.8826\n",
       "DAL             -0.3844    0.0883    -4.3548\n",
       "ELM             -0.5588    0.0927    -6.0250\n",
       "ABR             -0.5628    0.0912    -6.1676\n",
       "BNA             -0.3533    0.0886    -3.9865\n",
       "jan             -0.1012    0.0236    -4.2873\n",
       "\n",
       "Residual standard error: 0.451 on 11620 degrees of freedom"
      ]
     },
     "metadata": {},
     "output_type": "display_data"
    },
    {
     "name": "stdout",
     "output_type": "stream",
     "text": [
      "[1] \"BIC=\"             \"20266.7415084676\"\n",
      "[1] \"AIC=\"             \"19817.4378798283\"\n"
     ]
    },
    {
     "data": {
      "image/png": "[encoded data removed]",
      "text/plain": [
       "Plot with title “Normal Q-Q Plot”"
      ]
     },
     "metadata": {
      "image/png": {
       "height": 420,
       "width": 420
      }
     },
     "output_type": "display_data"
    }
   ],
   "source": [
    "m <- MASS::rlm(t_delay_rate~ covid+arr_flights_n+ATL+ORD+CLT+DEN+DFW+ADK+LAX+ITO+MSP+DTW+PHX+sep+mar+CDB+oct+jul+SEA+LAS+feb+SLC+IAH\n",
    "               +jun+extra_tue+EKO+SFO+LIH+BWI+DCA+HIB+BTM+LGA+HNL+MCO+KOA+apr+may+extra_sat+MDW+BOS+PHL+BJI+SAN+extra_thu+JFK+OGG+OTZ\n",
    "               +BQN+LWS+SJC+GST+PIH+MIA+DAL+ELM+ABR+BNA+jan,data=data[newFilterTest,])\n",
    "summary(m)\n",
    "qqnorm(m$residuals); qqline(m$residuals)\n",
    "\n",
    "print(c(\"BIC=\",BIC(m)))\n",
    "print(c(\"AIC=\",AIC(m)))\n",
    "m1 <- m"
   ]
  },
  {
   "cell_type": "code",
   "execution_count": 21,
   "id": "e92cda94-9bf7-412d-9fd6-026cba95c3d1",
   "metadata": {},
   "outputs": [],
   "source": [
    "write.csv(coef(summary(m)),file=\"data/airport_x_months_fit1.csv\")"
   ]
  },
  {
   "cell_type": "markdown",
   "id": "2c0f1c48-00ee-456f-a3be-46556baa8965",
   "metadata": {},
   "source": [
    " Remove \n",
    "SAN\n",
    "MCO\n",
    "DAL\n",
    "PHL\n",
    "jan\n",
    "BOS\n",
    "BNA\n",
    "JFK\n",
    "MIA\n"
   ]
  },
  {
   "cell_type": "code",
   "execution_count": 22,
   "id": "d191385f-2bca-4ad1-bff0-c044cf80876f",
   "metadata": {},
   "outputs": [
    {
     "data": {
      "text/plain": [
       "\n",
       "Call: rlm(formula = t_delay_rate ~ covid + arr_flights_n + ATL + ORD + \n",
       "    CLT + DEN + DFW + ADK + LAX + ITO + MSP + DTW + PHX + sep + \n",
       "    mar + CDB + oct + jul + SEA + LAS + feb + SLC + IAH + extra_tue + \n",
       "    EKO + SFO + LIH + BWI + DCA + HIB + BTM + LGA + HNL + KOA + \n",
       "    apr + may + extra_sat + MDW + BJI + extra_thu + OGG + OTZ + \n",
       "    BQN + LWS + SJC + GST + PIH + ELM + ABR + jan, data = data[newFilterTest, \n",
       "    ])\n",
       "Residuals:\n",
       "     Min       1Q   Median       3Q      Max \n",
       "-3.31719 -0.30709  0.01281  0.30815  3.40225 \n",
       "\n",
       "Coefficients:\n",
       "              Value     Std. Error t value  \n",
       "(Intercept)     -1.6700    0.0165  -100.9255\n",
       "covid           -0.6610    0.0097   -68.2868\n",
       "arr_flights_n    1.5323    0.1017    15.0633\n",
       "ATL             -1.3553    0.1132   -11.9688\n",
       "ORD             -0.8081    0.1044    -7.7394\n",
       "CLT             -0.8046    0.0984    -8.1794\n",
       "DEN             -0.7238    0.1008    -7.1829\n",
       "DFW             -0.5703    0.1048    -5.4435\n",
       "ADK              1.6236    0.1124    14.4430\n",
       "LAX             -0.6495    0.0957    -6.7886\n",
       "ITO             -1.2122    0.0884   -13.7159\n",
       "MSP             -0.6987    0.0924    -7.5609\n",
       "DTW             -0.6701    0.0926    -7.2360\n",
       "PHX             -0.6102    0.0938    -6.5045\n",
       "sep             -0.4334    0.0220   -19.6863\n",
       "mar             -0.2952    0.0169   -17.4285\n",
       "CDB              1.4088    0.1330    10.5907\n",
       "oct             -0.3397    0.0224   -15.1835\n",
       "jul              0.1675    0.0166    10.0679\n",
       "SEA             -0.4816    0.0924    -5.2112\n",
       "LAS             -0.4651    0.0928    -5.0110\n",
       "feb              0.4106    0.0249    16.4916\n",
       "SLC             -0.5291    0.0909    -5.8177\n",
       "IAH             -0.4174    0.0929    -4.4943\n",
       "extra_tue        0.2240    0.0160    13.9955\n",
       "EKO             -0.9029    0.0957    -9.4353\n",
       "SFO             -0.3139    0.0921    -3.4073\n",
       "LIH             -0.8154    0.0884    -9.2266\n",
       "BWI             -0.4554    0.0900    -5.0574\n",
       "DCA             -0.4192    0.0904    -4.6358\n",
       "HIB             -0.8144    0.0911    -8.9390\n",
       "BTM             -0.7785    0.0897    -8.6772\n",
       "LGA             -0.2926    0.0913    -3.2037\n",
       "HNL             -0.5746    0.0887    -6.4817\n",
       "KOA             -0.6976    0.0884    -7.8935\n",
       "apr             -0.2879    0.0178   -16.2188\n",
       "may             -0.2253    0.0168   -13.3852\n",
       "extra_sat        0.2434    0.0164    14.8190\n",
       "MDW             -0.4180    0.0895    -4.6713\n",
       "BJI             -0.6402    0.0884    -7.2426\n",
       "extra_thu        0.1268    0.0121    10.4782\n",
       "OGG             -0.5345    0.0884    -6.0462\n",
       "OTZ             -0.6216    0.0926    -6.7156\n",
       "BQN              0.7678    0.1099     6.9894\n",
       "LWS             -0.6136    0.0897    -6.8388\n",
       "SJC             -0.3994    0.0887    -4.5031\n",
       "GST             -0.7992    0.1629    -4.9065\n",
       "PIH             -0.5869    0.0884    -6.6400\n",
       "ELM             -0.5623    0.0941    -5.9761\n",
       "ABR             -0.5632    0.0926    -6.0846\n",
       "jan             -0.2125    0.0223    -9.5449\n",
       "\n",
       "Residual standard error: 0.4561 on 11629 degrees of freedom"
      ]
     },
     "metadata": {},
     "output_type": "display_data"
    },
    {
     "name": "stdout",
     "output_type": "stream",
     "text": [
      "[1] \"BIC=\"            \"20417.108220453\"\n",
      "[1] \"AIC=\"             \"20034.0952911211\"\n"
     ]
    },
    {
     "data": {
      "image/png": "[encoded data removed]",
      "text/plain": [
       "Plot with title “Normal Q-Q Plot”"
      ]
     },
     "metadata": {
      "image/png": {
       "height": 420,
       "width": 420
      }
     },
     "output_type": "display_data"
    }
   ],
   "source": [
    "m <- MASS::rlm(t_delay_rate~ covid+arr_flights_n+ATL+ORD+CLT+DEN+DFW+ADK+LAX+ITO+MSP+DTW+PHX+sep+mar+CDB+oct+jul+SEA+LAS+feb+SLC+IAH\n",
    "               +extra_tue+EKO+SFO+LIH+BWI+DCA+HIB+BTM+LGA+HNL+KOA+apr+may+extra_sat+MDW+BJI+extra_thu+OGG+OTZ\n",
    "               +BQN+LWS+SJC+GST+PIH+ELM+ABR+jan,data=data[newFilterTest,])\n",
    "summary(m)\n",
    "qqnorm(m$residuals); qqline(m$residuals)\n",
    "\n",
    "print(c(\"BIC=\",BIC(m)))\n",
    "print(c(\"AIC=\",AIC(m)))\n",
    "m2 <- m"
   ]
  },
  {
   "cell_type": "code",
   "execution_count": 23,
   "id": "1868e8ec-11d1-4021-b494-f03f84705a13",
   "metadata": {},
   "outputs": [],
   "source": [
    "write.csv(coef(summary(m)),file=\"data/airport_x_months_fit2.csv\")"
   ]
  },
  {
   "cell_type": "markdown",
   "id": "99f99543-9128-496d-848a-cf774279f671",
   "metadata": {},
   "source": []
  },
  {
   "cell_type": "code",
   "execution_count": 24,
   "id": "1704e358-fa02-4091-9fdf-874ffa248665",
   "metadata": {},
   "outputs": [],
   "source": [
    "#remove GST, MDW, DCA, SJC, IAH, SFO, LGA"
   ]
  },
  {
   "cell_type": "code",
   "execution_count": 25,
   "id": "9d417d25-47c8-4227-a4de-ebbccfd52359",
   "metadata": {},
   "outputs": [
    {
     "data": {
      "text/plain": [
       "\n",
       "Call: rlm(formula = t_delay_rate ~ covid + arr_flights_n + ATL + ORD + \n",
       "    CLT + DEN + DFW + ADK + LAX + ITO + MSP + DTW + PHX + sep + \n",
       "    mar + CDB + oct + jul + SEA + LAS + feb + SLC + extra_tue + \n",
       "    EKO + LIH + BWI + HIB + BTM + HNL + KOA + apr + may + extra_sat + \n",
       "    BJI + extra_thu + OGG + OTZ + BQN + LWS + PIH + ELM + ABR + \n",
       "    jan, data = data[newFilterTest, ])\n",
       "Residuals:\n",
       "     Min       1Q   Median       3Q      Max \n",
       "-3.31243 -0.30906  0.01373  0.30901  3.40234 \n",
       "\n",
       "Coefficients:\n",
       "              Value     Std. Error t value  \n",
       "(Intercept)     -1.6639    0.0166  -100.3588\n",
       "covid           -0.6688    0.0097   -69.1127\n",
       "arr_flights_n    1.1209    0.0884    12.6846\n",
       "ATL             -1.0634    0.1077    -9.8696\n",
       "ORD             -0.5706    0.1008    -5.6588\n",
       "CLT             -0.6238    0.0962    -6.4854\n",
       "DEN             -0.5220    0.0980    -5.3253\n",
       "DFW             -0.3374    0.1011    -3.3363\n",
       "ADK              1.6226    0.1128    14.3819\n",
       "LAX             -0.4926    0.0941    -5.2338\n",
       "ITO             -1.2104    0.0887   -13.6468\n",
       "MSP             -0.5838    0.0917    -6.3696\n",
       "DTW             -0.5527    0.0918    -6.0208\n",
       "PHX             -0.4784    0.0927    -5.1592\n",
       "sep             -0.4329    0.0221   -19.5960\n",
       "mar             -0.2912    0.0170   -17.1404\n",
       "CDB              1.4100    0.1335    10.5615\n",
       "oct             -0.3381    0.0225   -15.0592\n",
       "jul              0.1691    0.0167    10.1284\n",
       "SEA             -0.3630    0.0917    -3.9602\n",
       "LAS             -0.3418    0.0920    -3.7168\n",
       "feb              0.4089    0.0250    16.3662\n",
       "SLC             -0.4366    0.0906    -4.8210\n",
       "extra_tue        0.2244    0.0161    13.9674\n",
       "EKO             -0.9063    0.0960    -9.4365\n",
       "LIH             -0.8091    0.0887    -9.1235\n",
       "BWI             -0.3767    0.0899    -4.1901\n",
       "HIB             -0.8173    0.0914    -8.9385\n",
       "BTM             -0.7808    0.0900    -8.6711\n",
       "HNL             -0.5401    0.0889    -6.0770\n",
       "KOA             -0.6902    0.0887    -7.7819\n",
       "apr             -0.2875    0.0178   -16.1398\n",
       "may             -0.2243    0.0169   -13.2807\n",
       "extra_sat        0.2435    0.0165    14.7686\n",
       "BJI             -0.6440    0.0887    -7.2591\n",
       "extra_thu        0.1270    0.0121    10.4574\n",
       "OGG             -0.5184    0.0887    -5.8439\n",
       "OTZ             -0.6244    0.0929    -6.7214\n",
       "BQN              0.7640    0.1102     6.9295\n",
       "LWS             -0.6156    0.0900    -6.8366\n",
       "PIH             -0.5894    0.0887    -6.6442\n",
       "ELM             -0.5627    0.0944    -5.9593\n",
       "ABR             -0.5663    0.0929    -6.0961\n",
       "jan             -0.2125    0.0223    -9.5112\n",
       "\n",
       "Residual standard error: 0.4583 on 11636 degrees of freedom"
      ]
     },
     "metadata": {},
     "output_type": "display_data"
    },
    {
     "name": "stdout",
     "output_type": "stream",
     "text": [
      "[1] \"BIC=\"             \"20445.0824045357\"\n",
      "[1] \"AIC=\"             \"20113.6289079985\"\n"
     ]
    },
    {
     "data": {
      "image/png": "[encoded data removed]",
      "text/plain": [
       "Plot with title “Normal Q-Q Plot”"
      ]
     },
     "metadata": {
      "image/png": {
       "height": 420,
       "width": 420
      }
     },
     "output_type": "display_data"
    }
   ],
   "source": [
    "m <- MASS::rlm(t_delay_rate~ covid+arr_flights_n+ATL+ORD+CLT+DEN+DFW+ADK+LAX+ITO+MSP+DTW+PHX+sep+mar+CDB+oct+jul+SEA+LAS+feb+SLC\n",
    "               +extra_tue+EKO+LIH+BWI+HIB+BTM+HNL+KOA+apr+may+extra_sat+BJI+extra_thu+OGG+OTZ\n",
    "               +BQN+LWS+PIH+ELM+ABR+jan,data=data[newFilterTest,])\n",
    "summary(m)\n",
    "qqnorm(m$residuals); qqline(m$residuals)\n",
    "\n",
    "print(c(\"BIC=\",BIC(m)))\n",
    "print(c(\"AIC=\",AIC(m)))\n",
    "m3 <- m"
   ]
  },
  {
   "cell_type": "code",
   "execution_count": 26,
   "id": "b3a1e0cd-beb4-4ea3-8568-d23ab6dab7cb",
   "metadata": {},
   "outputs": [],
   "source": [
    "write.csv(coef(summary(m)),file=\"data/airport_x_months_fit3.csv\")"
   ]
  },
  {
   "cell_type": "code",
   "execution_count": 27,
   "id": "b1a585d3-7569-4d30-aaea-b7e9beeaafd8",
   "metadata": {},
   "outputs": [],
   "source": [
    "# SLC, BWI, SEA, LAS, DFW"
   ]
  },
  {
   "cell_type": "code",
   "execution_count": 28,
   "id": "f103d413-60fb-4903-93be-b2900309fb71",
   "metadata": {},
   "outputs": [
    {
     "data": {
      "text/plain": [
       "\n",
       "Call: rlm(formula = t_delay_rate ~ covid + arr_flights_n + ATL + ORD + \n",
       "    CLT + DEN + ADK + LAX + ITO + MSP + DTW + PHX + sep + mar + \n",
       "    CDB + oct + jul + feb + extra_tue + EKO + LIH + HIB + BTM + \n",
       "    HNL + KOA + apr + may + extra_sat + BJI + extra_thu + OGG + \n",
       "    OTZ + BQN + LWS + PIH + ELM + ABR + jan, data = data[newFilterTest, \n",
       "    ])\n",
       "Residuals:\n",
       "     Min       1Q   Median       3Q      Max \n",
       "-3.30928 -0.31041  0.01436  0.31160  3.39990 \n",
       "\n",
       "Coefficients:\n",
       "              Value    Std. Error t value \n",
       "(Intercept)    -1.6568   0.0166   -99.7358\n",
       "covid          -0.6760   0.0097   -69.8098\n",
       "arr_flights_n   0.7778   0.0723    10.7620\n",
       "ATL            -0.8217   0.1020    -8.0545\n",
       "ORD            -0.3786   0.0972    -3.8940\n",
       "CLT            -0.4724   0.0940    -5.0241\n",
       "DEN            -0.3552   0.0953    -3.7274\n",
       "ADK             1.6198   0.1133    14.2934\n",
       "LAX            -0.3613   0.0926    -3.8996\n",
       "ITO            -1.2104   0.0891   -13.5855\n",
       "MSP            -0.4898   0.0910    -5.3818\n",
       "DTW            -0.4563   0.0911    -5.0090\n",
       "PHX            -0.3680   0.0917    -4.0122\n",
       "sep            -0.4337   0.0222   -19.5475\n",
       "mar            -0.2878   0.0171   -16.8642\n",
       "CDB             1.4093   0.1341    10.5093\n",
       "oct            -0.3373   0.0226   -14.9533\n",
       "jul             0.1716   0.0168    10.2328\n",
       "feb             0.4077   0.0251    16.2449\n",
       "extra_tue       0.2245   0.0161    13.9146\n",
       "EKO            -0.9106   0.0965    -9.4395\n",
       "LIH            -0.8058   0.0891    -9.0452\n",
       "HIB            -0.8212   0.0918    -8.9409\n",
       "BTM            -0.7846   0.0904    -8.6747\n",
       "HNL            -0.5131   0.0892    -5.7529\n",
       "KOA            -0.6857   0.0891    -7.6970\n",
       "apr            -0.2877   0.0179   -16.0751\n",
       "may            -0.2234   0.0170   -13.1679\n",
       "extra_sat       0.2436   0.0166    14.7091\n",
       "BJI            -0.6486   0.0891    -7.2785\n",
       "extra_thu       0.1269   0.0122    10.4074\n",
       "OGG            -0.5068   0.0891    -5.6888\n",
       "OTZ            -0.6286   0.0933    -6.7361\n",
       "BQN             0.7589   0.1107     6.8527\n",
       "LWS            -0.6189   0.0904    -6.8431\n",
       "PIH            -0.5932   0.0891    -6.6569\n",
       "ELM            -0.5645   0.0949    -5.9513\n",
       "ABR            -0.5706   0.0933    -6.1147\n",
       "jan            -0.2125   0.0224    -9.4660\n",
       "\n",
       "Residual standard error: 0.461 on 11641 degrees of freedom"
      ]
     },
     "metadata": {},
     "output_type": "display_data"
    },
    {
     "name": "stdout",
     "output_type": "stream",
     "text": [
      "[1] \"BIC=\"            \"20454.137377941\"\n",
      "[1] \"AIC=\"             \"20159.5120476857\"\n"
     ]
    },
    {
     "data": {
      "image/png": "[encoded data removed]",
      "text/plain": [
       "Plot with title “Normal Q-Q Plot”"
      ]
     },
     "metadata": {
      "image/png": {
       "height": 420,
       "width": 420
      }
     },
     "output_type": "display_data"
    }
   ],
   "source": [
    "m <- MASS::rlm(t_delay_rate~ covid+arr_flights_n+ATL+ORD+CLT+DEN+ADK+LAX+ITO+MSP+DTW+PHX+sep+mar+CDB+oct+jul+feb\n",
    "               +extra_tue+EKO+LIH+HIB+BTM+HNL+KOA+apr+may+extra_sat+BJI+extra_thu+OGG+OTZ\n",
    "               +BQN+LWS+PIH+ELM+ABR+jan,data=data[newFilterTest,])\n",
    "summary(m)\n",
    "qqnorm(m$residuals); qqline(m$residuals)\n",
    "\n",
    "print(c(\"BIC=\",BIC(m)))\n",
    "print(c(\"AIC=\",AIC(m)))\n",
    "m4 <- m"
   ]
  },
  {
   "cell_type": "code",
   "execution_count": 29,
   "id": "c3f7e220-6449-4247-8ac4-6c7834617684",
   "metadata": {},
   "outputs": [],
   "source": [
    "write.csv(coef(summary(m)),file=\"data/airport_x_months_fit4.csv\")"
   ]
  },
  {
   "cell_type": "code",
   "execution_count": 30,
   "id": "c320793b-bf0d-4638-9555-b840e6504cdb",
   "metadata": {},
   "outputs": [],
   "source": [
    "# PHX, LAX, ORD, DEN"
   ]
  },
  {
   "cell_type": "code",
   "execution_count": 34,
   "id": "aa4270e9-5a57-4995-b17f-ca7fd535948a",
   "metadata": {},
   "outputs": [
    {
     "data": {
      "text/plain": [
       "\n",
       "Call: rlm(formula = t_delay_rate ~ covid + arr_flights_n + ATL + CLT + \n",
       "    ADK + ITO + MSP + DTW + sep + mar + CDB + oct + jul + feb + \n",
       "    extra_tue + EKO + LIH + HIB + BTM + HNL + KOA + apr + may + \n",
       "    extra_sat + BJI + extra_thu + OGG + OTZ + BQN + LWS + PIH + \n",
       "    ELM + ABR + jan, data = data[newFilterTest, ])\n",
       "Residuals:\n",
       "    Min      1Q  Median      3Q     Max \n",
       "-3.3091 -0.3122  0.0157  0.3097  3.3973 \n",
       "\n",
       "Coefficients:\n",
       "              Value    Std. Error t value \n",
       "(Intercept)    -1.6488   0.0166   -99.2385\n",
       "covid          -0.6812   0.0097   -70.3720\n",
       "arr_flights_n   0.5050   0.0597     8.4598\n",
       "ATL            -0.6311   0.0981    -6.4314\n",
       "CLT            -0.3537   0.0926    -3.8198\n",
       "ADK             1.6159   0.1136    14.2289\n",
       "ITO            -1.2127   0.0893   -13.5822\n",
       "MSP            -0.4166   0.0905    -4.6016\n",
       "DTW            -0.3804   0.0906    -4.1984\n",
       "sep            -0.4349   0.0222   -19.5603\n",
       "mar            -0.2858   0.0171   -16.7160\n",
       "CDB             1.4067   0.1344    10.4675\n",
       "oct            -0.3377   0.0226   -14.9413\n",
       "jul             0.1722   0.0168    10.2489\n",
       "feb             0.4059   0.0251    16.1392\n",
       "extra_tue       0.2246   0.0162    13.8896\n",
       "EKO            -0.9160   0.0967    -9.4758\n",
       "LIH            -0.8047   0.0893    -9.0141\n",
       "HIB            -0.8261   0.0920    -8.9750\n",
       "BTM            -0.7894   0.0906    -8.7098\n",
       "HNL            -0.4936   0.0893    -5.5254\n",
       "KOA            -0.6841   0.0893    -7.6629\n",
       "apr            -0.2878   0.0179   -16.0513\n",
       "may            -0.2228   0.0170   -13.1041\n",
       "extra_sat       0.2433   0.0166    14.6644\n",
       "BJI            -0.6540   0.0893    -7.3245\n",
       "extra_thu       0.1265   0.0122    10.3478\n",
       "OGG            -0.4993   0.0893    -5.5926\n",
       "OTZ            -0.6336   0.0935    -6.7754\n",
       "BQN             0.7530   0.1110     6.7853\n",
       "LWS            -0.6235   0.0906    -6.8795\n",
       "PIH            -0.5981   0.0893    -6.6977\n",
       "ELM            -0.5681   0.0951    -5.9773\n",
       "ABR            -0.5756   0.0935    -6.1553\n",
       "jan            -0.2130   0.0225    -9.4674\n",
       "\n",
       "Residual standard error: 0.4613 on 11645 degrees of freedom"
      ]
     },
     "metadata": {},
     "output_type": "display_data"
    },
    {
     "name": "stdout",
     "output_type": "stream",
     "text": [
      "[1] \"BIC=\"             \"20458.0001157264\"\n",
      "[1] \"AIC=\"             \"20192.8373184966\"\n"
     ]
    },
    {
     "data": {
      "image/png": "[encoded data removed]",
      "text/plain": [
       "Plot with title “Normal Q-Q Plot”"
      ]
     },
     "metadata": {
      "image/png": {
       "height": 420,
       "width": 420
      }
     },
     "output_type": "display_data"
    }
   ],
   "source": [
    "m <- MASS::rlm(t_delay_rate~ covid+arr_flights_n+ATL+CLT+ADK+ITO+MSP+DTW+sep+mar+CDB+oct+jul+feb\n",
    "               +extra_tue+EKO+LIH+HIB+BTM+HNL+KOA+apr+may+extra_sat+BJI+extra_thu+OGG+OTZ\n",
    "               +BQN+LWS+PIH+ELM+ABR+jan,data=data[newFilterTest,])\n",
    "summary(m)\n",
    "qqnorm(m$residuals); qqline(m$residuals)\n",
    "\n",
    "print(c(\"BIC=\",BIC(m)))\n",
    "print(c(\"AIC=\",AIC(m)))\n",
    "m5 <- m"
   ]
  },
  {
   "cell_type": "code",
   "execution_count": 35,
   "id": "e2f850ee-ea9f-4848-aa0b-3795bb1a4795",
   "metadata": {},
   "outputs": [],
   "source": [
    "write.csv(coef(summary(m)),file=\"data/airport_x_months_fit5.csv\")"
   ]
  },
  {
   "cell_type": "code",
   "execution_count": 36,
   "id": "1f2361b3-62a4-40ad-b173-92497a3c307d",
   "metadata": {},
   "outputs": [],
   "source": [
    "# MSP, DTW, CLT"
   ]
  },
  {
   "cell_type": "code",
   "execution_count": 37,
   "id": "4381b7e9-a612-4eb3-9aad-1b452149b170",
   "metadata": {},
   "outputs": [
    {
     "data": {
      "text/plain": [
       "\n",
       "Call: rlm(formula = t_delay_rate ~ covid + arr_flights_n + ATL + ADK + \n",
       "    ITO + sep + mar + CDB + oct + jul + feb + extra_tue + EKO + \n",
       "    LIH + HIB + BTM + HNL + KOA + apr + may + extra_sat + BJI + \n",
       "    extra_thu + OGG + OTZ + BQN + LWS + PIH + ELM + ABR + jan, \n",
       "    data = data[newFilterTest, ])\n",
       "Residuals:\n",
       "     Min       1Q   Median       3Q      Max \n",
       "-3.30625 -0.31434  0.01547  0.31154  3.39773 \n",
       "\n",
       "Coefficients:\n",
       "              Value    Std. Error t value \n",
       "(Intercept)    -1.6455   0.0167   -98.6565\n",
       "covid          -0.6844   0.0097   -70.4533\n",
       "arr_flights_n   0.3589   0.0563     6.3742\n",
       "ATL            -0.5260   0.0975    -5.3955\n",
       "ADK             1.6143   0.1140    14.1553\n",
       "ITO            -1.2121   0.0897   -13.5193\n",
       "sep            -0.4357   0.0223   -19.5119\n",
       "mar            -0.2847   0.0172   -16.5815\n",
       "CDB             1.4066   0.1350    10.4224\n",
       "oct            -0.3377   0.0227   -14.8809\n",
       "jul             0.1723   0.0169    10.2101\n",
       "feb             0.4054   0.0253    16.0511\n",
       "extra_tue       0.2251   0.0162    13.8609\n",
       "EKO            -0.9174   0.0971    -9.4500\n",
       "LIH            -0.8032   0.0897    -8.9588\n",
       "HIB            -0.8271   0.0924    -8.9484\n",
       "BTM            -0.7911   0.0910    -8.6918\n",
       "HNL            -0.4819   0.0897    -5.3725\n",
       "KOA            -0.6819   0.0897    -7.6066\n",
       "apr            -0.2889   0.0180   -16.0439\n",
       "may            -0.2222   0.0171   -13.0167\n",
       "extra_sat       0.2433   0.0167    14.6011\n",
       "BJI            -0.6559   0.0897    -7.3141\n",
       "extra_thu       0.1260   0.0123    10.2616\n",
       "OGG            -0.4944   0.0896    -5.5144\n",
       "OTZ            -0.6353   0.0939    -6.7651\n",
       "BQN             0.7511   0.1114     6.7399\n",
       "LWS            -0.6248   0.0910    -6.8652\n",
       "PIH            -0.5994   0.0897    -6.6845\n",
       "ELM            -0.5684   0.0955    -5.9550\n",
       "ABR            -0.5770   0.0939    -6.1452\n",
       "jan            -0.2130   0.0226    -9.4294\n",
       "\n",
       "Residual standard error: 0.464 on 11648 degrees of freedom"
      ]
     },
     "metadata": {},
     "output_type": "display_data"
    },
    {
     "name": "stdout",
     "output_type": "stream",
     "text": [
      "[1] \"BIC=\"             \"20470.8720429647\"\n",
      "[1] \"AIC=\"             \"20227.8061455041\"\n"
     ]
    },
    {
     "data": {
      "image/png": "[encoded data removed]",
      "text/plain": [
       "Plot with title “Normal Q-Q Plot”"
      ]
     },
     "metadata": {
      "image/png": {
       "height": 420,
       "width": 420
      }
     },
     "output_type": "display_data"
    }
   ],
   "source": [
    "m <- MASS::rlm(t_delay_rate~ covid+arr_flights_n+ATL+ADK+ITO+sep+mar+CDB+oct+jul+feb\n",
    "               +extra_tue+EKO+LIH+HIB+BTM+HNL+KOA+apr+may+extra_sat+BJI+extra_thu+OGG+OTZ\n",
    "               +BQN+LWS+PIH+ELM+ABR+jan,data=data[newFilterTest,])\n",
    "summary(m)\n",
    "qqnorm(m$residuals); qqline(m$residuals)\n",
    "\n",
    "print(c(\"BIC=\",BIC(m)))\n",
    "print(c(\"AIC=\",AIC(m)))\n",
    "m6 <- m"
   ]
  },
  {
   "cell_type": "code",
   "execution_count": 40,
   "id": "501a0e90-73da-4d4c-b788-7f4b886a4a1b",
   "metadata": {},
   "outputs": [],
   "source": [
    "write.csv(coef(summary(m)),file=\"data/airport_x_months_fit6.csv\") # none with |t|<5 are left"
   ]
  },
  {
   "cell_type": "code",
   "execution_count": 41,
   "id": "983efa90-d97f-4f5b-8411-a6fe4fda2e44",
   "metadata": {},
   "outputs": [],
   "source": [
    "# adding top30 indicator (could not be added to the maximal model, because it is the sum of 30 indicators)"
   ]
  },
  {
   "cell_type": "code",
   "execution_count": 43,
   "id": "195d0bdd-fbdf-48cd-9254-5453656c30ad",
   "metadata": {},
   "outputs": [
    {
     "data": {
      "text/plain": [
       "\n",
       "Call: rlm(formula = t_delay_rate ~ covid + arr_flights_n + top30 + \n",
       "    ATL + ADK + ITO + sep + mar + CDB + oct + jul + feb + extra_tue + \n",
       "    EKO + LIH + HIB + BTM + HNL + KOA + apr + may + extra_sat + \n",
       "    BJI + extra_thu + OGG + OTZ + BQN + LWS + PIH + ELM + ABR + \n",
       "    jan, data = data[newFilterTest, ])\n",
       "Residuals:\n",
       "     Min       1Q   Median       3Q      Max \n",
       "-3.31850 -0.31251  0.01339  0.31014  3.39541 \n",
       "\n",
       "Coefficients:\n",
       "              Value    Std. Error t value \n",
       "(Intercept)    -1.6560   0.0166   -99.7642\n",
       "covid          -0.6684   0.0097   -68.6088\n",
       "arr_flights_n   1.2354   0.0963    12.8273\n",
       "top30          -0.3441   0.0303   -11.3735\n",
       "ATL            -0.8089   0.1002    -8.0715\n",
       "ADK             1.6141   0.1133    14.2406\n",
       "ITO            -1.2188   0.0891   -13.6767\n",
       "sep            -0.4329   0.0222   -19.5061\n",
       "mar            -0.2907   0.0171   -17.0260\n",
       "CDB             1.4017   0.1341    10.4503\n",
       "oct            -0.3376   0.0226   -14.9671\n",
       "jul             0.1690   0.0168    10.0770\n",
       "feb             0.4103   0.0251    16.3436\n",
       "extra_tue       0.2237   0.0161    13.8604\n",
       "EKO            -0.9136   0.0965    -9.4690\n",
       "LIH            -0.8196   0.0891    -9.1972\n",
       "HIB            -0.8248   0.0919    -8.9787\n",
       "BTM            -0.7886   0.0905    -8.7179\n",
       "HNL            -0.2137   0.0922    -2.3183\n",
       "KOA            -0.7006   0.0891    -7.8618\n",
       "apr            -0.2898   0.0179   -16.1921\n",
       "may            -0.2236   0.0170   -13.1801\n",
       "extra_sat       0.2430   0.0166    14.6749\n",
       "BJI            -0.6515   0.0891    -7.3101\n",
       "extra_thu       0.1260   0.0122    10.3311\n",
       "OGG            -0.5319   0.0892    -5.9654\n",
       "OTZ            -0.6324   0.0933    -6.7757\n",
       "BQN             0.7564   0.1108     6.8288\n",
       "LWS            -0.6235   0.0905    -6.8924\n",
       "PIH            -0.5971   0.0891    -6.7002\n",
       "ELM            -0.5701   0.0949    -6.0089\n",
       "ABR            -0.5739   0.0933    -6.1496\n",
       "jan            -0.2108   0.0225    -9.3906\n",
       "\n",
       "Residual standard error: 0.4608 on 11647 degrees of freedom"
      ]
     },
     "metadata": {},
     "output_type": "display_data"
    },
    {
     "name": "stdout",
     "output_type": "stream",
     "text": [
      "[1] \"BIC=\"             \"20361.2790367829\"\n",
      "[1] \"AIC=\"             \"20110.8475060659\"\n"
     ]
    },
    {
     "data": {
      "image/png": "[encoded data removed]",
      "text/plain": [
       "Plot with title “Normal Q-Q Plot”"
      ]
     },
     "metadata": {
      "image/png": {
       "height": 420,
       "width": 420
      }
     },
     "output_type": "display_data"
    }
   ],
   "source": [
    "m <- MASS::rlm(t_delay_rate~ covid+arr_flights_n+top30+ATL+ADK+ITO+sep+mar+CDB+oct+jul+feb\n",
    "               +extra_tue+EKO+LIH+HIB+BTM+HNL+KOA+apr+may+extra_sat+BJI+extra_thu+OGG+OTZ\n",
    "               +BQN+LWS+PIH+ELM+ABR+jan,data=data[newFilterTest,])\n",
    "summary(m)\n",
    "qqnorm(m$residuals); qqline(m$residuals)\n",
    "\n",
    "print(c(\"BIC=\",BIC(m)))\n",
    "print(c(\"AIC=\",AIC(m)))\n",
    "m7 <- m"
   ]
  },
  {
   "cell_type": "code",
   "execution_count": 44,
   "id": "6572160c-2413-4380-9c5c-b156c2a735e6",
   "metadata": {},
   "outputs": [],
   "source": [
    "write.csv(coef(summary(m)),file=\"data/airport_x_months_fit7.csv\") "
   ]
  },
  {
   "cell_type": "code",
   "execution_count": 45,
   "id": "c6b00e6d-e0c1-421a-b9ce-9b16a8b6b0d0",
   "metadata": {},
   "outputs": [],
   "source": [
    "# HNL has to go"
   ]
  },
  {
   "cell_type": "code",
   "execution_count": 46,
   "id": "cb113a1f-4455-457c-97b1-84c064e1f0d3",
   "metadata": {},
   "outputs": [
    {
     "data": {
      "text/plain": [
       "\n",
       "Call: rlm(formula = t_delay_rate ~ covid + arr_flights_n + top30 + \n",
       "    ATL + ADK + ITO + sep + mar + CDB + oct + jul + feb + extra_tue + \n",
       "    EKO + LIH + HIB + BTM + KOA + apr + may + extra_sat + BJI + \n",
       "    extra_thu + OGG + OTZ + BQN + LWS + PIH + ELM + ABR + jan, \n",
       "    data = data[newFilterTest, ])\n",
       "Residuals:\n",
       "     Min       1Q   Median       3Q      Max \n",
       "-3.31828 -0.31375  0.01301  0.31034  3.39584 \n",
       "\n",
       "Coefficients:\n",
       "              Value    Std. Error t value \n",
       "(Intercept)    -1.6571   0.0166   -99.8531\n",
       "covid          -0.6676   0.0097   -68.5522\n",
       "arr_flights_n   1.2814   0.0946    13.5476\n",
       "top30          -0.3636   0.0293   -12.4266\n",
       "ATL            -0.8216   0.1001    -8.2087\n",
       "ADK             1.6141   0.1134    14.2396\n",
       "ITO            -1.2183   0.0891   -13.6705\n",
       "sep            -0.4329   0.0222   -19.5043\n",
       "mar            -0.2911   0.0171   -17.0514\n",
       "CDB             1.4020   0.1341    10.4522\n",
       "oct            -0.3378   0.0226   -14.9726\n",
       "jul             0.1688   0.0168    10.0632\n",
       "feb             0.4105   0.0251    16.3522\n",
       "extra_tue       0.2238   0.0161    13.8664\n",
       "EKO            -0.9126   0.0965    -9.4580\n",
       "LIH            -0.8199   0.0891    -9.2005\n",
       "HIB            -0.8240   0.0919    -8.9692\n",
       "BTM            -0.7879   0.0905    -8.7098\n",
       "KOA            -0.7009   0.0891    -7.8647\n",
       "apr            -0.2902   0.0179   -16.2120\n",
       "may            -0.2241   0.0170   -13.2086\n",
       "extra_sat       0.2431   0.0166    14.6752\n",
       "BJI            -0.6507   0.0891    -7.3011\n",
       "extra_thu       0.1260   0.0122    10.3304\n",
       "OGG            -0.5333   0.0892    -5.9816\n",
       "OTZ            -0.6317   0.0933    -6.7680\n",
       "BQN             0.7573   0.1108     6.8372\n",
       "LWS            -0.6229   0.0905    -6.8852\n",
       "PIH            -0.5963   0.0891    -6.6909\n",
       "ELM            -0.5694   0.0949    -6.0019\n",
       "ABR            -0.5732   0.0933    -6.1421\n",
       "jan            -0.2109   0.0225    -9.3927\n",
       "\n",
       "Residual standard error: 0.4616 on 11648 degrees of freedom"
      ]
     },
     "metadata": {},
     "output_type": "display_data"
    },
    {
     "name": "stdout",
     "output_type": "stream",
     "text": [
      "[1] \"BIC=\"             \"20354.5895350872\"\n",
      "[1] \"AIC=\"             \"20111.5236376266\"\n"
     ]
    },
    {
     "data": {
      "image/png": "[encoded data removed]",
      "text/plain": [
       "Plot with title “Normal Q-Q Plot”"
      ]
     },
     "metadata": {
      "image/png": {
       "height": 420,
       "width": 420
      }
     },
     "output_type": "display_data"
    }
   ],
   "source": [
    "m <- MASS::rlm(t_delay_rate~ covid+arr_flights_n+top30+ATL+ADK+ITO+sep+mar+CDB+oct+jul+feb\n",
    "               +extra_tue+EKO+LIH+HIB+BTM+KOA+apr+may+extra_sat+BJI+extra_thu+OGG+OTZ\n",
    "               +BQN+LWS+PIH+ELM+ABR+jan,data=data[newFilterTest,])\n",
    "summary(m)\n",
    "qqnorm(m$residuals); qqline(m$residuals)\n",
    "\n",
    "print(c(\"BIC=\",BIC(m)))\n",
    "print(c(\"AIC=\",AIC(m)))\n",
    "m8 <- m"
   ]
  },
  {
   "cell_type": "code",
   "execution_count": 47,
   "id": "016a1a09-3a6e-4eec-b6eb-205a7c68f117",
   "metadata": {},
   "outputs": [],
   "source": [
    "write.csv(coef(summary(m8)),file=\"data/airport_x_months_intermediate.csv\") \n",
    "### INTERMEDIATE CHECKPOINT: done using t-value for selection"
   ]
  },
  {
   "cell_type": "code",
   "execution_count": 48,
   "id": "f9047354-1be1-488b-be14-d5ad3ae563b4",
   "metadata": {},
   "outputs": [
    {
     "data": {
      "text/plain": [
       "\n",
       "Call: rlm(formula = t_delay_rate ~ covid + arr_flights_n + top30 + \n",
       "    jan + feb + mar + apr + may + jul + sep + oct + extra_tue + \n",
       "    extra_thu + extra_sat + ADK + ATL + ITO + CDB + EKO + LIH + \n",
       "    HIB + BTM + KOA + BJI + OGG + OTZ + BQN + LWS + PIH + ELM + \n",
       "    ABR, data = data[newFilterTest, ])\n",
       "Residuals:\n",
       "     Min       1Q   Median       3Q      Max \n",
       "-3.31828 -0.31375  0.01301  0.31034  3.39584 \n",
       "\n",
       "Coefficients:\n",
       "              Value    Std. Error t value \n",
       "(Intercept)    -1.6571   0.0166   -99.8531\n",
       "covid          -0.6676   0.0097   -68.5522\n",
       "arr_flights_n   1.2814   0.0946    13.5476\n",
       "top30          -0.3636   0.0293   -12.4266\n",
       "jan            -0.2109   0.0225    -9.3927\n",
       "feb             0.4105   0.0251    16.3522\n",
       "mar            -0.2911   0.0171   -17.0514\n",
       "apr            -0.2902   0.0179   -16.2120\n",
       "may            -0.2241   0.0170   -13.2086\n",
       "jul             0.1688   0.0168    10.0632\n",
       "sep            -0.4329   0.0222   -19.5043\n",
       "oct            -0.3378   0.0226   -14.9726\n",
       "extra_tue       0.2238   0.0161    13.8664\n",
       "extra_thu       0.1260   0.0122    10.3304\n",
       "extra_sat       0.2431   0.0166    14.6752\n",
       "ADK             1.6141   0.1134    14.2396\n",
       "ATL            -0.8216   0.1001    -8.2087\n",
       "ITO            -1.2183   0.0891   -13.6705\n",
       "CDB             1.4020   0.1341    10.4522\n",
       "EKO            -0.9126   0.0965    -9.4580\n",
       "LIH            -0.8199   0.0891    -9.2005\n",
       "HIB            -0.8240   0.0919    -8.9692\n",
       "BTM            -0.7879   0.0905    -8.7098\n",
       "KOA            -0.7009   0.0891    -7.8647\n",
       "BJI            -0.6507   0.0891    -7.3011\n",
       "OGG            -0.5333   0.0892    -5.9816\n",
       "OTZ            -0.6317   0.0933    -6.7680\n",
       "BQN             0.7573   0.1108     6.8372\n",
       "LWS            -0.6229   0.0905    -6.8852\n",
       "PIH            -0.5963   0.0891    -6.6909\n",
       "ELM            -0.5694   0.0949    -6.0019\n",
       "ABR            -0.5732   0.0933    -6.1421\n",
       "\n",
       "Residual standard error: 0.4616 on 11648 degrees of freedom"
      ]
     },
     "metadata": {},
     "output_type": "display_data"
    },
    {
     "name": "stdout",
     "output_type": "stream",
     "text": [
      "[1] \"BIC=\"             \"20354.5895350872\"\n",
      "[1] \"AIC=\"             \"20111.5236376266\"\n"
     ]
    },
    {
     "data": {
      "image/png": "[encoded data removed]",
      "text/plain": [
       "Plot with title “Normal Q-Q Plot”"
      ]
     },
     "metadata": {
      "image/png": {
       "height": 420,
       "width": 420
      }
     },
     "output_type": "display_data"
    }
   ],
   "source": [
    "m <- MASS::rlm(t_delay_rate~ \n",
    "               covid\n",
    "               +arr_flights_n\n",
    "               +top30\n",
    "               +jan\n",
    "               +feb\n",
    "               +mar\n",
    "               +apr\n",
    "               +may\n",
    "               +jul\n",
    "               +sep\n",
    "               +oct\n",
    "               +extra_tue\n",
    "               +extra_thu\n",
    "               +extra_sat\n",
    "               \n",
    "               +ADK\n",
    "               +ATL\n",
    "               +ITO\n",
    "               +CDB\n",
    "               +EKO\n",
    "               +LIH\n",
    "               +HIB\n",
    "               +BTM\n",
    "               +KOA\n",
    "               +BJI\n",
    "               +OGG\n",
    "               +OTZ\n",
    "               +BQN\n",
    "               +LWS\n",
    "               +PIH\n",
    "               +ELM\n",
    "               +ABR\n",
    "               ,data=data[newFilterTest,])\n",
    "summary(m)\n",
    "qqnorm(m$residuals); qqline(m$residuals)\n",
    "\n",
    "print(c(\"BIC=\",BIC(m)))\n",
    "print(c(\"AIC=\",AIC(m)))\n",
    "intermediate <- m"
   ]
  },
  {
   "cell_type": "code",
   "execution_count": 54,
   "id": "504dec37-64e7-4e10-b794-62229dcb7d5a",
   "metadata": {},
   "outputs": [
    {
     "data": {
      "text/plain": [
       "\n",
       "Call: rlm(formula = t_delay_rate ~ covid + arr_flights_n + top30 + \n",
       "    jan + feb + mar + apr + may + jul + sep + oct + extra_tue + \n",
       "    extra_thu + extra_sat + ADK + ATL + ITO + CDB + EKO + LIH + \n",
       "    HIB + BTM + KOA + BJI + OGG + OTZ + BQN + LWS + PIH + ELM + \n",
       "    ABR, data = data[newFilterTest, ])\n",
       "Residuals:\n",
       "     Min       1Q   Median       3Q      Max \n",
       "-3.31828 -0.31375  0.01301  0.31034  3.39584 \n",
       "\n",
       "Coefficients:\n",
       "              Value    Std. Error t value \n",
       "(Intercept)    -1.6571   0.0166   -99.8531\n",
       "covid          -0.6676   0.0097   -68.5522\n",
       "arr_flights_n   1.2814   0.0946    13.5476\n",
       "top30          -0.3636   0.0293   -12.4266\n",
       "jan            -0.2109   0.0225    -9.3927\n",
       "feb             0.4105   0.0251    16.3522\n",
       "mar            -0.2911   0.0171   -17.0514\n",
       "apr            -0.2902   0.0179   -16.2120\n",
       "may            -0.2241   0.0170   -13.2086\n",
       "jul             0.1688   0.0168    10.0632\n",
       "sep            -0.4329   0.0222   -19.5043\n",
       "oct            -0.3378   0.0226   -14.9726\n",
       "extra_tue       0.2238   0.0161    13.8664\n",
       "extra_thu       0.1260   0.0122    10.3304\n",
       "extra_sat       0.2431   0.0166    14.6752\n",
       "ADK             1.6141   0.1134    14.2396\n",
       "ATL            -0.8216   0.1001    -8.2087\n",
       "ITO            -1.2183   0.0891   -13.6705\n",
       "CDB             1.4020   0.1341    10.4522\n",
       "EKO            -0.9126   0.0965    -9.4580\n",
       "LIH            -0.8199   0.0891    -9.2005\n",
       "HIB            -0.8240   0.0919    -8.9692\n",
       "BTM            -0.7879   0.0905    -8.7098\n",
       "KOA            -0.7009   0.0891    -7.8647\n",
       "BJI            -0.6507   0.0891    -7.3011\n",
       "OGG            -0.5333   0.0892    -5.9816\n",
       "OTZ            -0.6317   0.0933    -6.7680\n",
       "BQN             0.7573   0.1108     6.8372\n",
       "LWS            -0.6229   0.0905    -6.8852\n",
       "PIH            -0.5963   0.0891    -6.6909\n",
       "ELM            -0.5694   0.0949    -6.0019\n",
       "ABR            -0.5732   0.0933    -6.1421\n",
       "\n",
       "Residual standard error: 0.4616 on 11648 degrees of freedom"
      ]
     },
     "metadata": {},
     "output_type": "display_data"
    },
    {
     "name": "stdout",
     "output_type": "stream",
     "text": [
      "[1] \"BIC=\"             \"20354.5895350872\"\n",
      "[1] \"AIC=\"             \"20111.5236376266\"\n"
     ]
    },
    {
     "data": {
      "image/png": "[encoded data removed]",
      "text/plain": [
       "Plot with title “Normal Q-Q Plot”"
      ]
     },
     "metadata": {
      "image/png": {
       "height": 420,
       "width": 420
      }
     },
     "output_type": "display_data"
    }
   ],
   "source": [
    "m <- MASS::rlm(t_delay_rate~ \n",
    "               \n",
    "               \n",
    "               covid\n",
    "               \n",
    "               +arr_flights_n\n",
    "               +top30\n",
    "               +jan\n",
    "               +feb\n",
    "               +mar\n",
    "               +apr\n",
    "               +may\n",
    "               +jul\n",
    "               +sep\n",
    "               +oct\n",
    "               +extra_tue\n",
    "               +extra_thu\n",
    "               +extra_sat\n",
    "               \n",
    "               +ADK\n",
    "               +ATL\n",
    "               +ITO\n",
    "               +CDB\n",
    "               +EKO\n",
    "               +LIH\n",
    "               +HIB\n",
    "               +BTM\n",
    "               +KOA\n",
    "               +BJI\n",
    "               +OGG\n",
    "               +OTZ\n",
    "               +BQN\n",
    "               +LWS\n",
    "               +PIH\n",
    "               +ELM\n",
    "               +ABR\n",
    "               ,data=data[newFilterTest,])\n",
    "summary(m)\n",
    "qqnorm(m$residuals); qqline(m$residuals)\n",
    "\n",
    "print(c(\"BIC=\",BIC(m)))\n",
    "print(c(\"AIC=\",AIC(m)))\n"
   ]
  },
  {
   "cell_type": "code",
   "execution_count": 55,
   "id": "e4a6d0be-f29c-4be0-aa10-ef1b173e0226",
   "metadata": {},
   "outputs": [
    {
     "data": {
      "text/html": [
       "<style>\n",
       ".list-inline {list-style: none; margin:0; padding: 0}\n",
       ".list-inline>li {display: inline-block}\n",
       ".list-inline>li:not(:last-child)::after {content: \"\\00b7\"; padding: 0 .5ex}\n",
       "</style>\n",
       "<ol class=list-inline><li>20266.7415084676</li><li>20417.108220453</li><li>20445.0824045357</li><li>20454.137377941</li><li>20458.0001157264</li><li>20470.8720429647</li><li>20361.2790367829</li><li>20354.5895350872</li></ol>\n"
      ],
      "text/latex": [
       "\\begin{enumerate*}\n",
       "\\item 20266.7415084676\n",
       "\\item 20417.108220453\n",
       "\\item 20445.0824045357\n",
       "\\item 20454.137377941\n",
       "\\item 20458.0001157264\n",
       "\\item 20470.8720429647\n",
       "\\item 20361.2790367829\n",
       "\\item 20354.5895350872\n",
       "\\end{enumerate*}\n"
      ],
      "text/markdown": [
       "1. 20266.7415084676\n",
       "2. 20417.108220453\n",
       "3. 20445.0824045357\n",
       "4. 20454.137377941\n",
       "5. 20458.0001157264\n",
       "6. 20470.8720429647\n",
       "7. 20361.2790367829\n",
       "8. 20354.5895350872\n",
       "\n",
       "\n"
      ],
      "text/plain": [
       "[1] 20266.74 20417.11 20445.08 20454.14 20458.00 20470.87 20361.28 20354.59"
      ]
     },
     "metadata": {},
     "output_type": "display_data"
    }
   ],
   "source": [
    "c(BIC(m1),BIC(m2),BIC(m3),BIC(m4),BIC(m5),BIC(m6),BIC(m7),BIC(m8))"
   ]
  },
  {
   "cell_type": "code",
   "execution_count": 57,
   "id": "bf7d5c15-71a6-430c-b8cc-6619de5ccff1",
   "metadata": {},
   "outputs": [],
   "source": [
    "### airport effect estimates\n",
    "\n",
    "m <- intermediate"
   ]
  },
  {
   "cell_type": "code",
   "execution_count": 60,
   "id": "3a5e4a3a-7dba-42e3-bcc1-098bb59618d5",
   "metadata": {},
   "outputs": [
    {
     "data": {
      "text/plain": [
       "Call:\n",
       "rlm(formula = t_delay_rate ~ covid + arr_flights_n + top30 + \n",
       "    jan + feb + mar + apr + may + jul + sep + oct + extra_tue + \n",
       "    extra_thu + extra_sat + ADK + ATL + ITO + CDB + EKO + LIH + \n",
       "    HIB + BTM + KOA + BJI + OGG + OTZ + BQN + LWS + PIH + ELM + \n",
       "    ABR, data = data[newFilterTest, ])\n",
       "Converged in 6 iterations\n",
       "\n",
       "Coefficients:\n",
       "  (Intercept)         covid arr_flights_n         top30           jan \n",
       "   -1.6571043    -0.6675954     1.2814442    -0.3636020    -0.2108848 \n",
       "          feb           mar           apr           may           jul \n",
       "    0.4105046    -0.2911106    -0.2901765    -0.2241316     0.1687925 \n",
       "          sep           oct     extra_tue     extra_thu     extra_sat \n",
       "   -0.4329043    -0.3377728     0.2238082     0.1260413     0.2430634 \n",
       "          ADK           ATL           ITO           CDB           EKO \n",
       "    1.6140854    -0.8216337    -1.2182870     1.4020341    -0.9125899 \n",
       "          LIH           HIB           BTM           KOA           BJI \n",
       "   -0.8199475    -0.8239688    -0.7879231    -0.7009324    -0.6507217 \n",
       "          OGG           OTZ           BQN           LWS           PIH \n",
       "   -0.5333399    -0.6316761     0.7573286    -0.6228576    -0.5963349 \n",
       "          ELM           ABR \n",
       "   -0.5694113    -0.5732430 \n",
       "\n",
       "Degrees of freedom: 11680 total; 11648 residual\n",
       "Scale estimate: 0.462 "
      ]
     },
     "metadata": {},
     "output_type": "display_data"
    }
   ],
   "source": [
    "m"
   ]
  },
  {
   "cell_type": "code",
   "execution_count": 59,
   "id": "d9d07a9e-0f35-42ad-b0d4-8bfff6fe9831",
   "metadata": {},
   "outputs": [
    {
     "data": {
      "text/html": [
       "<table class=\"dataframe\">\n",
       "<caption>A data.frame: 5897 × 103</caption>\n",
       "<thead>\n",
       "\t<tr><th></th><th scope=col>t</th><th scope=col>month</th><th scope=col>year</th><th scope=col>airport_name</th><th scope=col>airport</th><th scope=col>covid</th><th scope=col>control</th><th scope=col>extra_mon</th><th scope=col>extra_tue</th><th scope=col>extra_wed</th><th scope=col>⋯</th><th scope=col>jul</th><th scope=col>aug</th><th scope=col>sep</th><th scope=col>oct</th><th scope=col>nov</th><th scope=col>dec</th><th scope=col>arr_flights_n</th><th scope=col>t_delay_rate</th><th scope=col>t_new_delay_rate</th><th scope=col>tc_delay_rate</th></tr>\n",
       "\t<tr><th></th><th scope=col>&lt;int&gt;</th><th scope=col>&lt;int&gt;</th><th scope=col>&lt;int&gt;</th><th scope=col>&lt;chr&gt;</th><th scope=col>&lt;chr&gt;</th><th scope=col>&lt;int&gt;</th><th scope=col>&lt;int&gt;</th><th scope=col>&lt;int&gt;</th><th scope=col>&lt;int&gt;</th><th scope=col>&lt;int&gt;</th><th scope=col>⋯</th><th scope=col>&lt;dbl&gt;</th><th scope=col>&lt;dbl&gt;</th><th scope=col>&lt;dbl&gt;</th><th scope=col>&lt;dbl&gt;</th><th scope=col>&lt;dbl&gt;</th><th scope=col>&lt;dbl&gt;</th><th scope=col>&lt;dbl&gt;</th><th scope=col>&lt;dbl&gt;</th><th scope=col>&lt;dbl&gt;</th><th scope=col>&lt;dbl&gt;</th></tr>\n",
       "</thead>\n",
       "<tbody>\n",
       "\t<tr><th scope=row>51461</th><td>178</td><td>3</td><td>2018</td><td>Aberdeen, SD: Aberdeen Regional                                    </td><td>ABR</td><td>0</td><td>1</td><td>0</td><td>0</td><td>0</td><td>⋯</td><td>0</td><td>0</td><td>0</td><td>0</td><td>0</td><td>0</td><td>0.0016212965</td><td>-2.6741486</td><td>-3.2949752</td><td>-2.6741486</td></tr>\n",
       "\t<tr><th scope=row>51462</th><td>178</td><td>3</td><td>2018</td><td>Abilene, TX: Abilene Regional                                      </td><td>ABI</td><td>0</td><td>1</td><td>0</td><td>0</td><td>0</td><td>⋯</td><td>0</td><td>0</td><td>0</td><td>0</td><td>0</td><td>0</td><td>0.0037917418</td><td>-1.3862944</td><td>-1.9023058</td><td>-1.3862944</td></tr>\n",
       "\t<tr><th scope=row>51463</th><td>178</td><td>3</td><td>2018</td><td>Adak Island, AK: Adak                                              </td><td>ADK</td><td>0</td><td>1</td><td>0</td><td>0</td><td>0</td><td>⋯</td><td>0</td><td>0</td><td>0</td><td>0</td><td>0</td><td>0</td><td>0.0002353495</td><td>-0.6931472</td><td>-0.6931472</td><td>-0.6931472</td></tr>\n",
       "\t<tr><th scope=row>51464</th><td>178</td><td>3</td><td>2018</td><td>Aguadilla, PR: Rafael Hernandez                                    </td><td>BQN</td><td>0</td><td>1</td><td>0</td><td>0</td><td>0</td><td>⋯</td><td>0</td><td>0</td><td>0</td><td>0</td><td>0</td><td>0</td><td>0.0037917418</td><td>-0.9998774</td><td>-1.5358017</td><td>-0.9998774</td></tr>\n",
       "\t<tr><th scope=row>51465</th><td>178</td><td>3</td><td>2018</td><td>Akron, OH: Akron-Canton Regional                                   </td><td>CAK</td><td>0</td><td>1</td><td>0</td><td>0</td><td>0</td><td>⋯</td><td>0</td><td>0</td><td>0</td><td>0</td><td>0</td><td>0</td><td>0.0166313642</td><td>-1.1582044</td><td>-1.6464792</td><td>-1.1582044</td></tr>\n",
       "\t<tr><th scope=row>51466</th><td>178</td><td>3</td><td>2018</td><td>Albany, GA: Southwest Georgia Regional                             </td><td>ABY</td><td>0</td><td>1</td><td>0</td><td>0</td><td>0</td><td>⋯</td><td>0</td><td>0</td><td>0</td><td>0</td><td>0</td><td>0</td><td>0.0023011951</td><td>-1.9459101</td><td>-2.1566312</td><td>-1.9459101</td></tr>\n",
       "\t<tr><th scope=row>51467</th><td>178</td><td>3</td><td>2018</td><td>Albany, NY: Albany International                                   </td><td>ALB</td><td>0</td><td>1</td><td>0</td><td>0</td><td>0</td><td>⋯</td><td>0</td><td>0</td><td>0</td><td>0</td><td>0</td><td>0</td><td>0.0314322324</td><td>-1.3728296</td><td>-1.8029164</td><td>-1.3728296</td></tr>\n",
       "\t<tr><th scope=row>51468</th><td>178</td><td>3</td><td>2018</td><td>Albuquerque, NM: Albuquerque International Sunport                 </td><td>ABQ</td><td>0</td><td>1</td><td>0</td><td>0</td><td>0</td><td>⋯</td><td>0</td><td>0</td><td>0</td><td>0</td><td>0</td><td>0</td><td>0.0494495437</td><td>-1.4271164</td><td>-2.0563912</td><td>-1.4271164</td></tr>\n",
       "\t<tr><th scope=row>51469</th><td>178</td><td>3</td><td>2018</td><td>Alexandria, LA: Alexandria International                           </td><td>AEX</td><td>0</td><td>1</td><td>0</td><td>0</td><td>0</td><td>⋯</td><td>0</td><td>0</td><td>0</td><td>0</td><td>0</td><td>0</td><td>0.0076619335</td><td>-1.7332633</td><td>-2.2570513</td><td>-1.7332633</td></tr>\n",
       "\t<tr><th scope=row>51470</th><td>178</td><td>3</td><td>2018</td><td>Allentown/Bethlehem/Easton, PA: Lehigh Valley International        </td><td>ABE</td><td>0</td><td>1</td><td>0</td><td>0</td><td>0</td><td>⋯</td><td>0</td><td>0</td><td>0</td><td>0</td><td>0</td><td>0</td><td>0.0096754792</td><td>-1.6422277</td><td>-1.9171033</td><td>-1.6422277</td></tr>\n",
       "\t<tr><th scope=row>51471</th><td>178</td><td>3</td><td>2018</td><td>Alpena, MI: Alpena County Regional                                 </td><td>APN</td><td>0</td><td>1</td><td>0</td><td>0</td><td>0</td><td>⋯</td><td>0</td><td>0</td><td>0</td><td>0</td><td>0</td><td>0</td><td>0.0013859470</td><td>-1.8827312</td><td>-2.3047614</td><td>-1.8827312</td></tr>\n",
       "\t<tr><th scope=row>51472</th><td>178</td><td>3</td><td>2018</td><td>Amarillo, TX: Rick Husband Amarillo International                  </td><td>AMA</td><td>0</td><td>1</td><td>0</td><td>0</td><td>0</td><td>⋯</td><td>0</td><td>0</td><td>0</td><td>0</td><td>0</td><td>0</td><td>0.0107999268</td><td>-1.6778152</td><td>-2.4427063</td><td>-1.6778152</td></tr>\n",
       "\t<tr><th scope=row>51473</th><td>178</td><td>3</td><td>2018</td><td>Anchorage, AK: Ted Stevens Anchorage International                 </td><td>ANC</td><td>0</td><td>1</td><td>0</td><td>0</td><td>0</td><td>⋯</td><td>0</td><td>0</td><td>0</td><td>0</td><td>0</td><td>0</td><td>0.0345963756</td><td>-1.7552019</td><td>-1.9637095</td><td>-1.7552019</td></tr>\n",
       "\t<tr><th scope=row>51474</th><td>178</td><td>3</td><td>2018</td><td>Appleton, WI: Appleton International                               </td><td>ATW</td><td>0</td><td>1</td><td>0</td><td>0</td><td>0</td><td>⋯</td><td>0</td><td>0</td><td>0</td><td>0</td><td>0</td><td>0</td><td>0.0093878298</td><td>-1.9683830</td><td>-2.4168031</td><td>-1.9683830</td></tr>\n",
       "\t<tr><th scope=row>51475</th><td>178</td><td>3</td><td>2018</td><td>Arcata/Eureka, CA: California Redwood Coast Humboldt County        </td><td>ACV</td><td>0</td><td>1</td><td>0</td><td>0</td><td>0</td><td>⋯</td><td>0</td><td>0</td><td>0</td><td>0</td><td>0</td><td>0</td><td>0.0024319448</td><td>-1.5712167</td><td>-2.0665381</td><td>-1.5712167</td></tr>\n",
       "\t<tr><th scope=row>51476</th><td>178</td><td>3</td><td>2018</td><td>Asheville, NC: Asheville Regional                                  </td><td>AVL</td><td>0</td><td>1</td><td>0</td><td>0</td><td>0</td><td>⋯</td><td>0</td><td>0</td><td>0</td><td>0</td><td>0</td><td>0</td><td>0.0145132188</td><td>-1.5397159</td><td>-2.0193989</td><td>-1.5397159</td></tr>\n",
       "\t<tr><th scope=row>51477</th><td>178</td><td>3</td><td>2018</td><td>Ashland, WV: Tri-State/Milton J. Ferguson Field                    </td><td>HTS</td><td>0</td><td>1</td><td>0</td><td>0</td><td>0</td><td>⋯</td><td>0</td><td>0</td><td>0</td><td>0</td><td>0</td><td>0</td><td>0.0007583484</td><td>-1.8325815</td><td>-1.8325815</td><td>-1.8325815</td></tr>\n",
       "\t<tr><th scope=row>51478</th><td>178</td><td>3</td><td>2018</td><td>Aspen, CO: Aspen Pitkin County Sardy Field                         </td><td>ASE</td><td>0</td><td>1</td><td>0</td><td>0</td><td>0</td><td>⋯</td><td>0</td><td>0</td><td>0</td><td>0</td><td>0</td><td>0</td><td>0.0279542899</td><td>-1.4506789</td><td>-1.8555038</td><td>-1.4506789</td></tr>\n",
       "\t<tr><th scope=row>51479</th><td>178</td><td>3</td><td>2018</td><td>Atlanta, GA: Hartsfield-Jackson Atlanta International              </td><td>ATL</td><td>0</td><td>1</td><td>0</td><td>0</td><td>0</td><td>⋯</td><td>0</td><td>0</td><td>0</td><td>0</td><td>0</td><td>0</td><td>0.8811223556</td><td>-1.9741216</td><td>-2.4307788</td><td>-1.9741216</td></tr>\n",
       "\t<tr><th scope=row>51480</th><td>178</td><td>3</td><td>2018</td><td>Atlantic City, NJ: Atlantic City International                     </td><td>ACY</td><td>0</td><td>1</td><td>0</td><td>0</td><td>0</td><td>⋯</td><td>0</td><td>0</td><td>0</td><td>0</td><td>0</td><td>0</td><td>0.0081064826</td><td>-1.6017159</td><td>-1.8440324</td><td>-1.6017159</td></tr>\n",
       "\t<tr><th scope=row>51481</th><td>178</td><td>3</td><td>2018</td><td>Augusta, GA: Augusta Regional at Bush Field                        </td><td>AGS</td><td>0</td><td>1</td><td>0</td><td>0</td><td>0</td><td>⋯</td><td>0</td><td>0</td><td>0</td><td>0</td><td>0</td><td>0</td><td>0.0109568264</td><td>-1.6065767</td><td>-1.9826217</td><td>-1.6065767</td></tr>\n",
       "\t<tr><th scope=row>51482</th><td>178</td><td>3</td><td>2018</td><td>Austin, TX: Austin - Bergstrom International                       </td><td>AUS</td><td>0</td><td>1</td><td>0</td><td>0</td><td>0</td><td>⋯</td><td>0</td><td>0</td><td>0</td><td>0</td><td>0</td><td>0</td><td>0.1347768102</td><td>-1.6620442</td><td>-2.0988908</td><td>-1.6620442</td></tr>\n",
       "\t<tr><th scope=row>51483</th><td>178</td><td>3</td><td>2018</td><td>Bakersfield, CA: Meadows Field                                     </td><td>BFL</td><td>0</td><td>1</td><td>0</td><td>0</td><td>0</td><td>⋯</td><td>0</td><td>0</td><td>0</td><td>0</td><td>0</td><td>0</td><td>0.0047069899</td><td>-1.8245493</td><td>-2.4846486</td><td>-1.8245493</td></tr>\n",
       "\t<tr><th scope=row>51484</th><td>178</td><td>3</td><td>2018</td><td>Baltimore, MD: Baltimore/Washington International Thurgood Marshall</td><td>BWI</td><td>0</td><td>1</td><td>0</td><td>0</td><td>0</td><td>⋯</td><td>0</td><td>0</td><td>0</td><td>0</td><td>0</td><td>0</td><td>0.2360816924</td><td>-1.9403518</td><td>-2.4821337</td><td>-1.9403518</td></tr>\n",
       "\t<tr><th scope=row>51485</th><td>178</td><td>3</td><td>2018</td><td>Bangor, ME: Bangor International                                   </td><td>BGR</td><td>0</td><td>1</td><td>0</td><td>0</td><td>0</td><td>⋯</td><td>0</td><td>0</td><td>0</td><td>0</td><td>0</td><td>0</td><td>0.0089171308</td><td>-1.4271164</td><td>-1.8684442</td><td>-1.4271164</td></tr>\n",
       "\t<tr><th scope=row>51486</th><td>178</td><td>3</td><td>2018</td><td>Barrow, AK: Wiley Post/Will Rogers Memorial                        </td><td>BRW</td><td>0</td><td>1</td><td>0</td><td>0</td><td>0</td><td>⋯</td><td>0</td><td>0</td><td>0</td><td>0</td><td>0</td><td>0</td><td>0.0016212965</td><td>-2.6741486</td><td>-3.3672958</td><td>-2.6741486</td></tr>\n",
       "\t<tr><th scope=row>51487</th><td>178</td><td>3</td><td>2018</td><td>Baton Rouge, LA: Baton Rouge Metropolitan/Ryan Field               </td><td>BTR</td><td>0</td><td>1</td><td>0</td><td>0</td><td>0</td><td>⋯</td><td>0</td><td>0</td><td>0</td><td>0</td><td>0</td><td>0</td><td>0.0170759133</td><td>-1.9267958</td><td>-2.4067767</td><td>-1.9267958</td></tr>\n",
       "\t<tr><th scope=row>51488</th><td>178</td><td>3</td><td>2018</td><td>Beaumont/Port Arthur, TX: Jack Brooks Regional                     </td><td>BPT</td><td>0</td><td>1</td><td>0</td><td>0</td><td>0</td><td>⋯</td><td>0</td><td>0</td><td>0</td><td>0</td><td>0</td><td>0</td><td>0.0016212965</td><td>-1.9095425</td><td>-2.6672282</td><td>-1.9095425</td></tr>\n",
       "\t<tr><th scope=row>51489</th><td>178</td><td>3</td><td>2018</td><td>Belleville, IL: Scott AFB/MidAmerica                               </td><td>BLV</td><td>0</td><td>1</td><td>0</td><td>0</td><td>0</td><td>⋯</td><td>0</td><td>0</td><td>0</td><td>0</td><td>0</td><td>0</td><td>0.0023796449</td><td>-1.0266388</td><td>-1.3511001</td><td>-1.0266388</td></tr>\n",
       "\t<tr><th scope=row>51490</th><td>178</td><td>3</td><td>2018</td><td>Bellingham, WA: Bellingham International                           </td><td>BLI</td><td>0</td><td>1</td><td>0</td><td>0</td><td>0</td><td>⋯</td><td>0</td><td>0</td><td>0</td><td>0</td><td>0</td><td>0</td><td>0.0071389347</td><td>-2.2094947</td><td>-2.6044595</td><td>-2.2094947</td></tr>\n",
       "\t<tr><th scope=row>⋮</th><td>⋮</td><td>⋮</td><td>⋮</td><td>⋮</td><td>⋮</td><td>⋮</td><td>⋮</td><td>⋮</td><td>⋮</td><td>⋮</td><td>⋱</td><td>⋮</td><td>⋮</td><td>⋮</td><td>⋮</td><td>⋮</td><td>⋮</td><td>⋮</td><td>⋮</td><td>⋮</td><td>⋮</td></tr>\n",
       "\t<tr><th scope=row>57328</th><td>194</td><td>7</td><td>2019</td><td>Syracuse, NY: Syracuse Hancock International            </td><td>SYR</td><td>0</td><td>1</td><td>1</td><td>1</td><td>1</td><td>⋯</td><td>1</td><td>0</td><td>0</td><td>0</td><td>0</td><td>0</td><td>0.031327633</td><td>-1.0480521</td><td>-1.491680</td><td>-1.0480521</td></tr>\n",
       "\t<tr><th scope=row>57329</th><td>194</td><td>7</td><td>2019</td><td>Tallahassee, FL: Tallahassee International              </td><td>TLH</td><td>0</td><td>1</td><td>1</td><td>1</td><td>1</td><td>⋯</td><td>1</td><td>0</td><td>0</td><td>0</td><td>0</td><td>0</td><td>0.015193117</td><td>-1.3884472</td><td>-1.999697</td><td>-1.3884472</td></tr>\n",
       "\t<tr><th scope=row>57330</th><td>194</td><td>7</td><td>2019</td><td>Tampa, FL: Tampa International                          </td><td>TPA</td><td>0</td><td>1</td><td>1</td><td>1</td><td>1</td><td>⋯</td><td>1</td><td>0</td><td>0</td><td>0</td><td>0</td><td>0</td><td>0.163437149</td><td>-1.1213552</td><td>-1.542420</td><td>-1.1213552</td></tr>\n",
       "\t<tr><th scope=row>57331</th><td>194</td><td>7</td><td>2019</td><td>Texarkana, AR: Texarkana Regional-Webb Field            </td><td>TXK</td><td>0</td><td>1</td><td>1</td><td>1</td><td>1</td><td>⋯</td><td>1</td><td>0</td><td>0</td><td>0</td><td>0</td><td>0</td><td>0.003007244</td><td>-2.0600235</td><td>-3.221330</td><td>-2.0600235</td></tr>\n",
       "\t<tr><th scope=row>57332</th><td>194</td><td>7</td><td>2019</td><td>Toledo, OH: Toledo Express                              </td><td>TOL</td><td>0</td><td>1</td><td>1</td><td>1</td><td>1</td><td>⋯</td><td>1</td><td>0</td><td>0</td><td>0</td><td>0</td><td>0</td><td>0.004811590</td><td>-1.4485982</td><td>-2.040221</td><td>-1.4485982</td></tr>\n",
       "\t<tr><th scope=row>57333</th><td>194</td><td>7</td><td>2019</td><td>Traverse City, MI: Cherry Capital                       </td><td>TVC</td><td>0</td><td>1</td><td>1</td><td>1</td><td>1</td><td>⋯</td><td>1</td><td>0</td><td>0</td><td>0</td><td>0</td><td>0</td><td>0.017572762</td><td>-1.1713716</td><td>-1.654696</td><td>-1.1713716</td></tr>\n",
       "\t<tr><th scope=row>57334</th><td>194</td><td>7</td><td>2019</td><td>Trenton, NJ: Trenton Mercer                             </td><td>TTN</td><td>0</td><td>1</td><td>1</td><td>1</td><td>1</td><td>⋯</td><td>1</td><td>0</td><td>0</td><td>0</td><td>0</td><td>0</td><td>0.007295834</td><td>-1.0560527</td><td>-1.667876</td><td>-1.0560527</td></tr>\n",
       "\t<tr><th scope=row>57335</th><td>194</td><td>7</td><td>2019</td><td>Tucson, AZ: Tucson International                        </td><td>TUS</td><td>0</td><td>1</td><td>1</td><td>1</td><td>1</td><td>⋯</td><td>1</td><td>0</td><td>0</td><td>0</td><td>0</td><td>0</td><td>0.037132920</td><td>-1.4354333</td><td>-2.017347</td><td>-1.4354333</td></tr>\n",
       "\t<tr><th scope=row>57336</th><td>194</td><td>7</td><td>2019</td><td>Tulsa, OK: Tulsa International                          </td><td>TUL</td><td>0</td><td>1</td><td>1</td><td>1</td><td>1</td><td>⋯</td><td>1</td><td>0</td><td>0</td><td>0</td><td>0</td><td>0</td><td>0.040061714</td><td>-1.3277606</td><td>-1.811490</td><td>-1.3277606</td></tr>\n",
       "\t<tr><th scope=row>57337</th><td>194</td><td>7</td><td>2019</td><td>Twin Falls, ID: Joslin Field - Magic Valley Regional    </td><td>TWF</td><td>0</td><td>1</td><td>1</td><td>1</td><td>1</td><td>⋯</td><td>1</td><td>0</td><td>0</td><td>0</td><td>0</td><td>0</td><td>0.002327345</td><td>-2.8213789</td><td>-2.821379</td><td>-2.8213789</td></tr>\n",
       "\t<tr><th scope=row>57338</th><td>194</td><td>7</td><td>2019</td><td>Tyler, TX: Tyler Pounds Regional                        </td><td>TYR</td><td>0</td><td>1</td><td>1</td><td>1</td><td>1</td><td>⋯</td><td>1</td><td>0</td><td>0</td><td>0</td><td>0</td><td>0</td><td>0.003477943</td><td>-1.9895852</td><td>-2.544058</td><td>-1.9895852</td></tr>\n",
       "\t<tr><th scope=row>57339</th><td>194</td><td>7</td><td>2019</td><td>Valdosta, GA: Valdosta Regional                         </td><td>VLD</td><td>0</td><td>1</td><td>1</td><td>1</td><td>1</td><td>⋯</td><td>1</td><td>0</td><td>0</td><td>0</td><td>0</td><td>0</td><td>0.002275045</td><td>-1.4900912</td><td>-1.753894</td><td>-1.4900912</td></tr>\n",
       "\t<tr><th scope=row>57340</th><td>194</td><td>7</td><td>2019</td><td>Valparaiso, FL: Eglin AFB Destin Fort Walton Beach      </td><td>VPS</td><td>0</td><td>1</td><td>1</td><td>1</td><td>1</td><td>⋯</td><td>1</td><td>0</td><td>0</td><td>0</td><td>0</td><td>0</td><td>0.027954290</td><td>-1.2666479</td><td>-1.802537</td><td>-1.2666479</td></tr>\n",
       "\t<tr><th scope=row>57341</th><td>194</td><td>7</td><td>2019</td><td>Vernal, UT: Vernal Regional                             </td><td>VEL</td><td>0</td><td>1</td><td>1</td><td>1</td><td>1</td><td>⋯</td><td>1</td><td>0</td><td>0</td><td>0</td><td>0</td><td>0</td><td>0.001412097</td><td>-0.9555114</td><td>-1.392467</td><td>-0.9555114</td></tr>\n",
       "\t<tr><th scope=row>57342</th><td>194</td><td>7</td><td>2019</td><td>Waco, TX: Waco Regional                                 </td><td>ACT</td><td>0</td><td>1</td><td>1</td><td>1</td><td>1</td><td>⋯</td><td>1</td><td>0</td><td>0</td><td>0</td><td>0</td><td>0</td><td>0.004680840</td><td>-1.3793257</td><td>-2.019986</td><td>-1.3793257</td></tr>\n",
       "\t<tr><th scope=row>57343</th><td>194</td><td>7</td><td>2019</td><td>Washington, DC: Ronald Reagan Washington National       </td><td>DCA</td><td>0</td><td>1</td><td>1</td><td>1</td><td>1</td><td>⋯</td><td>1</td><td>0</td><td>0</td><td>0</td><td>0</td><td>0</td><td>0.305509793</td><td>-1.2366031</td><td>-1.675152</td><td>-1.2366031</td></tr>\n",
       "\t<tr><th scope=row>57344</th><td>194</td><td>7</td><td>2019</td><td>Washington, DC: Washington Dulles International         </td><td>IAD</td><td>0</td><td>1</td><td>1</td><td>1</td><td>1</td><td>⋯</td><td>1</td><td>0</td><td>0</td><td>0</td><td>0</td><td>0</td><td>0.163541748</td><td>-1.2739601</td><td>-1.746266</td><td>-1.2739601</td></tr>\n",
       "\t<tr><th scope=row>57345</th><td>194</td><td>7</td><td>2019</td><td>Waterloo, IA: Waterloo Regional                         </td><td>ALO</td><td>0</td><td>1</td><td>1</td><td>1</td><td>1</td><td>⋯</td><td>1</td><td>0</td><td>0</td><td>0</td><td>0</td><td>0</td><td>0.001595147</td><td>-0.7178398</td><td>-1.618011</td><td>-0.7178398</td></tr>\n",
       "\t<tr><th scope=row>57346</th><td>194</td><td>7</td><td>2019</td><td>Watertown, SD: Watertown Regional                       </td><td>ATY</td><td>0</td><td>1</td><td>1</td><td>1</td><td>1</td><td>⋯</td><td>1</td><td>0</td><td>0</td><td>0</td><td>0</td><td>0</td><td>0.001490547</td><td>-1.0296194</td><td>-1.632317</td><td>-1.0296194</td></tr>\n",
       "\t<tr><th scope=row>57347</th><td>194</td><td>7</td><td>2019</td><td>West Palm Beach/Palm Beach, FL: Palm Beach International</td><td>PBI</td><td>0</td><td>1</td><td>1</td><td>1</td><td>1</td><td>⋯</td><td>1</td><td>0</td><td>0</td><td>0</td><td>0</td><td>0</td><td>0.045736252</td><td>-1.1085474</td><td>-1.556564</td><td>-1.1085474</td></tr>\n",
       "\t<tr><th scope=row>57348</th><td>194</td><td>7</td><td>2019</td><td>West Yellowstone, MT: Yellowstone                       </td><td>WYS</td><td>0</td><td>1</td><td>1</td><td>1</td><td>1</td><td>⋯</td><td>1</td><td>0</td><td>0</td><td>0</td><td>0</td><td>0</td><td>0.001699746</td><td>-2.2857780</td><td>-2.504764</td><td>-2.2857780</td></tr>\n",
       "\t<tr><th scope=row>57349</th><td>194</td><td>7</td><td>2019</td><td>White Plains, NY: Westchester County                    </td><td>HPN</td><td>0</td><td>1</td><td>1</td><td>1</td><td>1</td><td>⋯</td><td>1</td><td>0</td><td>0</td><td>0</td><td>0</td><td>0</td><td>0.026332993</td><td>-0.9541369</td><td>-1.425456</td><td>-0.9541369</td></tr>\n",
       "\t<tr><th scope=row>57350</th><td>194</td><td>7</td><td>2019</td><td>Wichita Falls, TX: Sheppard AFB/Wichita Falls Municipal </td><td>SPS</td><td>0</td><td>1</td><td>1</td><td>1</td><td>1</td><td>⋯</td><td>1</td><td>0</td><td>0</td><td>0</td><td>0</td><td>0</td><td>0.003007244</td><td>-2.2464956</td><td>-2.943286</td><td>-2.2464956</td></tr>\n",
       "\t<tr><th scope=row>57351</th><td>194</td><td>7</td><td>2019</td><td>Wichita, KS: Wichita Dwight D Eisenhower National       </td><td>ICT</td><td>0</td><td>1</td><td>1</td><td>1</td><td>1</td><td>⋯</td><td>1</td><td>0</td><td>0</td><td>0</td><td>0</td><td>0</td><td>0.024554797</td><td>-1.3585698</td><td>-1.881008</td><td>-1.3585698</td></tr>\n",
       "\t<tr><th scope=row>57352</th><td>194</td><td>7</td><td>2019</td><td>Williston, ND: Sloulin Field International              </td><td>ISN</td><td>0</td><td>1</td><td>1</td><td>1</td><td>1</td><td>⋯</td><td>1</td><td>0</td><td>0</td><td>0</td><td>0</td><td>0</td><td>0.002301195</td><td>-2.3025851</td><td>-2.995732</td><td>-2.3025851</td></tr>\n",
       "\t<tr><th scope=row>57353</th><td>194</td><td>7</td><td>2019</td><td>Wilmington, NC: Wilmington International                </td><td>ILM</td><td>0</td><td>1</td><td>1</td><td>1</td><td>1</td><td>⋯</td><td>1</td><td>0</td><td>0</td><td>0</td><td>0</td><td>0</td><td>0.016369865</td><td>-1.1635702</td><td>-1.705755</td><td>-1.1635702</td></tr>\n",
       "\t<tr><th scope=row>57354</th><td>194</td><td>7</td><td>2019</td><td>Worcester, MA: Worcester Regional                       </td><td>ORH</td><td>0</td><td>1</td><td>1</td><td>1</td><td>1</td><td>⋯</td><td>1</td><td>0</td><td>0</td><td>0</td><td>0</td><td>0</td><td>0.002431945</td><td>-0.6931472</td><td>-1.094588</td><td>-0.6931472</td></tr>\n",
       "\t<tr><th scope=row>57355</th><td>194</td><td>7</td><td>2019</td><td>Wrangell, AK: Wrangell Airport                          </td><td>WRG</td><td>0</td><td>1</td><td>1</td><td>1</td><td>1</td><td>⋯</td><td>1</td><td>0</td><td>0</td><td>0</td><td>0</td><td>0</td><td>0.001621297</td><td>-1.7730673</td><td>-2.057791</td><td>-1.7730673</td></tr>\n",
       "\t<tr><th scope=row>57356</th><td>194</td><td>7</td><td>2019</td><td>Yakutat, AK: Yakutat Airport                            </td><td>YAK</td><td>0</td><td>1</td><td>1</td><td>1</td><td>1</td><td>⋯</td><td>1</td><td>0</td><td>0</td><td>0</td><td>0</td><td>0</td><td>0.001621297</td><td>-2.9789252</td><td>-3.878687</td><td>-2.9789252</td></tr>\n",
       "\t<tr><th scope=row>57357</th><td>194</td><td>7</td><td>2019</td><td>Yuma, AZ: Yuma MCAS/Yuma International                  </td><td>YUM</td><td>0</td><td>1</td><td>1</td><td>1</td><td>1</td><td>⋯</td><td>1</td><td>0</td><td>0</td><td>0</td><td>0</td><td>0</td><td>0.003948642</td><td>-1.9999774</td><td>-2.774094</td><td>-1.9999774</td></tr>\n",
       "</tbody>\n",
       "</table>\n"
      ],
      "text/latex": [
       "A data.frame: 5897 × 103\n",
       "\\begin{tabular}{r|lllllllllllllllllllll}\n",
       "  & t & month & year & airport\\_name & airport & covid & control & extra\\_mon & extra\\_tue & extra\\_wed & ⋯ & jul & aug & sep & oct & nov & dec & arr\\_flights\\_n & t\\_delay\\_rate & t\\_new\\_delay\\_rate & tc\\_delay\\_rate\\\\\n",
       "  & <int> & <int> & <int> & <chr> & <chr> & <int> & <int> & <int> & <int> & <int> & ⋯ & <dbl> & <dbl> & <dbl> & <dbl> & <dbl> & <dbl> & <dbl> & <dbl> & <dbl> & <dbl>\\\\\n",
       "\\hline\n",
       "\t51461 & 178 & 3 & 2018 & Aberdeen, SD: Aberdeen Regional                                     & ABR & 0 & 1 & 0 & 0 & 0 & ⋯ & 0 & 0 & 0 & 0 & 0 & 0 & 0.0016212965 & -2.6741486 & -3.2949752 & -2.6741486\\\\\n",
       "\t51462 & 178 & 3 & 2018 & Abilene, TX: Abilene Regional                                       & ABI & 0 & 1 & 0 & 0 & 0 & ⋯ & 0 & 0 & 0 & 0 & 0 & 0 & 0.0037917418 & -1.3862944 & -1.9023058 & -1.3862944\\\\\n",
       "\t51463 & 178 & 3 & 2018 & Adak Island, AK: Adak                                               & ADK & 0 & 1 & 0 & 0 & 0 & ⋯ & 0 & 0 & 0 & 0 & 0 & 0 & 0.0002353495 & -0.6931472 & -0.6931472 & -0.6931472\\\\\n",
       "\t51464 & 178 & 3 & 2018 & Aguadilla, PR: Rafael Hernandez                                     & BQN & 0 & 1 & 0 & 0 & 0 & ⋯ & 0 & 0 & 0 & 0 & 0 & 0 & 0.0037917418 & -0.9998774 & -1.5358017 & -0.9998774\\\\\n",
       "\t51465 & 178 & 3 & 2018 & Akron, OH: Akron-Canton Regional                                    & CAK & 0 & 1 & 0 & 0 & 0 & ⋯ & 0 & 0 & 0 & 0 & 0 & 0 & 0.0166313642 & -1.1582044 & -1.6464792 & -1.1582044\\\\\n",
       "\t51466 & 178 & 3 & 2018 & Albany, GA: Southwest Georgia Regional                              & ABY & 0 & 1 & 0 & 0 & 0 & ⋯ & 0 & 0 & 0 & 0 & 0 & 0 & 0.0023011951 & -1.9459101 & -2.1566312 & -1.9459101\\\\\n",
       "\t51467 & 178 & 3 & 2018 & Albany, NY: Albany International                                    & ALB & 0 & 1 & 0 & 0 & 0 & ⋯ & 0 & 0 & 0 & 0 & 0 & 0 & 0.0314322324 & -1.3728296 & -1.8029164 & -1.3728296\\\\\n",
       "\t51468 & 178 & 3 & 2018 & Albuquerque, NM: Albuquerque International Sunport                  & ABQ & 0 & 1 & 0 & 0 & 0 & ⋯ & 0 & 0 & 0 & 0 & 0 & 0 & 0.0494495437 & -1.4271164 & -2.0563912 & -1.4271164\\\\\n",
       "\t51469 & 178 & 3 & 2018 & Alexandria, LA: Alexandria International                            & AEX & 0 & 1 & 0 & 0 & 0 & ⋯ & 0 & 0 & 0 & 0 & 0 & 0 & 0.0076619335 & -1.7332633 & -2.2570513 & -1.7332633\\\\\n",
       "\t51470 & 178 & 3 & 2018 & Allentown/Bethlehem/Easton, PA: Lehigh Valley International         & ABE & 0 & 1 & 0 & 0 & 0 & ⋯ & 0 & 0 & 0 & 0 & 0 & 0 & 0.0096754792 & -1.6422277 & -1.9171033 & -1.6422277\\\\\n",
       "\t51471 & 178 & 3 & 2018 & Alpena, MI: Alpena County Regional                                  & APN & 0 & 1 & 0 & 0 & 0 & ⋯ & 0 & 0 & 0 & 0 & 0 & 0 & 0.0013859470 & -1.8827312 & -2.3047614 & -1.8827312\\\\\n",
       "\t51472 & 178 & 3 & 2018 & Amarillo, TX: Rick Husband Amarillo International                   & AMA & 0 & 1 & 0 & 0 & 0 & ⋯ & 0 & 0 & 0 & 0 & 0 & 0 & 0.0107999268 & -1.6778152 & -2.4427063 & -1.6778152\\\\\n",
       "\t51473 & 178 & 3 & 2018 & Anchorage, AK: Ted Stevens Anchorage International                  & ANC & 0 & 1 & 0 & 0 & 0 & ⋯ & 0 & 0 & 0 & 0 & 0 & 0 & 0.0345963756 & -1.7552019 & -1.9637095 & -1.7552019\\\\\n",
       "\t51474 & 178 & 3 & 2018 & Appleton, WI: Appleton International                                & ATW & 0 & 1 & 0 & 0 & 0 & ⋯ & 0 & 0 & 0 & 0 & 0 & 0 & 0.0093878298 & -1.9683830 & -2.4168031 & -1.9683830\\\\\n",
       "\t51475 & 178 & 3 & 2018 & Arcata/Eureka, CA: California Redwood Coast Humboldt County         & ACV & 0 & 1 & 0 & 0 & 0 & ⋯ & 0 & 0 & 0 & 0 & 0 & 0 & 0.0024319448 & -1.5712167 & -2.0665381 & -1.5712167\\\\\n",
       "\t51476 & 178 & 3 & 2018 & Asheville, NC: Asheville Regional                                   & AVL & 0 & 1 & 0 & 0 & 0 & ⋯ & 0 & 0 & 0 & 0 & 0 & 0 & 0.0145132188 & -1.5397159 & -2.0193989 & -1.5397159\\\\\n",
       "\t51477 & 178 & 3 & 2018 & Ashland, WV: Tri-State/Milton J. Ferguson Field                     & HTS & 0 & 1 & 0 & 0 & 0 & ⋯ & 0 & 0 & 0 & 0 & 0 & 0 & 0.0007583484 & -1.8325815 & -1.8325815 & -1.8325815\\\\\n",
       "\t51478 & 178 & 3 & 2018 & Aspen, CO: Aspen Pitkin County Sardy Field                          & ASE & 0 & 1 & 0 & 0 & 0 & ⋯ & 0 & 0 & 0 & 0 & 0 & 0 & 0.0279542899 & -1.4506789 & -1.8555038 & -1.4506789\\\\\n",
       "\t51479 & 178 & 3 & 2018 & Atlanta, GA: Hartsfield-Jackson Atlanta International               & ATL & 0 & 1 & 0 & 0 & 0 & ⋯ & 0 & 0 & 0 & 0 & 0 & 0 & 0.8811223556 & -1.9741216 & -2.4307788 & -1.9741216\\\\\n",
       "\t51480 & 178 & 3 & 2018 & Atlantic City, NJ: Atlantic City International                      & ACY & 0 & 1 & 0 & 0 & 0 & ⋯ & 0 & 0 & 0 & 0 & 0 & 0 & 0.0081064826 & -1.6017159 & -1.8440324 & -1.6017159\\\\\n",
       "\t51481 & 178 & 3 & 2018 & Augusta, GA: Augusta Regional at Bush Field                         & AGS & 0 & 1 & 0 & 0 & 0 & ⋯ & 0 & 0 & 0 & 0 & 0 & 0 & 0.0109568264 & -1.6065767 & -1.9826217 & -1.6065767\\\\\n",
       "\t51482 & 178 & 3 & 2018 & Austin, TX: Austin - Bergstrom International                        & AUS & 0 & 1 & 0 & 0 & 0 & ⋯ & 0 & 0 & 0 & 0 & 0 & 0 & 0.1347768102 & -1.6620442 & -2.0988908 & -1.6620442\\\\\n",
       "\t51483 & 178 & 3 & 2018 & Bakersfield, CA: Meadows Field                                      & BFL & 0 & 1 & 0 & 0 & 0 & ⋯ & 0 & 0 & 0 & 0 & 0 & 0 & 0.0047069899 & -1.8245493 & -2.4846486 & -1.8245493\\\\\n",
       "\t51484 & 178 & 3 & 2018 & Baltimore, MD: Baltimore/Washington International Thurgood Marshall & BWI & 0 & 1 & 0 & 0 & 0 & ⋯ & 0 & 0 & 0 & 0 & 0 & 0 & 0.2360816924 & -1.9403518 & -2.4821337 & -1.9403518\\\\\n",
       "\t51485 & 178 & 3 & 2018 & Bangor, ME: Bangor International                                    & BGR & 0 & 1 & 0 & 0 & 0 & ⋯ & 0 & 0 & 0 & 0 & 0 & 0 & 0.0089171308 & -1.4271164 & -1.8684442 & -1.4271164\\\\\n",
       "\t51486 & 178 & 3 & 2018 & Barrow, AK: Wiley Post/Will Rogers Memorial                         & BRW & 0 & 1 & 0 & 0 & 0 & ⋯ & 0 & 0 & 0 & 0 & 0 & 0 & 0.0016212965 & -2.6741486 & -3.3672958 & -2.6741486\\\\\n",
       "\t51487 & 178 & 3 & 2018 & Baton Rouge, LA: Baton Rouge Metropolitan/Ryan Field                & BTR & 0 & 1 & 0 & 0 & 0 & ⋯ & 0 & 0 & 0 & 0 & 0 & 0 & 0.0170759133 & -1.9267958 & -2.4067767 & -1.9267958\\\\\n",
       "\t51488 & 178 & 3 & 2018 & Beaumont/Port Arthur, TX: Jack Brooks Regional                      & BPT & 0 & 1 & 0 & 0 & 0 & ⋯ & 0 & 0 & 0 & 0 & 0 & 0 & 0.0016212965 & -1.9095425 & -2.6672282 & -1.9095425\\\\\n",
       "\t51489 & 178 & 3 & 2018 & Belleville, IL: Scott AFB/MidAmerica                                & BLV & 0 & 1 & 0 & 0 & 0 & ⋯ & 0 & 0 & 0 & 0 & 0 & 0 & 0.0023796449 & -1.0266388 & -1.3511001 & -1.0266388\\\\\n",
       "\t51490 & 178 & 3 & 2018 & Bellingham, WA: Bellingham International                            & BLI & 0 & 1 & 0 & 0 & 0 & ⋯ & 0 & 0 & 0 & 0 & 0 & 0 & 0.0071389347 & -2.2094947 & -2.6044595 & -2.2094947\\\\\n",
       "\t⋮ & ⋮ & ⋮ & ⋮ & ⋮ & ⋮ & ⋮ & ⋮ & ⋮ & ⋮ & ⋮ & ⋱ & ⋮ & ⋮ & ⋮ & ⋮ & ⋮ & ⋮ & ⋮ & ⋮ & ⋮ & ⋮\\\\\n",
       "\t57328 & 194 & 7 & 2019 & Syracuse, NY: Syracuse Hancock International             & SYR & 0 & 1 & 1 & 1 & 1 & ⋯ & 1 & 0 & 0 & 0 & 0 & 0 & 0.031327633 & -1.0480521 & -1.491680 & -1.0480521\\\\\n",
       "\t57329 & 194 & 7 & 2019 & Tallahassee, FL: Tallahassee International               & TLH & 0 & 1 & 1 & 1 & 1 & ⋯ & 1 & 0 & 0 & 0 & 0 & 0 & 0.015193117 & -1.3884472 & -1.999697 & -1.3884472\\\\\n",
       "\t57330 & 194 & 7 & 2019 & Tampa, FL: Tampa International                           & TPA & 0 & 1 & 1 & 1 & 1 & ⋯ & 1 & 0 & 0 & 0 & 0 & 0 & 0.163437149 & -1.1213552 & -1.542420 & -1.1213552\\\\\n",
       "\t57331 & 194 & 7 & 2019 & Texarkana, AR: Texarkana Regional-Webb Field             & TXK & 0 & 1 & 1 & 1 & 1 & ⋯ & 1 & 0 & 0 & 0 & 0 & 0 & 0.003007244 & -2.0600235 & -3.221330 & -2.0600235\\\\\n",
       "\t57332 & 194 & 7 & 2019 & Toledo, OH: Toledo Express                               & TOL & 0 & 1 & 1 & 1 & 1 & ⋯ & 1 & 0 & 0 & 0 & 0 & 0 & 0.004811590 & -1.4485982 & -2.040221 & -1.4485982\\\\\n",
       "\t57333 & 194 & 7 & 2019 & Traverse City, MI: Cherry Capital                        & TVC & 0 & 1 & 1 & 1 & 1 & ⋯ & 1 & 0 & 0 & 0 & 0 & 0 & 0.017572762 & -1.1713716 & -1.654696 & -1.1713716\\\\\n",
       "\t57334 & 194 & 7 & 2019 & Trenton, NJ: Trenton Mercer                              & TTN & 0 & 1 & 1 & 1 & 1 & ⋯ & 1 & 0 & 0 & 0 & 0 & 0 & 0.007295834 & -1.0560527 & -1.667876 & -1.0560527\\\\\n",
       "\t57335 & 194 & 7 & 2019 & Tucson, AZ: Tucson International                         & TUS & 0 & 1 & 1 & 1 & 1 & ⋯ & 1 & 0 & 0 & 0 & 0 & 0 & 0.037132920 & -1.4354333 & -2.017347 & -1.4354333\\\\\n",
       "\t57336 & 194 & 7 & 2019 & Tulsa, OK: Tulsa International                           & TUL & 0 & 1 & 1 & 1 & 1 & ⋯ & 1 & 0 & 0 & 0 & 0 & 0 & 0.040061714 & -1.3277606 & -1.811490 & -1.3277606\\\\\n",
       "\t57337 & 194 & 7 & 2019 & Twin Falls, ID: Joslin Field - Magic Valley Regional     & TWF & 0 & 1 & 1 & 1 & 1 & ⋯ & 1 & 0 & 0 & 0 & 0 & 0 & 0.002327345 & -2.8213789 & -2.821379 & -2.8213789\\\\\n",
       "\t57338 & 194 & 7 & 2019 & Tyler, TX: Tyler Pounds Regional                         & TYR & 0 & 1 & 1 & 1 & 1 & ⋯ & 1 & 0 & 0 & 0 & 0 & 0 & 0.003477943 & -1.9895852 & -2.544058 & -1.9895852\\\\\n",
       "\t57339 & 194 & 7 & 2019 & Valdosta, GA: Valdosta Regional                          & VLD & 0 & 1 & 1 & 1 & 1 & ⋯ & 1 & 0 & 0 & 0 & 0 & 0 & 0.002275045 & -1.4900912 & -1.753894 & -1.4900912\\\\\n",
       "\t57340 & 194 & 7 & 2019 & Valparaiso, FL: Eglin AFB Destin Fort Walton Beach       & VPS & 0 & 1 & 1 & 1 & 1 & ⋯ & 1 & 0 & 0 & 0 & 0 & 0 & 0.027954290 & -1.2666479 & -1.802537 & -1.2666479\\\\\n",
       "\t57341 & 194 & 7 & 2019 & Vernal, UT: Vernal Regional                              & VEL & 0 & 1 & 1 & 1 & 1 & ⋯ & 1 & 0 & 0 & 0 & 0 & 0 & 0.001412097 & -0.9555114 & -1.392467 & -0.9555114\\\\\n",
       "\t57342 & 194 & 7 & 2019 & Waco, TX: Waco Regional                                  & ACT & 0 & 1 & 1 & 1 & 1 & ⋯ & 1 & 0 & 0 & 0 & 0 & 0 & 0.004680840 & -1.3793257 & -2.019986 & -1.3793257\\\\\n",
       "\t57343 & 194 & 7 & 2019 & Washington, DC: Ronald Reagan Washington National        & DCA & 0 & 1 & 1 & 1 & 1 & ⋯ & 1 & 0 & 0 & 0 & 0 & 0 & 0.305509793 & -1.2366031 & -1.675152 & -1.2366031\\\\\n",
       "\t57344 & 194 & 7 & 2019 & Washington, DC: Washington Dulles International          & IAD & 0 & 1 & 1 & 1 & 1 & ⋯ & 1 & 0 & 0 & 0 & 0 & 0 & 0.163541748 & -1.2739601 & -1.746266 & -1.2739601\\\\\n",
       "\t57345 & 194 & 7 & 2019 & Waterloo, IA: Waterloo Regional                          & ALO & 0 & 1 & 1 & 1 & 1 & ⋯ & 1 & 0 & 0 & 0 & 0 & 0 & 0.001595147 & -0.7178398 & -1.618011 & -0.7178398\\\\\n",
       "\t57346 & 194 & 7 & 2019 & Watertown, SD: Watertown Regional                        & ATY & 0 & 1 & 1 & 1 & 1 & ⋯ & 1 & 0 & 0 & 0 & 0 & 0 & 0.001490547 & -1.0296194 & -1.632317 & -1.0296194\\\\\n",
       "\t57347 & 194 & 7 & 2019 & West Palm Beach/Palm Beach, FL: Palm Beach International & PBI & 0 & 1 & 1 & 1 & 1 & ⋯ & 1 & 0 & 0 & 0 & 0 & 0 & 0.045736252 & -1.1085474 & -1.556564 & -1.1085474\\\\\n",
       "\t57348 & 194 & 7 & 2019 & West Yellowstone, MT: Yellowstone                        & WYS & 0 & 1 & 1 & 1 & 1 & ⋯ & 1 & 0 & 0 & 0 & 0 & 0 & 0.001699746 & -2.2857780 & -2.504764 & -2.2857780\\\\\n",
       "\t57349 & 194 & 7 & 2019 & White Plains, NY: Westchester County                     & HPN & 0 & 1 & 1 & 1 & 1 & ⋯ & 1 & 0 & 0 & 0 & 0 & 0 & 0.026332993 & -0.9541369 & -1.425456 & -0.9541369\\\\\n",
       "\t57350 & 194 & 7 & 2019 & Wichita Falls, TX: Sheppard AFB/Wichita Falls Municipal  & SPS & 0 & 1 & 1 & 1 & 1 & ⋯ & 1 & 0 & 0 & 0 & 0 & 0 & 0.003007244 & -2.2464956 & -2.943286 & -2.2464956\\\\\n",
       "\t57351 & 194 & 7 & 2019 & Wichita, KS: Wichita Dwight D Eisenhower National        & ICT & 0 & 1 & 1 & 1 & 1 & ⋯ & 1 & 0 & 0 & 0 & 0 & 0 & 0.024554797 & -1.3585698 & -1.881008 & -1.3585698\\\\\n",
       "\t57352 & 194 & 7 & 2019 & Williston, ND: Sloulin Field International               & ISN & 0 & 1 & 1 & 1 & 1 & ⋯ & 1 & 0 & 0 & 0 & 0 & 0 & 0.002301195 & -2.3025851 & -2.995732 & -2.3025851\\\\\n",
       "\t57353 & 194 & 7 & 2019 & Wilmington, NC: Wilmington International                 & ILM & 0 & 1 & 1 & 1 & 1 & ⋯ & 1 & 0 & 0 & 0 & 0 & 0 & 0.016369865 & -1.1635702 & -1.705755 & -1.1635702\\\\\n",
       "\t57354 & 194 & 7 & 2019 & Worcester, MA: Worcester Regional                        & ORH & 0 & 1 & 1 & 1 & 1 & ⋯ & 1 & 0 & 0 & 0 & 0 & 0 & 0.002431945 & -0.6931472 & -1.094588 & -0.6931472\\\\\n",
       "\t57355 & 194 & 7 & 2019 & Wrangell, AK: Wrangell Airport                           & WRG & 0 & 1 & 1 & 1 & 1 & ⋯ & 1 & 0 & 0 & 0 & 0 & 0 & 0.001621297 & -1.7730673 & -2.057791 & -1.7730673\\\\\n",
       "\t57356 & 194 & 7 & 2019 & Yakutat, AK: Yakutat Airport                             & YAK & 0 & 1 & 1 & 1 & 1 & ⋯ & 1 & 0 & 0 & 0 & 0 & 0 & 0.001621297 & -2.9789252 & -3.878687 & -2.9789252\\\\\n",
       "\t57357 & 194 & 7 & 2019 & Yuma, AZ: Yuma MCAS/Yuma International                   & YUM & 0 & 1 & 1 & 1 & 1 & ⋯ & 1 & 0 & 0 & 0 & 0 & 0 & 0.003948642 & -1.9999774 & -2.774094 & -1.9999774\\\\\n",
       "\\end{tabular}\n"
      ],
      "text/markdown": [
       "\n",
       "A data.frame: 5897 × 103\n",
       "\n",
       "| <!--/--> | t &lt;int&gt; | month &lt;int&gt; | year &lt;int&gt; | airport_name &lt;chr&gt; | airport &lt;chr&gt; | covid &lt;int&gt; | control &lt;int&gt; | extra_mon &lt;int&gt; | extra_tue &lt;int&gt; | extra_wed &lt;int&gt; | ⋯ ⋯ | jul &lt;dbl&gt; | aug &lt;dbl&gt; | sep &lt;dbl&gt; | oct &lt;dbl&gt; | nov &lt;dbl&gt; | dec &lt;dbl&gt; | arr_flights_n &lt;dbl&gt; | t_delay_rate &lt;dbl&gt; | t_new_delay_rate &lt;dbl&gt; | tc_delay_rate &lt;dbl&gt; |\n",
       "|---|---|---|---|---|---|---|---|---|---|---|---|---|---|---|---|---|---|---|---|---|---|\n",
       "| 51461 | 178 | 3 | 2018 | Aberdeen, SD: Aberdeen Regional                                     | ABR | 0 | 1 | 0 | 0 | 0 | ⋯ | 0 | 0 | 0 | 0 | 0 | 0 | 0.0016212965 | -2.6741486 | -3.2949752 | -2.6741486 |\n",
       "| 51462 | 178 | 3 | 2018 | Abilene, TX: Abilene Regional                                       | ABI | 0 | 1 | 0 | 0 | 0 | ⋯ | 0 | 0 | 0 | 0 | 0 | 0 | 0.0037917418 | -1.3862944 | -1.9023058 | -1.3862944 |\n",
       "| 51463 | 178 | 3 | 2018 | Adak Island, AK: Adak                                               | ADK | 0 | 1 | 0 | 0 | 0 | ⋯ | 0 | 0 | 0 | 0 | 0 | 0 | 0.0002353495 | -0.6931472 | -0.6931472 | -0.6931472 |\n",
       "| 51464 | 178 | 3 | 2018 | Aguadilla, PR: Rafael Hernandez                                     | BQN | 0 | 1 | 0 | 0 | 0 | ⋯ | 0 | 0 | 0 | 0 | 0 | 0 | 0.0037917418 | -0.9998774 | -1.5358017 | -0.9998774 |\n",
       "| 51465 | 178 | 3 | 2018 | Akron, OH: Akron-Canton Regional                                    | CAK | 0 | 1 | 0 | 0 | 0 | ⋯ | 0 | 0 | 0 | 0 | 0 | 0 | 0.0166313642 | -1.1582044 | -1.6464792 | -1.1582044 |\n",
       "| 51466 | 178 | 3 | 2018 | Albany, GA: Southwest Georgia Regional                              | ABY | 0 | 1 | 0 | 0 | 0 | ⋯ | 0 | 0 | 0 | 0 | 0 | 0 | 0.0023011951 | -1.9459101 | -2.1566312 | -1.9459101 |\n",
       "| 51467 | 178 | 3 | 2018 | Albany, NY: Albany International                                    | ALB | 0 | 1 | 0 | 0 | 0 | ⋯ | 0 | 0 | 0 | 0 | 0 | 0 | 0.0314322324 | -1.3728296 | -1.8029164 | -1.3728296 |\n",
       "| 51468 | 178 | 3 | 2018 | Albuquerque, NM: Albuquerque International Sunport                  | ABQ | 0 | 1 | 0 | 0 | 0 | ⋯ | 0 | 0 | 0 | 0 | 0 | 0 | 0.0494495437 | -1.4271164 | -2.0563912 | -1.4271164 |\n",
       "| 51469 | 178 | 3 | 2018 | Alexandria, LA: Alexandria International                            | AEX | 0 | 1 | 0 | 0 | 0 | ⋯ | 0 | 0 | 0 | 0 | 0 | 0 | 0.0076619335 | -1.7332633 | -2.2570513 | -1.7332633 |\n",
       "| 51470 | 178 | 3 | 2018 | Allentown/Bethlehem/Easton, PA: Lehigh Valley International         | ABE | 0 | 1 | 0 | 0 | 0 | ⋯ | 0 | 0 | 0 | 0 | 0 | 0 | 0.0096754792 | -1.6422277 | -1.9171033 | -1.6422277 |\n",
       "| 51471 | 178 | 3 | 2018 | Alpena, MI: Alpena County Regional                                  | APN | 0 | 1 | 0 | 0 | 0 | ⋯ | 0 | 0 | 0 | 0 | 0 | 0 | 0.0013859470 | -1.8827312 | -2.3047614 | -1.8827312 |\n",
       "| 51472 | 178 | 3 | 2018 | Amarillo, TX: Rick Husband Amarillo International                   | AMA | 0 | 1 | 0 | 0 | 0 | ⋯ | 0 | 0 | 0 | 0 | 0 | 0 | 0.0107999268 | -1.6778152 | -2.4427063 | -1.6778152 |\n",
       "| 51473 | 178 | 3 | 2018 | Anchorage, AK: Ted Stevens Anchorage International                  | ANC | 0 | 1 | 0 | 0 | 0 | ⋯ | 0 | 0 | 0 | 0 | 0 | 0 | 0.0345963756 | -1.7552019 | -1.9637095 | -1.7552019 |\n",
       "| 51474 | 178 | 3 | 2018 | Appleton, WI: Appleton International                                | ATW | 0 | 1 | 0 | 0 | 0 | ⋯ | 0 | 0 | 0 | 0 | 0 | 0 | 0.0093878298 | -1.9683830 | -2.4168031 | -1.9683830 |\n",
       "| 51475 | 178 | 3 | 2018 | Arcata/Eureka, CA: California Redwood Coast Humboldt County         | ACV | 0 | 1 | 0 | 0 | 0 | ⋯ | 0 | 0 | 0 | 0 | 0 | 0 | 0.0024319448 | -1.5712167 | -2.0665381 | -1.5712167 |\n",
       "| 51476 | 178 | 3 | 2018 | Asheville, NC: Asheville Regional                                   | AVL | 0 | 1 | 0 | 0 | 0 | ⋯ | 0 | 0 | 0 | 0 | 0 | 0 | 0.0145132188 | -1.5397159 | -2.0193989 | -1.5397159 |\n",
       "| 51477 | 178 | 3 | 2018 | Ashland, WV: Tri-State/Milton J. Ferguson Field                     | HTS | 0 | 1 | 0 | 0 | 0 | ⋯ | 0 | 0 | 0 | 0 | 0 | 0 | 0.0007583484 | -1.8325815 | -1.8325815 | -1.8325815 |\n",
       "| 51478 | 178 | 3 | 2018 | Aspen, CO: Aspen Pitkin County Sardy Field                          | ASE | 0 | 1 | 0 | 0 | 0 | ⋯ | 0 | 0 | 0 | 0 | 0 | 0 | 0.0279542899 | -1.4506789 | -1.8555038 | -1.4506789 |\n",
       "| 51479 | 178 | 3 | 2018 | Atlanta, GA: Hartsfield-Jackson Atlanta International               | ATL | 0 | 1 | 0 | 0 | 0 | ⋯ | 0 | 0 | 0 | 0 | 0 | 0 | 0.8811223556 | -1.9741216 | -2.4307788 | -1.9741216 |\n",
       "| 51480 | 178 | 3 | 2018 | Atlantic City, NJ: Atlantic City International                      | ACY | 0 | 1 | 0 | 0 | 0 | ⋯ | 0 | 0 | 0 | 0 | 0 | 0 | 0.0081064826 | -1.6017159 | -1.8440324 | -1.6017159 |\n",
       "| 51481 | 178 | 3 | 2018 | Augusta, GA: Augusta Regional at Bush Field                         | AGS | 0 | 1 | 0 | 0 | 0 | ⋯ | 0 | 0 | 0 | 0 | 0 | 0 | 0.0109568264 | -1.6065767 | -1.9826217 | -1.6065767 |\n",
       "| 51482 | 178 | 3 | 2018 | Austin, TX: Austin - Bergstrom International                        | AUS | 0 | 1 | 0 | 0 | 0 | ⋯ | 0 | 0 | 0 | 0 | 0 | 0 | 0.1347768102 | -1.6620442 | -2.0988908 | -1.6620442 |\n",
       "| 51483 | 178 | 3 | 2018 | Bakersfield, CA: Meadows Field                                      | BFL | 0 | 1 | 0 | 0 | 0 | ⋯ | 0 | 0 | 0 | 0 | 0 | 0 | 0.0047069899 | -1.8245493 | -2.4846486 | -1.8245493 |\n",
       "| 51484 | 178 | 3 | 2018 | Baltimore, MD: Baltimore/Washington International Thurgood Marshall | BWI | 0 | 1 | 0 | 0 | 0 | ⋯ | 0 | 0 | 0 | 0 | 0 | 0 | 0.2360816924 | -1.9403518 | -2.4821337 | -1.9403518 |\n",
       "| 51485 | 178 | 3 | 2018 | Bangor, ME: Bangor International                                    | BGR | 0 | 1 | 0 | 0 | 0 | ⋯ | 0 | 0 | 0 | 0 | 0 | 0 | 0.0089171308 | -1.4271164 | -1.8684442 | -1.4271164 |\n",
       "| 51486 | 178 | 3 | 2018 | Barrow, AK: Wiley Post/Will Rogers Memorial                         | BRW | 0 | 1 | 0 | 0 | 0 | ⋯ | 0 | 0 | 0 | 0 | 0 | 0 | 0.0016212965 | -2.6741486 | -3.3672958 | -2.6741486 |\n",
       "| 51487 | 178 | 3 | 2018 | Baton Rouge, LA: Baton Rouge Metropolitan/Ryan Field                | BTR | 0 | 1 | 0 | 0 | 0 | ⋯ | 0 | 0 | 0 | 0 | 0 | 0 | 0.0170759133 | -1.9267958 | -2.4067767 | -1.9267958 |\n",
       "| 51488 | 178 | 3 | 2018 | Beaumont/Port Arthur, TX: Jack Brooks Regional                      | BPT | 0 | 1 | 0 | 0 | 0 | ⋯ | 0 | 0 | 0 | 0 | 0 | 0 | 0.0016212965 | -1.9095425 | -2.6672282 | -1.9095425 |\n",
       "| 51489 | 178 | 3 | 2018 | Belleville, IL: Scott AFB/MidAmerica                                | BLV | 0 | 1 | 0 | 0 | 0 | ⋯ | 0 | 0 | 0 | 0 | 0 | 0 | 0.0023796449 | -1.0266388 | -1.3511001 | -1.0266388 |\n",
       "| 51490 | 178 | 3 | 2018 | Bellingham, WA: Bellingham International                            | BLI | 0 | 1 | 0 | 0 | 0 | ⋯ | 0 | 0 | 0 | 0 | 0 | 0 | 0.0071389347 | -2.2094947 | -2.6044595 | -2.2094947 |\n",
       "| ⋮ | ⋮ | ⋮ | ⋮ | ⋮ | ⋮ | ⋮ | ⋮ | ⋮ | ⋮ | ⋮ | ⋱ | ⋮ | ⋮ | ⋮ | ⋮ | ⋮ | ⋮ | ⋮ | ⋮ | ⋮ | ⋮ |\n",
       "| 57328 | 194 | 7 | 2019 | Syracuse, NY: Syracuse Hancock International             | SYR | 0 | 1 | 1 | 1 | 1 | ⋯ | 1 | 0 | 0 | 0 | 0 | 0 | 0.031327633 | -1.0480521 | -1.491680 | -1.0480521 |\n",
       "| 57329 | 194 | 7 | 2019 | Tallahassee, FL: Tallahassee International               | TLH | 0 | 1 | 1 | 1 | 1 | ⋯ | 1 | 0 | 0 | 0 | 0 | 0 | 0.015193117 | -1.3884472 | -1.999697 | -1.3884472 |\n",
       "| 57330 | 194 | 7 | 2019 | Tampa, FL: Tampa International                           | TPA | 0 | 1 | 1 | 1 | 1 | ⋯ | 1 | 0 | 0 | 0 | 0 | 0 | 0.163437149 | -1.1213552 | -1.542420 | -1.1213552 |\n",
       "| 57331 | 194 | 7 | 2019 | Texarkana, AR: Texarkana Regional-Webb Field             | TXK | 0 | 1 | 1 | 1 | 1 | ⋯ | 1 | 0 | 0 | 0 | 0 | 0 | 0.003007244 | -2.0600235 | -3.221330 | -2.0600235 |\n",
       "| 57332 | 194 | 7 | 2019 | Toledo, OH: Toledo Express                               | TOL | 0 | 1 | 1 | 1 | 1 | ⋯ | 1 | 0 | 0 | 0 | 0 | 0 | 0.004811590 | -1.4485982 | -2.040221 | -1.4485982 |\n",
       "| 57333 | 194 | 7 | 2019 | Traverse City, MI: Cherry Capital                        | TVC | 0 | 1 | 1 | 1 | 1 | ⋯ | 1 | 0 | 0 | 0 | 0 | 0 | 0.017572762 | -1.1713716 | -1.654696 | -1.1713716 |\n",
       "| 57334 | 194 | 7 | 2019 | Trenton, NJ: Trenton Mercer                              | TTN | 0 | 1 | 1 | 1 | 1 | ⋯ | 1 | 0 | 0 | 0 | 0 | 0 | 0.007295834 | -1.0560527 | -1.667876 | -1.0560527 |\n",
       "| 57335 | 194 | 7 | 2019 | Tucson, AZ: Tucson International                         | TUS | 0 | 1 | 1 | 1 | 1 | ⋯ | 1 | 0 | 0 | 0 | 0 | 0 | 0.037132920 | -1.4354333 | -2.017347 | -1.4354333 |\n",
       "| 57336 | 194 | 7 | 2019 | Tulsa, OK: Tulsa International                           | TUL | 0 | 1 | 1 | 1 | 1 | ⋯ | 1 | 0 | 0 | 0 | 0 | 0 | 0.040061714 | -1.3277606 | -1.811490 | -1.3277606 |\n",
       "| 57337 | 194 | 7 | 2019 | Twin Falls, ID: Joslin Field - Magic Valley Regional     | TWF | 0 | 1 | 1 | 1 | 1 | ⋯ | 1 | 0 | 0 | 0 | 0 | 0 | 0.002327345 | -2.8213789 | -2.821379 | -2.8213789 |\n",
       "| 57338 | 194 | 7 | 2019 | Tyler, TX: Tyler Pounds Regional                         | TYR | 0 | 1 | 1 | 1 | 1 | ⋯ | 1 | 0 | 0 | 0 | 0 | 0 | 0.003477943 | -1.9895852 | -2.544058 | -1.9895852 |\n",
       "| 57339 | 194 | 7 | 2019 | Valdosta, GA: Valdosta Regional                          | VLD | 0 | 1 | 1 | 1 | 1 | ⋯ | 1 | 0 | 0 | 0 | 0 | 0 | 0.002275045 | -1.4900912 | -1.753894 | -1.4900912 |\n",
       "| 57340 | 194 | 7 | 2019 | Valparaiso, FL: Eglin AFB Destin Fort Walton Beach       | VPS | 0 | 1 | 1 | 1 | 1 | ⋯ | 1 | 0 | 0 | 0 | 0 | 0 | 0.027954290 | -1.2666479 | -1.802537 | -1.2666479 |\n",
       "| 57341 | 194 | 7 | 2019 | Vernal, UT: Vernal Regional                              | VEL | 0 | 1 | 1 | 1 | 1 | ⋯ | 1 | 0 | 0 | 0 | 0 | 0 | 0.001412097 | -0.9555114 | -1.392467 | -0.9555114 |\n",
       "| 57342 | 194 | 7 | 2019 | Waco, TX: Waco Regional                                  | ACT | 0 | 1 | 1 | 1 | 1 | ⋯ | 1 | 0 | 0 | 0 | 0 | 0 | 0.004680840 | -1.3793257 | -2.019986 | -1.3793257 |\n",
       "| 57343 | 194 | 7 | 2019 | Washington, DC: Ronald Reagan Washington National        | DCA | 0 | 1 | 1 | 1 | 1 | ⋯ | 1 | 0 | 0 | 0 | 0 | 0 | 0.305509793 | -1.2366031 | -1.675152 | -1.2366031 |\n",
       "| 57344 | 194 | 7 | 2019 | Washington, DC: Washington Dulles International          | IAD | 0 | 1 | 1 | 1 | 1 | ⋯ | 1 | 0 | 0 | 0 | 0 | 0 | 0.163541748 | -1.2739601 | -1.746266 | -1.2739601 |\n",
       "| 57345 | 194 | 7 | 2019 | Waterloo, IA: Waterloo Regional                          | ALO | 0 | 1 | 1 | 1 | 1 | ⋯ | 1 | 0 | 0 | 0 | 0 | 0 | 0.001595147 | -0.7178398 | -1.618011 | -0.7178398 |\n",
       "| 57346 | 194 | 7 | 2019 | Watertown, SD: Watertown Regional                        | ATY | 0 | 1 | 1 | 1 | 1 | ⋯ | 1 | 0 | 0 | 0 | 0 | 0 | 0.001490547 | -1.0296194 | -1.632317 | -1.0296194 |\n",
       "| 57347 | 194 | 7 | 2019 | West Palm Beach/Palm Beach, FL: Palm Beach International | PBI | 0 | 1 | 1 | 1 | 1 | ⋯ | 1 | 0 | 0 | 0 | 0 | 0 | 0.045736252 | -1.1085474 | -1.556564 | -1.1085474 |\n",
       "| 57348 | 194 | 7 | 2019 | West Yellowstone, MT: Yellowstone                        | WYS | 0 | 1 | 1 | 1 | 1 | ⋯ | 1 | 0 | 0 | 0 | 0 | 0 | 0.001699746 | -2.2857780 | -2.504764 | -2.2857780 |\n",
       "| 57349 | 194 | 7 | 2019 | White Plains, NY: Westchester County                     | HPN | 0 | 1 | 1 | 1 | 1 | ⋯ | 1 | 0 | 0 | 0 | 0 | 0 | 0.026332993 | -0.9541369 | -1.425456 | -0.9541369 |\n",
       "| 57350 | 194 | 7 | 2019 | Wichita Falls, TX: Sheppard AFB/Wichita Falls Municipal  | SPS | 0 | 1 | 1 | 1 | 1 | ⋯ | 1 | 0 | 0 | 0 | 0 | 0 | 0.003007244 | -2.2464956 | -2.943286 | -2.2464956 |\n",
       "| 57351 | 194 | 7 | 2019 | Wichita, KS: Wichita Dwight D Eisenhower National        | ICT | 0 | 1 | 1 | 1 | 1 | ⋯ | 1 | 0 | 0 | 0 | 0 | 0 | 0.024554797 | -1.3585698 | -1.881008 | -1.3585698 |\n",
       "| 57352 | 194 | 7 | 2019 | Williston, ND: Sloulin Field International               | ISN | 0 | 1 | 1 | 1 | 1 | ⋯ | 1 | 0 | 0 | 0 | 0 | 0 | 0.002301195 | -2.3025851 | -2.995732 | -2.3025851 |\n",
       "| 57353 | 194 | 7 | 2019 | Wilmington, NC: Wilmington International                 | ILM | 0 | 1 | 1 | 1 | 1 | ⋯ | 1 | 0 | 0 | 0 | 0 | 0 | 0.016369865 | -1.1635702 | -1.705755 | -1.1635702 |\n",
       "| 57354 | 194 | 7 | 2019 | Worcester, MA: Worcester Regional                        | ORH | 0 | 1 | 1 | 1 | 1 | ⋯ | 1 | 0 | 0 | 0 | 0 | 0 | 0.002431945 | -0.6931472 | -1.094588 | -0.6931472 |\n",
       "| 57355 | 194 | 7 | 2019 | Wrangell, AK: Wrangell Airport                           | WRG | 0 | 1 | 1 | 1 | 1 | ⋯ | 1 | 0 | 0 | 0 | 0 | 0 | 0.001621297 | -1.7730673 | -2.057791 | -1.7730673 |\n",
       "| 57356 | 194 | 7 | 2019 | Yakutat, AK: Yakutat Airport                             | YAK | 0 | 1 | 1 | 1 | 1 | ⋯ | 1 | 0 | 0 | 0 | 0 | 0 | 0.001621297 | -2.9789252 | -3.878687 | -2.9789252 |\n",
       "| 57357 | 194 | 7 | 2019 | Yuma, AZ: Yuma MCAS/Yuma International                   | YUM | 0 | 1 | 1 | 1 | 1 | ⋯ | 1 | 0 | 0 | 0 | 0 | 0 | 0.003948642 | -1.9999774 | -2.774094 | -1.9999774 |\n",
       "\n"
      ],
      "text/plain": [
       "      t   month year\n",
       "51461 178 3     2018\n",
       "51462 178 3     2018\n",
       "51463 178 3     2018\n",
       "51464 178 3     2018\n",
       "51465 178 3     2018\n",
       "51466 178 3     2018\n",
       "51467 178 3     2018\n",
       "51468 178 3     2018\n",
       "51469 178 3     2018\n",
       "51470 178 3     2018\n",
       "51471 178 3     2018\n",
       "51472 178 3     2018\n",
       "51473 178 3     2018\n",
       "51474 178 3     2018\n",
       "51475 178 3     2018\n",
       "51476 178 3     2018\n",
       "51477 178 3     2018\n",
       "51478 178 3     2018\n",
       "51479 178 3     2018\n",
       "51480 178 3     2018\n",
       "51481 178 3     2018\n",
       "51482 178 3     2018\n",
       "51483 178 3     2018\n",
       "51484 178 3     2018\n",
       "51485 178 3     2018\n",
       "51486 178 3     2018\n",
       "51487 178 3     2018\n",
       "51488 178 3     2018\n",
       "51489 178 3     2018\n",
       "51490 178 3     2018\n",
       "⋮     ⋮   ⋮     ⋮   \n",
       "57328 194 7     2019\n",
       "57329 194 7     2019\n",
       "57330 194 7     2019\n",
       "57331 194 7     2019\n",
       "57332 194 7     2019\n",
       "57333 194 7     2019\n",
       "57334 194 7     2019\n",
       "57335 194 7     2019\n",
       "57336 194 7     2019\n",
       "57337 194 7     2019\n",
       "57338 194 7     2019\n",
       "57339 194 7     2019\n",
       "57340 194 7     2019\n",
       "57341 194 7     2019\n",
       "57342 194 7     2019\n",
       "57343 194 7     2019\n",
       "57344 194 7     2019\n",
       "57345 194 7     2019\n",
       "57346 194 7     2019\n",
       "57347 194 7     2019\n",
       "57348 194 7     2019\n",
       "57349 194 7     2019\n",
       "57350 194 7     2019\n",
       "57351 194 7     2019\n",
       "57352 194 7     2019\n",
       "57353 194 7     2019\n",
       "57354 194 7     2019\n",
       "57355 194 7     2019\n",
       "57356 194 7     2019\n",
       "57357 194 7     2019\n",
       "      airport_name                                                       \n",
       "51461 Aberdeen, SD: Aberdeen Regional                                    \n",
       "51462 Abilene, TX: Abilene Regional                                      \n",
       "51463 Adak Island, AK: Adak                                              \n",
       "51464 Aguadilla, PR: Rafael Hernandez                                    \n",
       "51465 Akron, OH: Akron-Canton Regional                                   \n",
       "51466 Albany, GA: Southwest Georgia Regional                             \n",
       "51467 Albany, NY: Albany International                                   \n",
       "51468 Albuquerque, NM: Albuquerque International Sunport                 \n",
       "51469 Alexandria, LA: Alexandria International                           \n",
       "51470 Allentown/Bethlehem/Easton, PA: Lehigh Valley International        \n",
       "51471 Alpena, MI: Alpena County Regional                                 \n",
       "51472 Amarillo, TX: Rick Husband Amarillo International                  \n",
       "51473 Anchorage, AK: Ted Stevens Anchorage International                 \n",
       "51474 Appleton, WI: Appleton International                               \n",
       "51475 Arcata/Eureka, CA: California Redwood Coast Humboldt County        \n",
       "51476 Asheville, NC: Asheville Regional                                  \n",
       "51477 Ashland, WV: Tri-State/Milton J. Ferguson Field                    \n",
       "51478 Aspen, CO: Aspen Pitkin County Sardy Field                         \n",
       "51479 Atlanta, GA: Hartsfield-Jackson Atlanta International              \n",
       "51480 Atlantic City, NJ: Atlantic City International                     \n",
       "51481 Augusta, GA: Augusta Regional at Bush Field                        \n",
       "51482 Austin, TX: Austin - Bergstrom International                       \n",
       "51483 Bakersfield, CA: Meadows Field                                     \n",
       "51484 Baltimore, MD: Baltimore/Washington International Thurgood Marshall\n",
       "51485 Bangor, ME: Bangor International                                   \n",
       "51486 Barrow, AK: Wiley Post/Will Rogers Memorial                        \n",
       "51487 Baton Rouge, LA: Baton Rouge Metropolitan/Ryan Field               \n",
       "51488 Beaumont/Port Arthur, TX: Jack Brooks Regional                     \n",
       "51489 Belleville, IL: Scott AFB/MidAmerica                               \n",
       "51490 Bellingham, WA: Bellingham International                           \n",
       "⋮     ⋮                                                                  \n",
       "57328 Syracuse, NY: Syracuse Hancock International                       \n",
       "57329 Tallahassee, FL: Tallahassee International                         \n",
       "57330 Tampa, FL: Tampa International                                     \n",
       "57331 Texarkana, AR: Texarkana Regional-Webb Field                       \n",
       "57332 Toledo, OH: Toledo Express                                         \n",
       "57333 Traverse City, MI: Cherry Capital                                  \n",
       "57334 Trenton, NJ: Trenton Mercer                                        \n",
       "57335 Tucson, AZ: Tucson International                                   \n",
       "57336 Tulsa, OK: Tulsa International                                     \n",
       "57337 Twin Falls, ID: Joslin Field - Magic Valley Regional               \n",
       "57338 Tyler, TX: Tyler Pounds Regional                                   \n",
       "57339 Valdosta, GA: Valdosta Regional                                    \n",
       "57340 Valparaiso, FL: Eglin AFB Destin Fort Walton Beach                 \n",
       "57341 Vernal, UT: Vernal Regional                                        \n",
       "57342 Waco, TX: Waco Regional                                            \n",
       "57343 Washington, DC: Ronald Reagan Washington National                  \n",
       "57344 Washington, DC: Washington Dulles International                    \n",
       "57345 Waterloo, IA: Waterloo Regional                                    \n",
       "57346 Watertown, SD: Watertown Regional                                  \n",
       "57347 West Palm Beach/Palm Beach, FL: Palm Beach International           \n",
       "57348 West Yellowstone, MT: Yellowstone                                  \n",
       "57349 White Plains, NY: Westchester County                               \n",
       "57350 Wichita Falls, TX: Sheppard AFB/Wichita Falls Municipal            \n",
       "57351 Wichita, KS: Wichita Dwight D Eisenhower National                  \n",
       "57352 Williston, ND: Sloulin Field International                         \n",
       "57353 Wilmington, NC: Wilmington International                           \n",
       "57354 Worcester, MA: Worcester Regional                                  \n",
       "57355 Wrangell, AK: Wrangell Airport                                     \n",
       "57356 Yakutat, AK: Yakutat Airport                                       \n",
       "57357 Yuma, AZ: Yuma MCAS/Yuma International                             \n",
       "      airport covid control extra_mon extra_tue extra_wed ⋯ jul aug sep oct nov\n",
       "51461 ABR     0     1       0         0         0         ⋯ 0   0   0   0   0  \n",
       "51462 ABI     0     1       0         0         0         ⋯ 0   0   0   0   0  \n",
       "51463 ADK     0     1       0         0         0         ⋯ 0   0   0   0   0  \n",
       "51464 BQN     0     1       0         0         0         ⋯ 0   0   0   0   0  \n",
       "51465 CAK     0     1       0         0         0         ⋯ 0   0   0   0   0  \n",
       "51466 ABY     0     1       0         0         0         ⋯ 0   0   0   0   0  \n",
       "51467 ALB     0     1       0         0         0         ⋯ 0   0   0   0   0  \n",
       "51468 ABQ     0     1       0         0         0         ⋯ 0   0   0   0   0  \n",
       "51469 AEX     0     1       0         0         0         ⋯ 0   0   0   0   0  \n",
       "51470 ABE     0     1       0         0         0         ⋯ 0   0   0   0   0  \n",
       "51471 APN     0     1       0         0         0         ⋯ 0   0   0   0   0  \n",
       "51472 AMA     0     1       0         0         0         ⋯ 0   0   0   0   0  \n",
       "51473 ANC     0     1       0         0         0         ⋯ 0   0   0   0   0  \n",
       "51474 ATW     0     1       0         0         0         ⋯ 0   0   0   0   0  \n",
       "51475 ACV     0     1       0         0         0         ⋯ 0   0   0   0   0  \n",
       "51476 AVL     0     1       0         0         0         ⋯ 0   0   0   0   0  \n",
       "51477 HTS     0     1       0         0         0         ⋯ 0   0   0   0   0  \n",
       "51478 ASE     0     1       0         0         0         ⋯ 0   0   0   0   0  \n",
       "51479 ATL     0     1       0         0         0         ⋯ 0   0   0   0   0  \n",
       "51480 ACY     0     1       0         0         0         ⋯ 0   0   0   0   0  \n",
       "51481 AGS     0     1       0         0         0         ⋯ 0   0   0   0   0  \n",
       "51482 AUS     0     1       0         0         0         ⋯ 0   0   0   0   0  \n",
       "51483 BFL     0     1       0         0         0         ⋯ 0   0   0   0   0  \n",
       "51484 BWI     0     1       0         0         0         ⋯ 0   0   0   0   0  \n",
       "51485 BGR     0     1       0         0         0         ⋯ 0   0   0   0   0  \n",
       "51486 BRW     0     1       0         0         0         ⋯ 0   0   0   0   0  \n",
       "51487 BTR     0     1       0         0         0         ⋯ 0   0   0   0   0  \n",
       "51488 BPT     0     1       0         0         0         ⋯ 0   0   0   0   0  \n",
       "51489 BLV     0     1       0         0         0         ⋯ 0   0   0   0   0  \n",
       "51490 BLI     0     1       0         0         0         ⋯ 0   0   0   0   0  \n",
       "⋮     ⋮       ⋮     ⋮       ⋮         ⋮         ⋮         ⋱ ⋮   ⋮   ⋮   ⋮   ⋮  \n",
       "57328 SYR     0     1       1         1         1         ⋯ 1   0   0   0   0  \n",
       "57329 TLH     0     1       1         1         1         ⋯ 1   0   0   0   0  \n",
       "57330 TPA     0     1       1         1         1         ⋯ 1   0   0   0   0  \n",
       "57331 TXK     0     1       1         1         1         ⋯ 1   0   0   0   0  \n",
       "57332 TOL     0     1       1         1         1         ⋯ 1   0   0   0   0  \n",
       "57333 TVC     0     1       1         1         1         ⋯ 1   0   0   0   0  \n",
       "57334 TTN     0     1       1         1         1         ⋯ 1   0   0   0   0  \n",
       "57335 TUS     0     1       1         1         1         ⋯ 1   0   0   0   0  \n",
       "57336 TUL     0     1       1         1         1         ⋯ 1   0   0   0   0  \n",
       "57337 TWF     0     1       1         1         1         ⋯ 1   0   0   0   0  \n",
       "57338 TYR     0     1       1         1         1         ⋯ 1   0   0   0   0  \n",
       "57339 VLD     0     1       1         1         1         ⋯ 1   0   0   0   0  \n",
       "57340 VPS     0     1       1         1         1         ⋯ 1   0   0   0   0  \n",
       "57341 VEL     0     1       1         1         1         ⋯ 1   0   0   0   0  \n",
       "57342 ACT     0     1       1         1         1         ⋯ 1   0   0   0   0  \n",
       "57343 DCA     0     1       1         1         1         ⋯ 1   0   0   0   0  \n",
       "57344 IAD     0     1       1         1         1         ⋯ 1   0   0   0   0  \n",
       "57345 ALO     0     1       1         1         1         ⋯ 1   0   0   0   0  \n",
       "57346 ATY     0     1       1         1         1         ⋯ 1   0   0   0   0  \n",
       "57347 PBI     0     1       1         1         1         ⋯ 1   0   0   0   0  \n",
       "57348 WYS     0     1       1         1         1         ⋯ 1   0   0   0   0  \n",
       "57349 HPN     0     1       1         1         1         ⋯ 1   0   0   0   0  \n",
       "57350 SPS     0     1       1         1         1         ⋯ 1   0   0   0   0  \n",
       "57351 ICT     0     1       1         1         1         ⋯ 1   0   0   0   0  \n",
       "57352 ISN     0     1       1         1         1         ⋯ 1   0   0   0   0  \n",
       "57353 ILM     0     1       1         1         1         ⋯ 1   0   0   0   0  \n",
       "57354 ORH     0     1       1         1         1         ⋯ 1   0   0   0   0  \n",
       "57355 WRG     0     1       1         1         1         ⋯ 1   0   0   0   0  \n",
       "57356 YAK     0     1       1         1         1         ⋯ 1   0   0   0   0  \n",
       "57357 YUM     0     1       1         1         1         ⋯ 1   0   0   0   0  \n",
       "      dec arr_flights_n t_delay_rate t_new_delay_rate tc_delay_rate\n",
       "51461 0   0.0016212965  -2.6741486   -3.2949752       -2.6741486   \n",
       "51462 0   0.0037917418  -1.3862944   -1.9023058       -1.3862944   \n",
       "51463 0   0.0002353495  -0.6931472   -0.6931472       -0.6931472   \n",
       "51464 0   0.0037917418  -0.9998774   -1.5358017       -0.9998774   \n",
       "51465 0   0.0166313642  -1.1582044   -1.6464792       -1.1582044   \n",
       "51466 0   0.0023011951  -1.9459101   -2.1566312       -1.9459101   \n",
       "51467 0   0.0314322324  -1.3728296   -1.8029164       -1.3728296   \n",
       "51468 0   0.0494495437  -1.4271164   -2.0563912       -1.4271164   \n",
       "51469 0   0.0076619335  -1.7332633   -2.2570513       -1.7332633   \n",
       "51470 0   0.0096754792  -1.6422277   -1.9171033       -1.6422277   \n",
       "51471 0   0.0013859470  -1.8827312   -2.3047614       -1.8827312   \n",
       "51472 0   0.0107999268  -1.6778152   -2.4427063       -1.6778152   \n",
       "51473 0   0.0345963756  -1.7552019   -1.9637095       -1.7552019   \n",
       "51474 0   0.0093878298  -1.9683830   -2.4168031       -1.9683830   \n",
       "51475 0   0.0024319448  -1.5712167   -2.0665381       -1.5712167   \n",
       "51476 0   0.0145132188  -1.5397159   -2.0193989       -1.5397159   \n",
       "51477 0   0.0007583484  -1.8325815   -1.8325815       -1.8325815   \n",
       "51478 0   0.0279542899  -1.4506789   -1.8555038       -1.4506789   \n",
       "51479 0   0.8811223556  -1.9741216   -2.4307788       -1.9741216   \n",
       "51480 0   0.0081064826  -1.6017159   -1.8440324       -1.6017159   \n",
       "51481 0   0.0109568264  -1.6065767   -1.9826217       -1.6065767   \n",
       "51482 0   0.1347768102  -1.6620442   -2.0988908       -1.6620442   \n",
       "51483 0   0.0047069899  -1.8245493   -2.4846486       -1.8245493   \n",
       "51484 0   0.2360816924  -1.9403518   -2.4821337       -1.9403518   \n",
       "51485 0   0.0089171308  -1.4271164   -1.8684442       -1.4271164   \n",
       "51486 0   0.0016212965  -2.6741486   -3.3672958       -2.6741486   \n",
       "51487 0   0.0170759133  -1.9267958   -2.4067767       -1.9267958   \n",
       "51488 0   0.0016212965  -1.9095425   -2.6672282       -1.9095425   \n",
       "51489 0   0.0023796449  -1.0266388   -1.3511001       -1.0266388   \n",
       "51490 0   0.0071389347  -2.2094947   -2.6044595       -2.2094947   \n",
       "⋮     ⋮   ⋮             ⋮            ⋮                ⋮            \n",
       "57328 0   0.031327633   -1.0480521   -1.491680        -1.0480521   \n",
       "57329 0   0.015193117   -1.3884472   -1.999697        -1.3884472   \n",
       "57330 0   0.163437149   -1.1213552   -1.542420        -1.1213552   \n",
       "57331 0   0.003007244   -2.0600235   -3.221330        -2.0600235   \n",
       "57332 0   0.004811590   -1.4485982   -2.040221        -1.4485982   \n",
       "57333 0   0.017572762   -1.1713716   -1.654696        -1.1713716   \n",
       "57334 0   0.007295834   -1.0560527   -1.667876        -1.0560527   \n",
       "57335 0   0.037132920   -1.4354333   -2.017347        -1.4354333   \n",
       "57336 0   0.040061714   -1.3277606   -1.811490        -1.3277606   \n",
       "57337 0   0.002327345   -2.8213789   -2.821379        -2.8213789   \n",
       "57338 0   0.003477943   -1.9895852   -2.544058        -1.9895852   \n",
       "57339 0   0.002275045   -1.4900912   -1.753894        -1.4900912   \n",
       "57340 0   0.027954290   -1.2666479   -1.802537        -1.2666479   \n",
       "57341 0   0.001412097   -0.9555114   -1.392467        -0.9555114   \n",
       "57342 0   0.004680840   -1.3793257   -2.019986        -1.3793257   \n",
       "57343 0   0.305509793   -1.2366031   -1.675152        -1.2366031   \n",
       "57344 0   0.163541748   -1.2739601   -1.746266        -1.2739601   \n",
       "57345 0   0.001595147   -0.7178398   -1.618011        -0.7178398   \n",
       "57346 0   0.001490547   -1.0296194   -1.632317        -1.0296194   \n",
       "57347 0   0.045736252   -1.1085474   -1.556564        -1.1085474   \n",
       "57348 0   0.001699746   -2.2857780   -2.504764        -2.2857780   \n",
       "57349 0   0.026332993   -0.9541369   -1.425456        -0.9541369   \n",
       "57350 0   0.003007244   -2.2464956   -2.943286        -2.2464956   \n",
       "57351 0   0.024554797   -1.3585698   -1.881008        -1.3585698   \n",
       "57352 0   0.002301195   -2.3025851   -2.995732        -2.3025851   \n",
       "57353 0   0.016369865   -1.1635702   -1.705755        -1.1635702   \n",
       "57354 0   0.002431945   -0.6931472   -1.094588        -0.6931472   \n",
       "57355 0   0.001621297   -1.7730673   -2.057791        -1.7730673   \n",
       "57356 0   0.001621297   -2.9789252   -3.878687        -2.9789252   \n",
       "57357 0   0.003948642   -1.9999774   -2.774094        -1.9999774   "
      ]
     },
     "metadata": {},
     "output_type": "display_data"
    }
   ],
   "source": [
    "# we do it in python...S"
   ]
  },
  {
   "cell_type": "code",
   "execution_count": 62,
   "id": "093a0999-8b13-4a73-bc05-aece995696c7",
   "metadata": {},
   "outputs": [
    {
     "data": {
      "text/plain": [
       "\n",
       "Call: rlm(formula = t_delay_rate ~ covid + arr_flights_n + jan + feb + \n",
       "    mar + apr + may + jul + sep + oct + extra_tue + extra_thu + \n",
       "    extra_sat + ADK + ATL + ITO + CDB + EKO + LIH + HIB + BTM + \n",
       "    KOA + BJI + OGG + OTZ + BQN + LWS + PIH + ELM + ABR, data = data[newFilterTest, \n",
       "    ])\n",
       "Residuals:\n",
       "     Min       1Q   Median       3Q      Max \n",
       "-3.30446 -0.31535  0.01633  0.31197  3.39853 \n",
       "\n",
       "Coefficients:\n",
       "              Value    Std. Error t value \n",
       "(Intercept)    -1.6465   0.0167   -98.5074\n",
       "covid          -0.6846   0.0097   -70.3236\n",
       "arr_flights_n   0.3503   0.0564     6.2115\n",
       "jan            -0.2134   0.0226    -9.4282\n",
       "feb             0.4053   0.0253    16.0146\n",
       "mar            -0.2850   0.0172   -16.5652\n",
       "apr            -0.2894   0.0180   -16.0381\n",
       "may            -0.2231   0.0171   -13.0404\n",
       "jul             0.1725   0.0169    10.2024\n",
       "sep            -0.4363   0.0224   -19.4951\n",
       "oct            -0.3377   0.0227   -14.8462\n",
       "extra_tue       0.2253   0.0163    13.8422\n",
       "extra_thu       0.1260   0.0123    10.2425\n",
       "extra_sat       0.2435   0.0167    14.5779\n",
       "ADK             1.6155   0.1143    14.1350\n",
       "ATL            -0.5185   0.0977    -5.3082\n",
       "ITO            -1.2105   0.0899   -13.4712\n",
       "CDB             1.4078   0.1353    10.4090\n",
       "EKO            -0.9160   0.0973    -9.4154\n",
       "LIH            -0.8019   0.0898    -8.9245\n",
       "HIB            -0.8257   0.0926    -8.9138\n",
       "BTM            -0.7900   0.0912    -8.6609\n",
       "KOA            -0.6804   0.0898    -7.5728\n",
       "BJI            -0.6547   0.0899    -7.2851\n",
       "OGG            -0.4928   0.0898    -5.4853\n",
       "OTZ            -0.6341   0.0941    -6.7380\n",
       "BQN             0.7525   0.1117     6.7372\n",
       "LWS            -0.6236   0.0912    -6.8364\n",
       "PIH            -0.5981   0.0899    -6.6549\n",
       "ELM            -0.5670   0.0957    -5.9273\n",
       "ABR            -0.5759   0.0941    -6.1195\n",
       "\n",
       "Residual standard error: 0.4652 on 11649 degrees of freedom"
      ]
     },
     "metadata": {},
     "output_type": "display_data"
    },
    {
     "name": "stdout",
     "output_type": "stream",
     "text": [
      "[1] \"BIC=\"             \"20483.1851333957\"\n",
      "[1] \"AIC=\"             \"20247.4848691915\"\n"
     ]
    },
    {
     "data": {
      "image/png": "[encoded data removed]",
      "text/plain": [
       "Plot with title “Normal Q-Q Plot”"
      ]
     },
     "metadata": {
      "image/png": {
       "height": 420,
       "width": 420
      }
     },
     "output_type": "display_data"
    }
   ],
   "source": [
    "m <- MASS::rlm(t_delay_rate~ \n",
    "               covid\n",
    "               +arr_flights_n\n",
    "     \n",
    "               +jan\n",
    "               +feb\n",
    "               +mar\n",
    "               +apr\n",
    "               +may\n",
    "               +jul\n",
    "               +sep\n",
    "               +oct\n",
    "               +extra_tue\n",
    "               +extra_thu\n",
    "               +extra_sat\n",
    "               \n",
    "               +ADK\n",
    "               +ATL\n",
    "               +ITO\n",
    "               +CDB\n",
    "               +EKO\n",
    "               +LIH\n",
    "               +HIB\n",
    "               +BTM\n",
    "               +KOA\n",
    "               +BJI\n",
    "               +OGG\n",
    "               +OTZ\n",
    "               +BQN\n",
    "               +LWS\n",
    "               +PIH\n",
    "               +ELM\n",
    "               +ABR\n",
    "               ,data=data[newFilterTest,])\n",
    "summary(m)\n",
    "qqnorm(m$residuals); qqline(m$residuals)\n",
    "\n",
    "print(c(\"BIC=\",BIC(m)))\n",
    "print(c(\"AIC=\",AIC(m)))\n",
    "intermediate_noTop30 <- m"
   ]
  },
  {
   "cell_type": "code",
   "execution_count": 63,
   "id": "6aa89131-a71c-4572-a69b-b6570ed13421",
   "metadata": {},
   "outputs": [],
   "source": [
    "write.csv(coef(summary(intermediate_noTop30)),file=\"data/airport_x_months_intermediate_no_top30.csv\") "
   ]
  },
  {
   "cell_type": "code",
   "execution_count": 64,
   "id": "4d30d08c-5cd5-4add-be92-72318023a644",
   "metadata": {},
   "outputs": [],
   "source": [
    "write.csv(coef(summary(intermediate)),file=\"data/airport_x_months_intermediate2.csv\") "
   ]
  },
  {
   "cell_type": "code",
   "execution_count": null,
   "id": "dcc12f7e-94bd-4109-8ba8-e17c139d2e27",
   "metadata": {},
   "outputs": [],
   "source": [
    "# checking time effects"
   ]
  },
  {
   "cell_type": "code",
   "execution_count": 81,
   "id": "3d97fe15-2022-4f43-8218-8581760d05ca",
   "metadata": {},
   "outputs": [
    {
     "data": {
      "text/plain": [
       "\n",
       "Call: rlm(formula = t_delay_rate ~ jan + feb + mar + apr + may + jun + \n",
       "    jul + aug + sep + oct + nov + extra_mon + extra_tue + extra_wed + \n",
       "    extra_thu + extra_fri + extra_sat + extra_sun + ITO, data = data[finiteFilter & \n",
       "    data$year < 2020 & data$year > 2003, ])\n",
       "Residuals:\n",
       "     Min       1Q   Median       3Q      Max \n",
       "-3.56666 -0.29392  0.01692  0.29427  3.44751 \n",
       "\n",
       "Coefficients:\n",
       "            Value    Std. Error t value \n",
       "(Intercept)  -0.8465   0.0501   -16.8980\n",
       "jan          -0.1803   0.0099   -18.2493\n",
       "feb          -0.5431   0.0468   -11.6078\n",
       "mar          -0.2916   0.0099   -29.5816\n",
       "apr          -0.5503   0.0193   -28.5179\n",
       "may          -0.3625   0.0099   -36.6943\n",
       "jun          -0.1632   0.0192    -8.4815\n",
       "jul          -0.0619   0.0098    -6.2981\n",
       "aug          -0.1856   0.0098   -18.8906\n",
       "sep          -0.7113   0.0193   -36.9491\n",
       "oct          -0.5056   0.0099   -51.2720\n",
       "nov          -0.6330   0.0193   -32.8221\n",
       "extra_mon    -0.1238   0.0172    -7.2015\n",
       "extra_tue    -0.1125   0.0180    -6.2539\n",
       "extra_wed    -0.1076   0.0169    -6.3506\n",
       "extra_thu    -0.1493   0.0179    -8.3407\n",
       "extra_fri    -0.1111   0.0169    -6.5594\n",
       "extra_sat    -0.1138   0.0179    -6.3467\n",
       "extra_sun    -0.1385   0.0172    -8.0522\n",
       "ITO          -1.1962   0.0347   -34.5061\n",
       "\n",
       "Residual standard error: 0.4361 on 56764 degrees of freedom"
      ]
     },
     "metadata": {},
     "output_type": "display_data"
    },
    {
     "name": "stdout",
     "output_type": "stream",
     "text": [
      "[1] \"BIC=\"             \"91967.1376307043\"\n",
      "[1] \"AIC=\"             \"91779.2504233316\"\n"
     ]
    },
    {
     "data": {
      "image/png": "[encoded data removed]",
      "text/plain": [
       "Plot with title “Normal Q-Q Plot”"
      ]
     },
     "metadata": {
      "image/png": {
       "height": 420,
       "width": 420
      }
     },
     "output_type": "display_data"
    }
   ],
   "source": [
    "m <- MASS::rlm(t_delay_rate~ \n",
    "               \n",
    "               \n",
    "               jan\n",
    "               +feb\n",
    "               +mar\n",
    "               +apr\n",
    "               +may\n",
    "               +jun\n",
    "               +jul\n",
    "               +aug\n",
    "               +sep\n",
    "               +oct\n",
    "               +nov\n",
    "               +extra_mon\n",
    "               +extra_tue\n",
    "               +extra_wed\n",
    "               +extra_thu\n",
    "               +extra_fri\n",
    "               +extra_sat\n",
    "               +extra_sun\n",
    "               +ITO\n",
    "             \n",
    "               ,data=data[finiteFilter&data$year<2020&data$year>2003,])\n",
    "summary(m)\n",
    "qqnorm(m$residuals); qqline(m$residuals)\n",
    "\n",
    "print(c(\"BIC=\",BIC(m)))\n",
    "print(c(\"AIC=\",AIC(m)))\n"
   ]
  },
  {
   "cell_type": "code",
   "execution_count": 78,
   "id": "c6f8ccd8-5fcd-4e10-9c11-bbce0ac9b91e",
   "metadata": {},
   "outputs": [],
   "source": [
    "write.csv(coef(summary(m)),file=\"data/time_effect_model.csv\") "
   ]
  },
  {
   "cell_type": "code",
   "execution_count": 88,
   "id": "b92847ff-d9ea-4298-b6be-face35d48eb2",
   "metadata": {},
   "outputs": [],
   "source": [
    "data[\"arr_flights_n2\"] = data$arr_flights_n ^2\n",
    "data[\"arr_flights_n3\"] = data$arr_flights_n ^3\n",
    "data[\"arr_flights_n_sqrt\"] = data$arr_flights_n ^0.5"
   ]
  },
  {
   "cell_type": "code",
   "execution_count": 103,
   "id": "4bcbcb21-ce0a-445c-87ac-de1354701fca",
   "metadata": {},
   "outputs": [],
   "source": [
    "data[\"arr_flights_n_log\"] = log(data$arr_flights_n)"
   ]
  },
  {
   "cell_type": "code",
   "execution_count": 136,
   "id": "5c3d8548-0336-470c-9982-2444e281c0c4",
   "metadata": {},
   "outputs": [],
   "source": [
    "data[\"arr_flights_n_root\"] = data$arr_flights_n ^0.54"
   ]
  },
  {
   "cell_type": "code",
   "execution_count": 146,
   "id": "7e222613-2d19-4e0e-9591-12a1dfa6ec7f",
   "metadata": {},
   "outputs": [
    {
     "name": "stdout",
     "output_type": "stream",
     "text": [
      "[1] \"BIC=\"             \"20284.9871455485\"\n",
      "[1] \"AIC=\"             \"20041.9212480879\"\n"
     ]
    },
    {
     "data": {
      "text/plain": [
       "\n",
       "Call: rlm(formula = t_delay_rate ~ covid + arr_flights_n_sqrt + top30 + \n",
       "    jan + feb + mar + apr + may + jul + sep + oct + extra_tue + \n",
       "    extra_thu + extra_sat + ADK + ATL + ITO + CDB + EKO + LIH + \n",
       "    HIB + BTM + KOA + BJI + OGG + OTZ + BQN + LWS + PIH + ELM + \n",
       "    ABR, data = data[newFilterTest, ])\n",
       "Residuals:\n",
       "      Min        1Q    Median        3Q       Max \n",
       "-3.323094 -0.313833  0.007141  0.309717  3.450324 \n",
       "\n",
       "Coefficients:\n",
       "                   Value    Std. Error t value \n",
       "(Intercept)         -1.7406   0.0176   -98.9725\n",
       "covid               -0.6581   0.0097   -67.7903\n",
       "arr_flights_n_sqrt   0.9602   0.0584    16.4537\n",
       "top30               -0.4169   0.0288   -14.4725\n",
       "jan                 -0.2125   0.0224    -9.5046\n",
       "feb                  0.4128   0.0250    16.5146\n",
       "mar                 -0.2970   0.0170   -17.4677\n",
       "apr                 -0.2898   0.0178   -16.2598\n",
       "may                 -0.2252   0.0169   -13.3271\n",
       "jul                  0.1692   0.0167    10.1291\n",
       "sep                 -0.4349   0.0221   -19.6768\n",
       "oct                 -0.3384   0.0225   -15.0638\n",
       "extra_tue            0.2250   0.0161    14.0007\n",
       "extra_thu            0.1264   0.0121    10.4019\n",
       "extra_sat            0.2453   0.0165    14.8707\n",
       "ADK                  1.6753   0.1130    14.8302\n",
       "ATL                 -0.5751   0.0923    -6.2303\n",
       "ITO                 -1.2260   0.0887   -13.8148\n",
       "CDB                  1.4558   0.1336    10.8954\n",
       "EKO                 -0.8667   0.0961    -9.0153\n",
       "LIH                 -0.8551   0.0888    -9.6316\n",
       "HIB                 -0.7782   0.0915    -8.5006\n",
       "BTM                 -0.7452   0.0901    -8.2674\n",
       "KOA                 -0.7433   0.0888    -8.3698\n",
       "BJI                 -0.6075   0.0888    -6.8404\n",
       "OGG                 -0.6016   0.0890    -6.7616\n",
       "OTZ                 -0.5856   0.0930    -6.2961\n",
       "BQN                  0.7796   0.1103     7.0677\n",
       "LWS                 -0.5829   0.0901    -6.4674\n",
       "PIH                 -0.5607   0.0888    -6.3149\n",
       "ELM                 -0.5299   0.0945    -5.6062\n",
       "ABR                 -0.5308   0.0930    -5.7077\n",
       "\n",
       "Residual standard error: 0.4628 on 11648 degrees of freedom"
      ]
     },
     "metadata": {},
     "output_type": "display_data"
    },
    {
     "data": {
      "image/png": "[encoded data removed]",
      "text/plain": [
       "Plot with title “Normal Q-Q Plot”"
      ]
     },
     "metadata": {
      "image/png": {
       "height": 420,
       "width": 420
      }
     },
     "output_type": "display_data"
    }
   ],
   "source": [
    "m <- MASS::rlm(t_delay_rate~ \n",
    "               covid\n",
    "               +arr_flights_n_sqrt\n",
    "               +top30\n",
    "               +jan\n",
    "               +feb\n",
    "               +mar\n",
    "               +apr\n",
    "               +may\n",
    "               +jul\n",
    "               +sep\n",
    "               +oct\n",
    "               +extra_tue\n",
    "               +extra_thu\n",
    "               +extra_sat\n",
    "               \n",
    "               +ADK\n",
    "               +ATL\n",
    "               +ITO\n",
    "               +CDB\n",
    "               +EKO\n",
    "               +LIH\n",
    "               +HIB\n",
    "               +BTM\n",
    "               +KOA\n",
    "               +BJI\n",
    "               +OGG\n",
    "               +OTZ\n",
    "               +BQN\n",
    "               +LWS\n",
    "               +PIH\n",
    "               +ELM\n",
    "               +ABR\n",
    "               ,data=data[newFilterTest,])\n",
    "print(c(\"BIC=\",BIC(m)))\n",
    "print(c(\"AIC=\",AIC(m)))\n",
    "summary(m)\n",
    "qqnorm(m$residuals); qqline(m$residuals)\n",
    "\n",
    "sqr_model <- m"
   ]
  },
  {
   "cell_type": "code",
   "execution_count": 147,
   "id": "b5002499-ef34-4374-a3e9-04d65481ad9a",
   "metadata": {},
   "outputs": [],
   "source": [
    "write.csv(coef(summary(sqr_model)),file=\"data/sqrt_model.csv\") "
   ]
  },
  {
   "cell_type": "code",
   "execution_count": null,
   "id": "0bc2576c-4e24-4920-af35-01da93a42952",
   "metadata": {},
   "outputs": [],
   "source": []
  }
 ],
 "metadata": {
  "kernelspec": {
   "display_name": "R",
   "language": "R",
   "name": "ir"
  },
  "language_info": {
   "codemirror_mode": "r",
   "file_extension": ".r",
   "mimetype": "text/x-r-source",
   "name": "R",
   "pygments_lexer": "r",
   "version": "4.1.2"
  }
 },
 "nbformat": 4,
 "nbformat_minor": 5
}
